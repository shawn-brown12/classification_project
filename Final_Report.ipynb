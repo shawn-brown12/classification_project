{
 "cells": [
  {
   "cell_type": "markdown",
   "id": "ec11a5b2",
   "metadata": {},
   "source": [
    "# Churn within the Realm of Telecom"
   ]
  },
  {
   "cell_type": "markdown",
   "id": "71e7922e",
   "metadata": {},
   "source": [
    "## Project Goals\n",
    "\n",
    "- Discovers the biggest drivers of customer churn.  \n",
    "\n",
    "- Use those drivers to develope machine learning models to accurately classify customers as either churned or not churned.\n",
    "\n",
    "- Deliver a report that a non-techincal person can read and understand what steps were taken, why they were taken, and the outcomes from those steps."
   ]
  },
  {
   "cell_type": "markdown",
   "id": "f0e4fe15",
   "metadata": {},
   "source": [
    "# Imports"
   ]
  },
  {
   "cell_type": "code",
   "execution_count": 3,
   "id": "acee65c6",
   "metadata": {},
   "outputs": [],
   "source": [
    "import pandas as pd\n",
    "import numpy as np\n",
    "import seaborn as sns\n",
    "import matplotlib.pyplot as plt\n",
    "from scipy import stats\n",
    "\n",
    "import acquire\n",
    "import prepare\n",
    "\n",
    "from sklearn.model_selection import train_test_split\n",
    "from sklearn.tree import DecisionTreeClassifier, plot_tree\n",
    "from sklearn.ensemble import RandomForestClassifier\n",
    "from sklearn.neighbors import KNeighborsClassifier\n",
    "from sklearn.linear_model import LogisticRegression\n",
    "from sklearn.metrics import classification_report, confusion_matrix, plot_confusion_matrix\n",
    "\n",
    "import warnings\n",
    "warnings.filterwarnings('ignore')\n",
    "\n",
    "%matplotlib inline\n",
    "pd.options.display.max_columns = None"
   ]
  },
  {
   "cell_type": "markdown",
   "id": "c732e36d",
   "metadata": {},
   "source": [
    "# Acquire\n",
    "\n",
    "- I obtained my data from the Codeup MySQL server, though this dataset is available online\n",
    "\n",
    "- I got my data on 1/2/23\n",
    "\n",
    "- The dataset is 7043 rows by 25 columns\n",
    "\n",
    "- Each observation is an individual customer\n",
    "\n",
    "- Each row represents something about that customer"
   ]
  },
  {
   "cell_type": "code",
   "execution_count": 8,
   "id": "eb49c0a5",
   "metadata": {},
   "outputs": [
    {
     "data": {
      "text/html": [
       "<div>\n",
       "<style scoped>\n",
       "    .dataframe tbody tr th:only-of-type {\n",
       "        vertical-align: middle;\n",
       "    }\n",
       "\n",
       "    .dataframe tbody tr th {\n",
       "        vertical-align: top;\n",
       "    }\n",
       "\n",
       "    .dataframe thead th {\n",
       "        text-align: right;\n",
       "    }\n",
       "</style>\n",
       "<table border=\"1\" class=\"dataframe\">\n",
       "  <thead>\n",
       "    <tr style=\"text-align: right;\">\n",
       "      <th></th>\n",
       "      <th>Unnamed: 0</th>\n",
       "      <th>payment_type_id</th>\n",
       "      <th>internet_service_type_id</th>\n",
       "      <th>contract_type_id</th>\n",
       "      <th>customer_id</th>\n",
       "      <th>gender</th>\n",
       "      <th>senior_citizen</th>\n",
       "      <th>partner</th>\n",
       "      <th>dependents</th>\n",
       "      <th>tenure</th>\n",
       "      <th>phone_service</th>\n",
       "      <th>multiple_lines</th>\n",
       "      <th>online_security</th>\n",
       "      <th>online_backup</th>\n",
       "      <th>device_protection</th>\n",
       "      <th>tech_support</th>\n",
       "      <th>streaming_tv</th>\n",
       "      <th>streaming_movies</th>\n",
       "      <th>paperless_billing</th>\n",
       "      <th>monthly_charges</th>\n",
       "      <th>total_charges</th>\n",
       "      <th>churn</th>\n",
       "      <th>contract_type</th>\n",
       "      <th>internet_service_type</th>\n",
       "      <th>payment_type</th>\n",
       "    </tr>\n",
       "  </thead>\n",
       "  <tbody>\n",
       "    <tr>\n",
       "      <th>0</th>\n",
       "      <td>0</td>\n",
       "      <td>2</td>\n",
       "      <td>1</td>\n",
       "      <td>2</td>\n",
       "      <td>0002-ORFBO</td>\n",
       "      <td>Female</td>\n",
       "      <td>0</td>\n",
       "      <td>Yes</td>\n",
       "      <td>Yes</td>\n",
       "      <td>9</td>\n",
       "      <td>Yes</td>\n",
       "      <td>No</td>\n",
       "      <td>No</td>\n",
       "      <td>Yes</td>\n",
       "      <td>No</td>\n",
       "      <td>Yes</td>\n",
       "      <td>Yes</td>\n",
       "      <td>No</td>\n",
       "      <td>Yes</td>\n",
       "      <td>65.6</td>\n",
       "      <td>593.3</td>\n",
       "      <td>No</td>\n",
       "      <td>One year</td>\n",
       "      <td>DSL</td>\n",
       "      <td>Mailed check</td>\n",
       "    </tr>\n",
       "  </tbody>\n",
       "</table>\n",
       "</div>"
      ],
      "text/plain": [
       "   Unnamed: 0  payment_type_id  internet_service_type_id  contract_type_id  \\\n",
       "0           0                2                         1                 2   \n",
       "\n",
       "  customer_id  gender  senior_citizen partner dependents  tenure  \\\n",
       "0  0002-ORFBO  Female               0     Yes        Yes       9   \n",
       "\n",
       "  phone_service multiple_lines online_security online_backup  \\\n",
       "0           Yes             No              No           Yes   \n",
       "\n",
       "  device_protection tech_support streaming_tv streaming_movies  \\\n",
       "0                No          Yes          Yes               No   \n",
       "\n",
       "  paperless_billing  monthly_charges total_charges churn contract_type  \\\n",
       "0               Yes             65.6         593.3    No      One year   \n",
       "\n",
       "  internet_service_type  payment_type  \n",
       "0                   DSL  Mailed check  "
      ]
     },
     "execution_count": 8,
     "metadata": {},
     "output_type": "execute_result"
    }
   ],
   "source": [
    "#this pulls my data from the .csv file and \n",
    "#shows the first row, to get a feel for the columns\n",
    "data = acquire.get_telco_data()\n",
    "\n",
    "data.head(1)"
   ]
  },
  {
   "cell_type": "markdown",
   "id": "7b5117c9",
   "metadata": {},
   "source": [
    "# Prepare\n",
    "\n",
    "- After acquiring my data, the first thing I did was to replace empty spaces in the 'total_charges' column with zeroes, so that I could convert the data type to float.\n",
    "\n",
    "- After that, I checked to see if there were any null values, or anything that might of significance that could skew my results. After performing some lines of code, I determined that there weren't any outliers of enough significance to drop them. I didn't run into any nulls.\n",
    "\n",
    "- After that, I made dummy columns for all of my categorical columns to convert them into useful, numeric values. With a couple of the columns, like the 'multiple_lines' column, it created a dummy that wasn't helpful, called 'multiple_lines_No phone service', so I manually dropped those and then cleared out all of the columns that the dummies originated from, and concatenated the dummies together with the cleaned dataframe."
   ]
  },
  {
   "cell_type": "code",
   "execution_count": 9,
   "id": "f17c9a41",
   "metadata": {},
   "outputs": [
    {
     "data": {
      "text/html": [
       "<div>\n",
       "<style scoped>\n",
       "    .dataframe tbody tr th:only-of-type {\n",
       "        vertical-align: middle;\n",
       "    }\n",
       "\n",
       "    .dataframe tbody tr th {\n",
       "        vertical-align: top;\n",
       "    }\n",
       "\n",
       "    .dataframe thead th {\n",
       "        text-align: right;\n",
       "    }\n",
       "</style>\n",
       "<table border=\"1\" class=\"dataframe\">\n",
       "  <thead>\n",
       "    <tr style=\"text-align: right;\">\n",
       "      <th></th>\n",
       "      <th>customer_id</th>\n",
       "      <th>senior_citizen</th>\n",
       "      <th>tenure</th>\n",
       "      <th>monthly_charges</th>\n",
       "      <th>total_charges</th>\n",
       "      <th>contract_type</th>\n",
       "      <th>internet_service_type</th>\n",
       "      <th>churn_Yes</th>\n",
       "      <th>gender_Male</th>\n",
       "      <th>partner_Yes</th>\n",
       "      <th>dependents_Yes</th>\n",
       "      <th>phone_service_Yes</th>\n",
       "      <th>multiple_lines_Yes</th>\n",
       "      <th>online_security_Yes</th>\n",
       "      <th>online_backup_Yes</th>\n",
       "      <th>device_protection_Yes</th>\n",
       "      <th>tech_support_Yes</th>\n",
       "      <th>streaming_tv_Yes</th>\n",
       "      <th>streaming_movies_Yes</th>\n",
       "      <th>paperless_billing_Yes</th>\n",
       "      <th>contract_type_Month-to-month</th>\n",
       "      <th>contract_type_One year</th>\n",
       "      <th>contract_type_Two year</th>\n",
       "      <th>internet_service_type_DSL</th>\n",
       "      <th>internet_service_type_Fiber optic</th>\n",
       "      <th>internet_service_type_None</th>\n",
       "      <th>payment_type_Bank transfer (automatic)</th>\n",
       "      <th>payment_type_Credit card (automatic)</th>\n",
       "      <th>payment_type_Electronic check</th>\n",
       "      <th>payment_type_Mailed check</th>\n",
       "    </tr>\n",
       "  </thead>\n",
       "  <tbody>\n",
       "    <tr>\n",
       "      <th>0</th>\n",
       "      <td>0002-ORFBO</td>\n",
       "      <td>0</td>\n",
       "      <td>9</td>\n",
       "      <td>65.6</td>\n",
       "      <td>593.3</td>\n",
       "      <td>One year</td>\n",
       "      <td>DSL</td>\n",
       "      <td>0</td>\n",
       "      <td>0</td>\n",
       "      <td>1</td>\n",
       "      <td>1</td>\n",
       "      <td>1</td>\n",
       "      <td>0</td>\n",
       "      <td>0</td>\n",
       "      <td>1</td>\n",
       "      <td>0</td>\n",
       "      <td>1</td>\n",
       "      <td>1</td>\n",
       "      <td>0</td>\n",
       "      <td>1</td>\n",
       "      <td>0</td>\n",
       "      <td>1</td>\n",
       "      <td>0</td>\n",
       "      <td>1</td>\n",
       "      <td>0</td>\n",
       "      <td>0</td>\n",
       "      <td>0</td>\n",
       "      <td>0</td>\n",
       "      <td>0</td>\n",
       "      <td>1</td>\n",
       "    </tr>\n",
       "  </tbody>\n",
       "</table>\n",
       "</div>"
      ],
      "text/plain": [
       "  customer_id  senior_citizen  tenure  monthly_charges  total_charges  \\\n",
       "0  0002-ORFBO               0       9             65.6          593.3   \n",
       "\n",
       "  contract_type internet_service_type  churn_Yes  gender_Male  partner_Yes  \\\n",
       "0      One year                   DSL          0            0            1   \n",
       "\n",
       "   dependents_Yes  phone_service_Yes  multiple_lines_Yes  online_security_Yes  \\\n",
       "0               1                  1                   0                    0   \n",
       "\n",
       "   online_backup_Yes  device_protection_Yes  tech_support_Yes  \\\n",
       "0                  1                      0                 1   \n",
       "\n",
       "   streaming_tv_Yes  streaming_movies_Yes  paperless_billing_Yes  \\\n",
       "0                 1                     0                      1   \n",
       "\n",
       "   contract_type_Month-to-month  contract_type_One year  \\\n",
       "0                             0                       1   \n",
       "\n",
       "   contract_type_Two year  internet_service_type_DSL  \\\n",
       "0                       0                          1   \n",
       "\n",
       "   internet_service_type_Fiber optic  internet_service_type_None  \\\n",
       "0                                  0                           0   \n",
       "\n",
       "   payment_type_Bank transfer (automatic)  \\\n",
       "0                                       0   \n",
       "\n",
       "   payment_type_Credit card (automatic)  payment_type_Electronic check  \\\n",
       "0                                     0                              0   \n",
       "\n",
       "   payment_type_Mailed check  \n",
       "0                          1  "
      ]
     },
     "execution_count": 9,
     "metadata": {},
     "output_type": "execute_result"
    }
   ],
   "source": [
    "#this uses my function to clean the data and \n",
    "#shows the first row to compare to the uncleaned dataframe\n",
    "data = prepare.prep_telco(data)\n",
    "\n",
    "data.head(1)"
   ]
  },
  {
   "cell_type": "code",
   "execution_count": 11,
   "id": "13998ea6",
   "metadata": {},
   "outputs": [],
   "source": [
    "#this separates my data into my train, validate, and test sets\n",
    "train, val, test = prepare.split_train_test(data, 'churn_Yes')"
   ]
  },
  {
   "cell_type": "code",
   "execution_count": 12,
   "id": "79dc3ef6",
   "metadata": {},
   "outputs": [
    {
     "data": {
      "text/plain": [
       "((3521, 30), (2113, 30), (1409, 30))"
      ]
     },
     "execution_count": 12,
     "metadata": {},
     "output_type": "execute_result"
    }
   ],
   "source": [
    "#this is simply to confirm that the proportions of the sets look correct\n",
    "train.shape, val.shape, test.shape"
   ]
  },
  {
   "cell_type": "markdown",
   "id": "9e9f7596",
   "metadata": {},
   "source": [
    "# Explore"
   ]
  },
  {
   "cell_type": "markdown",
   "id": "27913cde",
   "metadata": {},
   "source": [
    "## Is whether or not a customer churns dependent of their internet service type?"
   ]
  },
  {
   "cell_type": "code",
   "execution_count": 15,
   "id": "8e0be21e",
   "metadata": {},
   "outputs": [
    {
     "data": {
      "image/png": "[encoded data removed]",
      "text/plain": [
       "<Figure size 640x480 with 1 Axes>"
      ]
     },
     "metadata": {},
     "output_type": "display_data"
    }
   ],
   "source": [
    "#This block of code creates by bar chart\n",
    "sns.barplot(x='internet_service_type', y='churn_Yes', \n",
    "            data=train, palette='cool')\n",
    "#I'm creating a line that goes across the chart that shows the average\n",
    "churn_rate = train.churn_Yes.mean()\n",
    "plt.axhline(churn_rate, label=\"Average Churn\")\n",
    "\n",
    "#creating labels and a title\n",
    "plt.title('Does Having a Specific Internet Type Effect If you Churn?')\n",
    "plt.xlabel('Internet Service Types')\n",
    "plt.ylabel('Percentage of Churned Customers')\n",
    "\n",
    "#making sure the legend appears\n",
    "plt.legend()\n",
    "plt.show()"
   ]
  },
  {
   "cell_type": "markdown",
   "id": "f660476f",
   "metadata": {},
   "source": [
    "- The main takeaway here is that it really seems like there is a realtionship between churn and internet service type.\n",
    "\n",
    "- The other point to note is that this might indicate there are improvements that can be made for the fiber optic customers."
   ]
  },
  {
   "cell_type": "markdown",
   "id": "eeee22c6",
   "metadata": {},
   "source": [
    "For this question, I decided it would be useful to dig deeper and perform a statistical test to help back up my assumptions. Since we are talking about two categorical variables here, I used a chi-square test to determine if there was a relationship.\n",
    "\n",
    "My $H_a$ here is that there is **no** significant relationship between churn and internet service types.\n",
    "\n",
    "My $H_o$ is that there **is** a relationship of significance."
   ]
  },
  {
   "cell_type": "code",
   "execution_count": 16,
   "id": "9c951cde",
   "metadata": {},
   "outputs": [],
   "source": [
    "#creating a crosstab of the relevant data to prepare for my test\n",
    "\n",
    "observed = pd.crosstab(train.internet_service_type, train.churn_Yes)"
   ]
  },
  {
   "cell_type": "code",
   "execution_count": 17,
   "id": "743da154",
   "metadata": {},
   "outputs": [
    {
     "data": {
      "text/html": [
       "<div>\n",
       "<style scoped>\n",
       "    .dataframe tbody tr th:only-of-type {\n",
       "        vertical-align: middle;\n",
       "    }\n",
       "\n",
       "    .dataframe tbody tr th {\n",
       "        vertical-align: top;\n",
       "    }\n",
       "\n",
       "    .dataframe thead th {\n",
       "        text-align: right;\n",
       "    }\n",
       "</style>\n",
       "<table border=\"1\" class=\"dataframe\">\n",
       "  <thead>\n",
       "    <tr style=\"text-align: right;\">\n",
       "      <th>churn_Yes</th>\n",
       "      <th>0</th>\n",
       "      <th>1</th>\n",
       "    </tr>\n",
       "    <tr>\n",
       "      <th>internet_service_type</th>\n",
       "      <th></th>\n",
       "      <th></th>\n",
       "    </tr>\n",
       "  </thead>\n",
       "  <tbody>\n",
       "    <tr>\n",
       "      <th>DSL</th>\n",
       "      <td>998</td>\n",
       "      <td>242</td>\n",
       "    </tr>\n",
       "    <tr>\n",
       "      <th>Fiber optic</th>\n",
       "      <td>892</td>\n",
       "      <td>632</td>\n",
       "    </tr>\n",
       "    <tr>\n",
       "      <th>None</th>\n",
       "      <td>697</td>\n",
       "      <td>60</td>\n",
       "    </tr>\n",
       "  </tbody>\n",
       "</table>\n",
       "</div>"
      ],
      "text/plain": [
       "churn_Yes                0    1\n",
       "internet_service_type          \n",
       "DSL                    998  242\n",
       "Fiber optic            892  632\n",
       "None                   697   60"
      ]
     },
     "execution_count": 17,
     "metadata": {},
     "output_type": "execute_result"
    }
   ],
   "source": [
    "#confirming it worked by showing the crosstab\n",
    "#0 here being not having churned and 1 meaning yes\n",
    "observed"
   ]
  },
  {
   "cell_type": "code",
   "execution_count": 19,
   "id": "a256af59",
   "metadata": {},
   "outputs": [],
   "source": [
    "#setting my alpha to determine how accurate I want to be\n",
    "alpha = 0.05"
   ]
  },
  {
   "cell_type": "code",
   "execution_count": 18,
   "id": "68f1ba81",
   "metadata": {},
   "outputs": [],
   "source": [
    "#the next step of the chi2 test\n",
    "chi2, p, degf, expected = stats.chi2_contingency(observed)"
   ]
  },
  {
   "cell_type": "code",
   "execution_count": 20,
   "id": "7e08e9c5",
   "metadata": {},
   "outputs": [
    {
     "name": "stdout",
     "output_type": "stream",
     "text": [
      "Observed Values\n",
      "\n",
      "[[998 242]\n",
      " [892 632]\n",
      " [697  60]]\n",
      "---\n",
      "Expected Values\n",
      "\n",
      "[[ 911  328]\n",
      " [1119  404]\n",
      " [ 556  200]]\n",
      "---\n",
      "\n",
      "chi^2 = 340.2563\n",
      "p     = 0.0000\n",
      "Is p-value < alpha? True\n"
     ]
    }
   ],
   "source": [
    "print('Observed Values\\n')\n",
    "\n",
    "# print the values from the 'observed' dataframe\n",
    "print(observed.values)\n",
    "\n",
    "# print --- and then a new line, 'Expected Values', followed by another new line\n",
    "print('---\\nExpected Values\\n')\n",
    "\n",
    "# print the expected values array\n",
    "print(expected.astype(int))\n",
    "print('---\\n')\n",
    "\n",
    "# print the chi2 value, formatted to a float with 4 digits. \n",
    "print(f'chi^2 = {chi2:.4f}') \n",
    "\n",
    "# print the p-value, formatted to a float with 4 digits. \n",
    "print(f'p     = {p:.4f}')\n",
    "print('Is p-value < alpha?', p < alpha)"
   ]
  },
  {
   "cell_type": "markdown",
   "id": "38fd50b1",
   "metadata": {},
   "source": [
    "So in this test, my p-value is extremely low, which indicates thats its highly likely that there **is** a significant relationship between churn and internet service type. Thus, with this, we can reject our null hypothesis. This would make this an excellent driver for churn to use in our modeling."
   ]
  },
  {
   "cell_type": "markdown",
   "id": "a5afe8f5",
   "metadata": {},
   "source": [
    "## What is the relationship between phone service and churn?"
   ]
  },
  {
   "cell_type": "code",
   "execution_count": 27,
   "id": "5f203941",
   "metadata": {},
   "outputs": [
    {
     "data": {
      "image/png": "[encoded data removed]",
      "text/plain": [
       "<Figure size 640x480 with 1 Axes>"
      ]
     },
     "metadata": {},
     "output_type": "display_data"
    }
   ],
   "source": [
    "#code to create the barplot\n",
    "sns.barplot(x='phone_service_Yes', \n",
    "            y='churn_Yes', data=train,\n",
    "            palette='pastel')\n",
    "\n",
    "#creating labels and a title\n",
    "plt.title('Is there a Relationship Between Phone Service and Churn?')\n",
    "plt.xlabel('Phone Service')\n",
    "plt.ylabel('Churned')\n",
    "\n",
    "plt.show()"
   ]
  },
  {
   "cell_type": "markdown",
   "id": "19433c3f",
   "metadata": {},
   "source": [
    "- The number of customers who had phone service and churned compared to the number who didn't have phone service and churned is close enough that I decided to move on to my next question.\n",
    "\n",
    "- Because there appears to be no real significance, this wouldn't make a good driver for our models."
   ]
  },
  {
   "cell_type": "markdown",
   "id": "6a792ca3",
   "metadata": {},
   "source": [
    "## Do monthly charges differ for different contract types?"
   ]
  },
  {
   "cell_type": "code",
   "execution_count": 29,
   "id": "445c75c8",
   "metadata": {},
   "outputs": [
    {
     "data": {
      "image/png": "[encoded data removed]",
      "text/plain": [
       "<Figure size 640x480 with 1 Axes>"
      ]
     },
     "metadata": {},
     "output_type": "display_data"
    }
   ],
   "source": [
    "#creating the plot\n",
    "sns.barplot(x='contract_type', y='monthly_charges',\n",
    "            hue='churn_Yes', data=train, palette='dark')\n",
    "\n",
    "#creating labels and the title\n",
    "plt.title('Monthly Charges Compared to Contract Types')\n",
    "plt.xlabel('Contract Type')\n",
    "plt.ylabel('Monthly Charges')\n",
    "\n",
    "plt.show()"
   ]
  },
  {
   "cell_type": "markdown",
   "id": "6ba5b3d3",
   "metadata": {},
   "source": [
    "- My main takeaway from this visual is that, generally, if someones bill increases from the average, they are more likely to churn.\n",
    "\n",
    "- This is exactly what I would have expected, and decided not to dig deeper, but to make sure I use this data with my models.\n",
    "\n",
    "- This feature will be a driver that is worthy of using when it comes to modeling."
   ]
  },
  {
   "cell_type": "markdown",
   "id": "3deb98b8",
   "metadata": {},
   "source": [
    "## Are contract type and churn status related?"
   ]
  },
  {
   "cell_type": "code",
   "execution_count": 31,
   "id": "49b2fa59",
   "metadata": {},
   "outputs": [
    {
     "data": {
      "image/png": "[encoded data removed]",
      "text/plain": [
       "<Figure size 640x480 with 1 Axes>"
      ]
     },
     "metadata": {},
     "output_type": "display_data"
    }
   ],
   "source": [
    "#creating my bar plot\n",
    "sns.barplot(x='contract_type', y='churn_Yes', \n",
    "            data=train, palette='bright')\n",
    "\n",
    "#creating the average to visualize it as a line across the chart\n",
    "churn_rate = train.churn_Yes.mean()\n",
    "plt.axhline(churn_rate, label=\"Average Churn\")\n",
    "\n",
    "#creating my labels and title\n",
    "plt.title('Is a Customer on a Month-to-Month Plan more likely to Churn?')\n",
    "plt.xlabel('Contract Type')\n",
    "plt.ylabel('Churned')\n",
    "\n",
    "plt.legend()\n",
    "plt.show()"
   ]
  },
  {
   "cell_type": "markdown",
   "id": "c5a10dab",
   "metadata": {},
   "source": [
    "- My main takeaway here is that month-to-month customers churn **way** more frequently than other customers.\n",
    "\n",
    "- It seems very likely there is a relationship here, but to confirm, I performed another statistical test."
   ]
  },
  {
   "cell_type": "markdown",
   "id": "9d8dbb11",
   "metadata": {},
   "source": [
    "### The Statistical test\n",
    "\n",
    "- Since I am, again, comparing two categorical variables, I used another chi squared test.\n",
    "\n",
    "My $H_a$ is that there is **no** significant relationship here.\n",
    "\n",
    "My $H_o$ is the opposite, that there **is**."
   ]
  },
  {
   "cell_type": "code",
   "execution_count": 32,
   "id": "64d3c8e6",
   "metadata": {},
   "outputs": [
    {
     "data": {
      "text/html": [
       "<div>\n",
       "<style scoped>\n",
       "    .dataframe tbody tr th:only-of-type {\n",
       "        vertical-align: middle;\n",
       "    }\n",
       "\n",
       "    .dataframe tbody tr th {\n",
       "        vertical-align: top;\n",
       "    }\n",
       "\n",
       "    .dataframe thead th {\n",
       "        text-align: right;\n",
       "    }\n",
       "</style>\n",
       "<table border=\"1\" class=\"dataframe\">\n",
       "  <thead>\n",
       "    <tr style=\"text-align: right;\">\n",
       "      <th>churn_Yes</th>\n",
       "      <th>0</th>\n",
       "      <th>1</th>\n",
       "    </tr>\n",
       "    <tr>\n",
       "      <th>contract_type</th>\n",
       "      <th></th>\n",
       "      <th></th>\n",
       "    </tr>\n",
       "  </thead>\n",
       "  <tbody>\n",
       "    <tr>\n",
       "      <th>Month-to-month</th>\n",
       "      <td>1116</td>\n",
       "      <td>821</td>\n",
       "    </tr>\n",
       "    <tr>\n",
       "      <th>One year</th>\n",
       "      <td>634</td>\n",
       "      <td>95</td>\n",
       "    </tr>\n",
       "    <tr>\n",
       "      <th>Two year</th>\n",
       "      <td>837</td>\n",
       "      <td>18</td>\n",
       "    </tr>\n",
       "  </tbody>\n",
       "</table>\n",
       "</div>"
      ],
      "text/plain": [
       "churn_Yes          0    1\n",
       "contract_type            \n",
       "Month-to-month  1116  821\n",
       "One year         634   95\n",
       "Two year         837   18"
      ]
     },
     "execution_count": 32,
     "metadata": {},
     "output_type": "execute_result"
    }
   ],
   "source": [
    "#creating my crosstab\n",
    "observed2 = pd.crosstab(train.contract_type, train.churn_Yes)\n",
    "\n",
    "#viewing the crosstab\n",
    "observed2"
   ]
  },
  {
   "cell_type": "code",
   "execution_count": 33,
   "id": "4ff6240e",
   "metadata": {},
   "outputs": [],
   "source": [
    "#the next step, creating variables for and running the test\n",
    "\n",
    "chi2, p, degf, expected = stats.chi2_contingency(observed2)"
   ]
  },
  {
   "cell_type": "code",
   "execution_count": 34,
   "id": "36e9119b",
   "metadata": {},
   "outputs": [
    {
     "name": "stdout",
     "output_type": "stream",
     "text": [
      "Observed Values\n",
      "\n",
      "[[998 242]\n",
      " [892 632]\n",
      " [697  60]]\n",
      "---\n",
      "Expected Values\n",
      "\n",
      "[[1423  513]\n",
      " [ 535  193]\n",
      " [ 628  226]]\n",
      "---\n",
      "\n",
      "chi^2 = 579.6972\n",
      "p     = 0.0000\n",
      "Is p-value < alpha? True\n"
     ]
    }
   ],
   "source": [
    "print('Observed Values\\n')\n",
    "\n",
    "# print the values from the 'observed' dataframe\n",
    "print(observed.values)\n",
    "print('---\\nExpected Values\\n')\n",
    "\n",
    "# print the expected values array\n",
    "print(expected.astype(int))\n",
    "print('---\\n')\n",
    "\n",
    "# print the chi2 value, formatted to a float with 4 digits. \n",
    "print(f'chi^2 = {chi2:.4f}') \n",
    "\n",
    "# print the p-value, formatted to a float with 4 digits. \n",
    "print(f'p     = {p:.4f}')\n",
    "\n",
    "print('Is p-value < alpha?', p < alpha)"
   ]
  },
  {
   "cell_type": "markdown",
   "id": "01344c5d",
   "metadata": {},
   "source": [
    "As with my earlier test, my alpha value to compare to is 0.05. \n",
    "\n",
    "For this test, when comparing the generated p-value to my alpha, it ends up being significantly smaller. This indicates, like above, that there **is** a significant relationship between churn and contract type. This, of course, means that we can reject our null hypothesis. All of this would make contract type a great driver for customer churn."
   ]
  },
  {
   "cell_type": "markdown",
   "id": "278cca64",
   "metadata": {},
   "source": [
    "## Exploration Summary\n",
    "\n"
   ]
  }
 ],
 "metadata": {
  "kernelspec": {
   "display_name": "Python 3 (ipykernel)",
   "language": "python",
   "name": "python3"
  },
  "language_info": {
   "codemirror_mode": {
    "name": "ipython",
    "version": 3
   },
   "file_extension": ".py",
   "mimetype": "text/x-python",
   "name": "python",
   "nbconvert_exporter": "python",
   "pygments_lexer": "ipython3",
   "version": "3.9.15"
  },
  "toc": {
   "base_numbering": 1,
   "nav_menu": {},
   "number_sections": true,
   "sideBar": true,
   "skip_h1_title": false,
   "title_cell": "Table of Contents",
   "title_sidebar": "Contents",
   "toc_cell": false,
   "toc_position": {
    "height": "calc(100% - 180px)",
    "left": "10px",
    "top": "150px",
    "width": "165px"
   },
   "toc_section_display": true,
   "toc_window_display": true
  }
 },
 "nbformat": 4,
 "nbformat_minor": 5
}
