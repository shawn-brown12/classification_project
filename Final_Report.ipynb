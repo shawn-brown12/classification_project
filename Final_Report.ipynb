{
 "cells": [
  {
   "cell_type": "markdown",
   "id": "f97e5cd5",
   "metadata": {},
   "source": [
    "# Churn within the Realm of Telecom"
   ]
  },
  {
   "cell_type": "markdown",
   "id": "100c5b4f",
   "metadata": {},
   "source": [
    "## Project Goals\n",
    "\n",
    "- Discovers the biggest drivers of customer churn.  \n",
    "\n",
    "- Use those drivers to develope machine learning models to accurately classify customers as either churned or not churned.\n",
    "\n",
    "- Deliver a report that a non-techincal person can read and understand what steps were taken, why they were taken, and the outcomes from those steps."
   ]
  },
  {
   "cell_type": "markdown",
   "id": "ea448af6",
   "metadata": {},
   "source": [
    "# Imports"
   ]
  },
  {
   "cell_type": "code",
   "execution_count": 8,
   "id": "e39dfb2a",
   "metadata": {},
   "outputs": [],
   "source": [
    "import pandas as pd\n",
    "import numpy as np\n",
    "import seaborn as sns\n",
    "import matplotlib.pyplot as plt\n",
    "from scipy import stats\n",
    "\n",
    "import acquire\n",
    "import prepare\n",
    "import modeling\n",
    "\n",
    "from sklearn.model_selection import train_test_split\n",
    "from sklearn.tree import DecisionTreeClassifier, plot_tree\n",
    "from sklearn.ensemble import RandomForestClassifier\n",
    "from sklearn.neighbors import KNeighborsClassifier\n",
    "from sklearn.linear_model import LogisticRegression\n",
    "from sklearn.metrics import classification_report, confusion_matrix, plot_confusion_matrix\n",
    "\n",
    "seed = 42\n",
    "\n",
    "import warnings\n",
    "warnings.filterwarnings('ignore')\n",
    "\n",
    "%matplotlib inline\n",
    "pd.options.display.max_columns = None"
   ]
  },
  {
   "cell_type": "markdown",
   "id": "843b1f72",
   "metadata": {},
   "source": [
    "# Acquire\n",
    "\n",
    "- I obtained my data from the Codeup MySQL server, though this dataset is available online\n",
    "\n",
    "- I got my data on 1/2/23\n",
    "\n",
    "- The dataset is 7043 rows by 25 columns\n",
    "\n",
    "- Each observation is an individual customer\n",
    "\n",
    "- Each row represents something about that customer"
   ]
  },
  {
   "cell_type": "code",
   "execution_count": 9,
   "id": "bcac354f",
   "metadata": {},
   "outputs": [
    {
     "data": {
      "text/html": [
       "<div>\n",
       "<style scoped>\n",
       "    .dataframe tbody tr th:only-of-type {\n",
       "        vertical-align: middle;\n",
       "    }\n",
       "\n",
       "    .dataframe tbody tr th {\n",
       "        vertical-align: top;\n",
       "    }\n",
       "\n",
       "    .dataframe thead th {\n",
       "        text-align: right;\n",
       "    }\n",
       "</style>\n",
       "<table border=\"1\" class=\"dataframe\">\n",
       "  <thead>\n",
       "    <tr style=\"text-align: right;\">\n",
       "      <th></th>\n",
       "      <th>Unnamed: 0</th>\n",
       "      <th>payment_type_id</th>\n",
       "      <th>internet_service_type_id</th>\n",
       "      <th>contract_type_id</th>\n",
       "      <th>customer_id</th>\n",
       "      <th>gender</th>\n",
       "      <th>senior_citizen</th>\n",
       "      <th>partner</th>\n",
       "      <th>dependents</th>\n",
       "      <th>tenure</th>\n",
       "      <th>phone_service</th>\n",
       "      <th>multiple_lines</th>\n",
       "      <th>online_security</th>\n",
       "      <th>online_backup</th>\n",
       "      <th>device_protection</th>\n",
       "      <th>tech_support</th>\n",
       "      <th>streaming_tv</th>\n",
       "      <th>streaming_movies</th>\n",
       "      <th>paperless_billing</th>\n",
       "      <th>monthly_charges</th>\n",
       "      <th>total_charges</th>\n",
       "      <th>churn</th>\n",
       "      <th>contract_type</th>\n",
       "      <th>internet_service_type</th>\n",
       "      <th>payment_type</th>\n",
       "    </tr>\n",
       "  </thead>\n",
       "  <tbody>\n",
       "    <tr>\n",
       "      <th>0</th>\n",
       "      <td>0</td>\n",
       "      <td>2</td>\n",
       "      <td>1</td>\n",
       "      <td>2</td>\n",
       "      <td>0002-ORFBO</td>\n",
       "      <td>Female</td>\n",
       "      <td>0</td>\n",
       "      <td>Yes</td>\n",
       "      <td>Yes</td>\n",
       "      <td>9</td>\n",
       "      <td>Yes</td>\n",
       "      <td>No</td>\n",
       "      <td>No</td>\n",
       "      <td>Yes</td>\n",
       "      <td>No</td>\n",
       "      <td>Yes</td>\n",
       "      <td>Yes</td>\n",
       "      <td>No</td>\n",
       "      <td>Yes</td>\n",
       "      <td>65.6</td>\n",
       "      <td>593.3</td>\n",
       "      <td>No</td>\n",
       "      <td>One year</td>\n",
       "      <td>DSL</td>\n",
       "      <td>Mailed check</td>\n",
       "    </tr>\n",
       "  </tbody>\n",
       "</table>\n",
       "</div>"
      ],
      "text/plain": [
       "   Unnamed: 0  payment_type_id  internet_service_type_id  contract_type_id  \\\n",
       "0           0                2                         1                 2   \n",
       "\n",
       "  customer_id  gender  senior_citizen partner dependents  tenure  \\\n",
       "0  0002-ORFBO  Female               0     Yes        Yes       9   \n",
       "\n",
       "  phone_service multiple_lines online_security online_backup  \\\n",
       "0           Yes             No              No           Yes   \n",
       "\n",
       "  device_protection tech_support streaming_tv streaming_movies  \\\n",
       "0                No          Yes          Yes               No   \n",
       "\n",
       "  paperless_billing  monthly_charges total_charges churn contract_type  \\\n",
       "0               Yes             65.6         593.3    No      One year   \n",
       "\n",
       "  internet_service_type  payment_type  \n",
       "0                   DSL  Mailed check  "
      ]
     },
     "execution_count": 9,
     "metadata": {},
     "output_type": "execute_result"
    }
   ],
   "source": [
    "#this pulls my data from the .csv file and \n",
    "#shows the first row, to get a feel for the columns\n",
    "data = acquire.get_telco_data()\n",
    "\n",
    "data.head(1)"
   ]
  },
  {
   "cell_type": "markdown",
   "id": "26ae862d",
   "metadata": {},
   "source": [
    "# Prepare\n",
    "\n",
    "- After acquiring my data, the first thing I did was to replace empty spaces in the 'total_charges' column with zeroes, so that I could convert the data type to float.\n",
    "\n",
    "- After that, I checked to see if there were any null values, or anything that might of significance that could skew my results. After performing some lines of code, I determined that there weren't any outliers of enough significance to drop them. I didn't run into any nulls.\n",
    "\n",
    "- After that, I made dummy columns for all of my categorical columns to convert them into useful, numeric values. With a couple of the columns, like the 'multiple_lines' column, it created a dummy that wasn't helpful, called 'multiple_lines_No phone service', so I manually dropped those and then cleared out all of the columns that the dummies originated from, and concatenated the dummies together with the cleaned dataframe."
   ]
  },
  {
   "cell_type": "code",
   "execution_count": 10,
   "id": "88e032e9",
   "metadata": {},
   "outputs": [
    {
     "data": {
      "text/html": [
       "<div>\n",
       "<style scoped>\n",
       "    .dataframe tbody tr th:only-of-type {\n",
       "        vertical-align: middle;\n",
       "    }\n",
       "\n",
       "    .dataframe tbody tr th {\n",
       "        vertical-align: top;\n",
       "    }\n",
       "\n",
       "    .dataframe thead th {\n",
       "        text-align: right;\n",
       "    }\n",
       "</style>\n",
       "<table border=\"1\" class=\"dataframe\">\n",
       "  <thead>\n",
       "    <tr style=\"text-align: right;\">\n",
       "      <th></th>\n",
       "      <th>customer_id</th>\n",
       "      <th>senior_citizen</th>\n",
       "      <th>tenure</th>\n",
       "      <th>monthly_charges</th>\n",
       "      <th>total_charges</th>\n",
       "      <th>contract_type</th>\n",
       "      <th>internet_service_type</th>\n",
       "      <th>churn_Yes</th>\n",
       "      <th>gender_Male</th>\n",
       "      <th>partner_Yes</th>\n",
       "      <th>dependents_Yes</th>\n",
       "      <th>phone_service_Yes</th>\n",
       "      <th>multiple_lines_Yes</th>\n",
       "      <th>online_security_Yes</th>\n",
       "      <th>online_backup_Yes</th>\n",
       "      <th>device_protection_Yes</th>\n",
       "      <th>tech_support_Yes</th>\n",
       "      <th>streaming_tv_Yes</th>\n",
       "      <th>streaming_movies_Yes</th>\n",
       "      <th>paperless_billing_Yes</th>\n",
       "      <th>contract_type_Month-to-month</th>\n",
       "      <th>contract_type_One year</th>\n",
       "      <th>contract_type_Two year</th>\n",
       "      <th>internet_service_type_DSL</th>\n",
       "      <th>internet_service_type_Fiber optic</th>\n",
       "      <th>internet_service_type_None</th>\n",
       "      <th>payment_type_Bank transfer (automatic)</th>\n",
       "      <th>payment_type_Credit card (automatic)</th>\n",
       "      <th>payment_type_Electronic check</th>\n",
       "      <th>payment_type_Mailed check</th>\n",
       "    </tr>\n",
       "  </thead>\n",
       "  <tbody>\n",
       "    <tr>\n",
       "      <th>0</th>\n",
       "      <td>0002-ORFBO</td>\n",
       "      <td>0</td>\n",
       "      <td>9</td>\n",
       "      <td>65.6</td>\n",
       "      <td>593.3</td>\n",
       "      <td>One year</td>\n",
       "      <td>DSL</td>\n",
       "      <td>0</td>\n",
       "      <td>0</td>\n",
       "      <td>1</td>\n",
       "      <td>1</td>\n",
       "      <td>1</td>\n",
       "      <td>0</td>\n",
       "      <td>0</td>\n",
       "      <td>1</td>\n",
       "      <td>0</td>\n",
       "      <td>1</td>\n",
       "      <td>1</td>\n",
       "      <td>0</td>\n",
       "      <td>1</td>\n",
       "      <td>0</td>\n",
       "      <td>1</td>\n",
       "      <td>0</td>\n",
       "      <td>1</td>\n",
       "      <td>0</td>\n",
       "      <td>0</td>\n",
       "      <td>0</td>\n",
       "      <td>0</td>\n",
       "      <td>0</td>\n",
       "      <td>1</td>\n",
       "    </tr>\n",
       "  </tbody>\n",
       "</table>\n",
       "</div>"
      ],
      "text/plain": [
       "  customer_id  senior_citizen  tenure  monthly_charges  total_charges  \\\n",
       "0  0002-ORFBO               0       9             65.6          593.3   \n",
       "\n",
       "  contract_type internet_service_type  churn_Yes  gender_Male  partner_Yes  \\\n",
       "0      One year                   DSL          0            0            1   \n",
       "\n",
       "   dependents_Yes  phone_service_Yes  multiple_lines_Yes  online_security_Yes  \\\n",
       "0               1                  1                   0                    0   \n",
       "\n",
       "   online_backup_Yes  device_protection_Yes  tech_support_Yes  \\\n",
       "0                  1                      0                 1   \n",
       "\n",
       "   streaming_tv_Yes  streaming_movies_Yes  paperless_billing_Yes  \\\n",
       "0                 1                     0                      1   \n",
       "\n",
       "   contract_type_Month-to-month  contract_type_One year  \\\n",
       "0                             0                       1   \n",
       "\n",
       "   contract_type_Two year  internet_service_type_DSL  \\\n",
       "0                       0                          1   \n",
       "\n",
       "   internet_service_type_Fiber optic  internet_service_type_None  \\\n",
       "0                                  0                           0   \n",
       "\n",
       "   payment_type_Bank transfer (automatic)  \\\n",
       "0                                       0   \n",
       "\n",
       "   payment_type_Credit card (automatic)  payment_type_Electronic check  \\\n",
       "0                                     0                              0   \n",
       "\n",
       "   payment_type_Mailed check  \n",
       "0                          1  "
      ]
     },
     "execution_count": 10,
     "metadata": {},
     "output_type": "execute_result"
    }
   ],
   "source": [
    "#this uses my function to clean the data and \n",
    "#shows the first row to compare to the uncleaned dataframe\n",
    "data = prepare.prep_telco(data)\n",
    "\n",
    "data.head(1)"
   ]
  },
  {
   "cell_type": "code",
   "execution_count": 11,
   "id": "24c6a476",
   "metadata": {},
   "outputs": [],
   "source": [
    "#this separates my data into my train, validate, and test sets\n",
    "train, val, test = modeling.split_train_test(data, 'churn_Yes')"
   ]
  },
  {
   "cell_type": "code",
   "execution_count": 12,
   "id": "6a0138af",
   "metadata": {},
   "outputs": [
    {
     "data": {
      "text/plain": [
       "((3521, 30), (2113, 30), (1409, 30))"
      ]
     },
     "execution_count": 12,
     "metadata": {},
     "output_type": "execute_result"
    }
   ],
   "source": [
    "#this is simply to confirm that the proportions of the sets look correct\n",
    "train.shape, val.shape, test.shape"
   ]
  },
  {
   "cell_type": "markdown",
   "id": "ce1ac47c",
   "metadata": {},
   "source": [
    "# Explore"
   ]
  },
  {
   "cell_type": "markdown",
   "id": "d37222c2",
   "metadata": {},
   "source": [
    "## Is whether or not a customer churns dependent of their internet service type?"
   ]
  },
  {
   "cell_type": "code",
   "execution_count": 7,
   "id": "2ad7d927",
   "metadata": {},
   "outputs": [
    {
     "data": {
      "image/png": "[encoded data removed]",
      "text/plain": [
       "<Figure size 640x480 with 1 Axes>"
      ]
     },
     "metadata": {},
     "output_type": "display_data"
    }
   ],
   "source": [
    "#This block of code creates by bar chart\n",
    "sns.barplot(x='internet_service_type', y='churn_Yes', \n",
    "            data=train, palette='cool')\n",
    "#I'm creating a line that goes across the chart that shows the average\n",
    "churn_rate = train.churn_Yes.mean()\n",
    "plt.axhline(churn_rate, label=\"Average Churn Rate\")\n",
    "\n",
    "#creating labels and a title\n",
    "plt.title('Does Having a Specific Internet Type Effect If you Churn?')\n",
    "plt.xlabel('Internet Service Types')\n",
    "plt.ylabel('Churned')\n",
    "\n",
    "#making sure the legend appears\n",
    "plt.legend()\n",
    "plt.show()"
   ]
  },
  {
   "cell_type": "markdown",
   "id": "5c0a7f37",
   "metadata": {},
   "source": [
    "- The main takeaway here is that it really looks as if there is a realtionship between churn and internet service type.\n",
    "\n",
    "- The other point to note is that this might indicate there are improvements that can be made for the fiber optic customers."
   ]
  },
  {
   "cell_type": "markdown",
   "id": "7a5af121",
   "metadata": {},
   "source": [
    "For this question, I decided it would be useful to dig deeper and perform a statistical test to help back up my assumptions. Since we are talking about two categorical variables here, I used a chi-square test to determine if there was a relationship.\n",
    "\n",
    "My $H_o$ here is that there is **no** significant relationship between churn and internet service types.\n",
    "\n",
    "My $H_a$ is that there **is** a relationship of significance."
   ]
  },
  {
   "cell_type": "code",
   "execution_count": 7,
   "id": "b5d9b720",
   "metadata": {
    "scrolled": true
   },
   "outputs": [
    {
     "name": "stdout",
     "output_type": "stream",
     "text": [
      "Observed Values\n",
      "\n",
      "[[972 230]\n",
      " [933 646]\n",
      " [682  58]]\n",
      "---\n",
      "Expected Values\n",
      "\n",
      "[[ 883  318]\n",
      " [1160  418]\n",
      " [ 543  196]]\n",
      "---\n",
      "\n",
      "chi^2 = 333.9626\n",
      "p     = 0.0000\n",
      "Is p-value < alpha? True\n"
     ]
    }
   ],
   "source": [
    "#function I wrote to return chi^2 test results\n",
    "prepare.chi2_report(train, 'internet_service_type', 'churn_Yes')"
   ]
  },
  {
   "cell_type": "markdown",
   "id": "692b5fdb",
   "metadata": {},
   "source": [
    "So in this test, my p-value is extremely low, which indicates thats its highly likely that there **is** a significant relationship between churn and internet service type. Thus, with this, we can reject our null hypothesis. This would make this an excellent driver for churn to use in our modeling."
   ]
  },
  {
   "cell_type": "markdown",
   "id": "7e6fb4c5",
   "metadata": {},
   "source": [
    "## What is the relationship between phone service and churn?"
   ]
  },
  {
   "cell_type": "code",
   "execution_count": 8,
   "id": "26d638d0",
   "metadata": {},
   "outputs": [
    {
     "data": {
      "image/png": "[encoded data removed]",
      "text/plain": [
       "<Figure size 640x480 with 1 Axes>"
      ]
     },
     "metadata": {},
     "output_type": "display_data"
    }
   ],
   "source": [
    "#code to create the barplot\n",
    "sns.barplot(x='phone_service_Yes', \n",
    "            y='churn_Yes', data=train,\n",
    "            palette='pastel')\n",
    "\n",
    "#creating labels and a title\n",
    "plt.title('Is there a Relationship Between Phone Service and Churn?')\n",
    "plt.xlabel('Phone Service')\n",
    "plt.ylabel('Churned')\n",
    "\n",
    "plt.show()"
   ]
  },
  {
   "cell_type": "markdown",
   "id": "95f5f2cf",
   "metadata": {},
   "source": [
    "- The number of customers who had phone service and churned compared to the number who didn't have phone service and churned is close enough that I decided to move on to my next question.\n",
    "\n",
    "- Because there appears to be no real significance, this wouldn't make a good driver for our models."
   ]
  },
  {
   "cell_type": "markdown",
   "id": "a244108a",
   "metadata": {},
   "source": [
    "## Do monthly charges differ for different contract types?"
   ]
  },
  {
   "cell_type": "code",
   "execution_count": 9,
   "id": "d9e4115f",
   "metadata": {},
   "outputs": [
    {
     "data": {
      "image/png": "[encoded data removed]",
      "text/plain": [
       "<Figure size 640x480 with 1 Axes>"
      ]
     },
     "metadata": {},
     "output_type": "display_data"
    }
   ],
   "source": [
    "#creating the plot\n",
    "sns.barplot(x='contract_type', y='monthly_charges',\n",
    "            hue='churn_Yes', data=train, palette='dark')\n",
    "\n",
    "#I'm creating a line that goes across the chart that shows the average monthly charges\n",
    "churn_rate = train.monthly_charges.mean()\n",
    "plt.axhline(churn_rate, label=\"Average Churn\")\n",
    "\n",
    "#creating labels and the title\n",
    "plt.title('Monthly Charges Compared to Contract Types')\n",
    "plt.xlabel('Contract Type')\n",
    "plt.ylabel('Monthly Charges')\n",
    "\n",
    "#creating the legend and showing the visual\n",
    "plt.legend()\n",
    "plt.show()"
   ]
  },
  {
   "cell_type": "markdown",
   "id": "a66997e6",
   "metadata": {},
   "source": [
    "- My main takeaway from this visual is that, generally, if someones bill increases from the average, they are more likely to churn.\n",
    "\n",
    "- This is exactly what I would have expected, and decided not to dig deeper, but to make sure I use this data with my models.\n",
    "\n",
    "- This feature will be a driver that is worthy of using when it comes to modeling."
   ]
  },
  {
   "cell_type": "markdown",
   "id": "0839c69d",
   "metadata": {},
   "source": [
    "## Are contract type and churn status related?"
   ]
  },
  {
   "cell_type": "code",
   "execution_count": 6,
   "id": "c968fc08",
   "metadata": {},
   "outputs": [
    {
     "data": {
      "image/png": "[encoded data removed]",
      "text/plain": [
       "<Figure size 640x480 with 1 Axes>"
      ]
     },
     "metadata": {},
     "output_type": "display_data"
    }
   ],
   "source": [
    "#creating my bar plot\n",
    "sns.barplot(x='contract_type', y='churn_Yes', \n",
    "            data=train, palette='bright')\n",
    "\n",
    "#creating the average to visualize it as a line across the chart\n",
    "churn_rate = train.churn_Yes.mean()\n",
    "plt.axhline(churn_rate, label=\"Average Churn Rate\")\n",
    "\n",
    "#creating my labels and title\n",
    "plt.title('Is a Customer on a Month-to-Month Plan more likely to Churn?')\n",
    "plt.xlabel('Contract Type')\n",
    "plt.ylabel('Churned')\n",
    "\n",
    "plt.legend()\n",
    "plt.show()"
   ]
  },
  {
   "cell_type": "markdown",
   "id": "ab5a2738",
   "metadata": {},
   "source": [
    "- My main takeaway here is that month-to-month customers churn **way** more frequently than other customers.\n",
    "\n",
    "- It seems very likely there is a relationship here, but to confirm, I performed another statistical test."
   ]
  },
  {
   "cell_type": "markdown",
   "id": "a9155e64",
   "metadata": {},
   "source": [
    "### The Statistical test\n",
    "\n",
    "- Since I am, again, comparing two categorical variables, I used another chi squared test.\n",
    "\n",
    "My $H_o$ is that there is **no** significant relationship here.\n",
    "\n",
    "My $H_a$ is the opposite, that there **is**."
   ]
  },
  {
   "cell_type": "code",
   "execution_count": 11,
   "id": "f22a6949",
   "metadata": {},
   "outputs": [
    {
     "name": "stdout",
     "output_type": "stream",
     "text": [
      "Observed Values\n",
      "\n",
      "[[1089  825]\n",
      " [ 679   85]\n",
      " [ 819   24]]\n",
      "---\n",
      "Expected Values\n",
      "\n",
      "[[1406  507]\n",
      " [ 561  202]\n",
      " [ 619  223]]\n",
      "---\n",
      "\n",
      "chi^2 = 605.3651\n",
      "p     = 0.0000\n",
      "Is p-value < alpha? True\n"
     ]
    }
   ],
   "source": [
    "#function I wrote to return chi^2 test results\n",
    "prepare.chi2_report(train, 'contract_type', 'churn_Yes')"
   ]
  },
  {
   "cell_type": "markdown",
   "id": "6b18201b",
   "metadata": {},
   "source": [
    "As with my earlier test, my alpha value to compare to is 0.05. \n",
    "\n",
    "For this test, when comparing the generated p-value to my alpha, it ends up being significantly smaller. This indicates, like above, that there **is** a significant relationship between churn and contract type. This, of course, means that we can reject our null hypothesis. All of this would make contract type a great driver for customer churn."
   ]
  },
  {
   "cell_type": "markdown",
   "id": "181a6355",
   "metadata": {},
   "source": [
    "## Exploration Summary\n",
    "\n",
    "- One of my two biggest takeaways from my Exploration process here is that there **is** is significant relationship between a customers internet service type and whether or not they churn.\n",
    "\n",
    "- The other biggest thing is that contract type and churn also have a significant relationship. \n",
    "\n",
    "- There looked as if there might be a relationship between monthly charges and churn, but I ultimately decided to come back and run a statistical test if I had time as it seemed minor.\n",
    "\n",
    "- Otherwise, I determined that age, gender, and phone service really don't have much of a relationship, so those most likely can be safely dropped.\n",
    "\n",
    "- After considering my options for modeling, I decided that I wanted to get a base accuracy with all of my features and then come back and cut down on them to see if there was a significant difference."
   ]
  },
  {
   "cell_type": "markdown",
   "id": "b139c5c6",
   "metadata": {},
   "source": [
    "In order to help visualize what I found to be the two most important features, here is a bar plot comparing the two with customers who have and have not churned."
   ]
  },
  {
   "cell_type": "code",
   "execution_count": 13,
   "id": "0854207c",
   "metadata": {},
   "outputs": [
    {
     "data": {
      "image/png": "[encoded data removed]",
      "text/plain": [
       "<Figure size 640x480 with 1 Axes>"
      ]
     },
     "metadata": {},
     "output_type": "display_data"
    }
   ],
   "source": [
    "#creating the barplot itself\n",
    "sns.barplot(x='contract_type',\n",
    "            y='churn_Yes',\n",
    "            hue='internet_service_type',\n",
    "            data=data)\n",
    "\n",
    "#I'm creating a line that goes across the chart that shows the average\n",
    "churn_rate = train.churn_Yes.mean()\n",
    "plt.axhline(churn_rate, label=\"Average Churn Rate\")\n",
    "\n",
    "#creating labels for each axis and the title \n",
    "plt.title(\"How Internet and Contract Types Affect Churn\")\n",
    "plt.ylabel(\"Has Churned\")\n",
    "plt.xlabel(\"Contract Type\")\n",
    "\n",
    "#making the legend and showing the visual\n",
    "plt.legend()\n",
    "plt.show()"
   ]
  },
  {
   "cell_type": "markdown",
   "id": "defa27c1",
   "metadata": {},
   "source": [
    "# Modeling \n",
    "\n",
    "- I decided to try each of four different classification algorithms to see what fit my data the best. \n",
    "\n",
    "- My main evaluation metric I focused on here was accuracy, but if there were any models that were close to each other, I also factored in my recall. I chose accuracy because I wanted to know how consistently accurate my model was, rather than simply focusing on *when* it was right or wrong."
   ]
  },
  {
   "cell_type": "code",
   "execution_count": 13,
   "id": "9b664077",
   "metadata": {},
   "outputs": [
    {
     "name": "stdout",
     "output_type": "stream",
     "text": [
      "Baseline Accuracy is: 0.735\n"
     ]
    }
   ],
   "source": [
    "modeling.make_baseline(data, 'baseline', 'churn_Yes')"
   ]
  },
  {
   "cell_type": "markdown",
   "id": "94465c57",
   "metadata": {},
   "source": [
    "The basline accuracy is made relatively simply. You first need a column in the Dataframe that holds your base prediction for each observation, which you simply do by finding which outcome has happened more, put that in the baseline column.\n",
    "\n",
    "The second step is to get the number of times you guessed right divided by the number of columns as a whole (the mean).\n",
    "\n",
    "In this case, my baseline accuracy is 73.4%"
   ]
  },
  {
   "cell_type": "code",
   "execution_count": 14,
   "id": "6703d669",
   "metadata": {
    "scrolled": true
   },
   "outputs": [],
   "source": [
    "X_train, y_train, X_validate, y_validate, X_test, y_test = modeling.xy_train(train, val, test)"
   ]
  },
  {
   "cell_type": "markdown",
   "id": "e555361d",
   "metadata": {},
   "source": [
    "## Model #1 Random Forest \n",
    "\n",
    "My best model ended up being my second Radnom Forest model"
   ]
  },
  {
   "cell_type": "code",
   "execution_count": 15,
   "id": "d0f8b129",
   "metadata": {},
   "outputs": [],
   "source": [
    "#creating the object\n",
    "rf = RandomForestClassifier(max_depth=9, \n",
    "                            min_samples_leaf=3,\n",
    "                            n_estimators=200,\n",
    "                           random_state=42)\n",
    "#fitting the model\n",
    "rf.fit(X_train, y_train)\n",
    "\n",
    "#make the predictions\n",
    "y_preds2 = rf.predict(X_train)\n",
    "\n",
    "#obtaining the score for train\n",
    "train_score2 = rf.score(X_train, y_train)\n",
    "\n",
    "#obtaining the score for validate\n",
    "val_score2 = rf.score(X_validate, y_validate)"
   ]
  },
  {
   "cell_type": "code",
   "execution_count": 16,
   "id": "9180dce1",
   "metadata": {},
   "outputs": [
    {
     "name": "stdout",
     "output_type": "stream",
     "text": [
      "Training Accuracy: 0.85\n",
      "-----\n",
      "\n",
      "Validate Accuracy 0.81\n"
     ]
    }
   ],
   "source": [
    "#printing out my train score and making a new line\n",
    "print(f'Training Accuracy: {train_score2:.2f}')\n",
    "\n",
    "print('-----\\n')\n",
    "\n",
    "#printing my validate score\n",
    "print(f'Validate Accuracy {val_score2:.2f}')"
   ]
  },
  {
   "cell_type": "markdown",
   "id": "02c512c7",
   "metadata": {},
   "source": [
    "## Model #2 Logistic Regression\n",
    "\n",
    "My second best performing model ended up being my second Logistic Regression model"
   ]
  },
  {
   "cell_type": "code",
   "execution_count": 17,
   "id": "09e396e8",
   "metadata": {},
   "outputs": [],
   "source": [
    "#creating the object for the model \n",
    "logit2 = LogisticRegression(C=.1, random_state=42, \n",
    "                           intercept_scaling=1, solver='lbfgs')\n",
    "\n",
    "#fitting the model\n",
    "logit2.fit(X_train, y_train)\n",
    "\n",
    "#making predictions\n",
    "logit_pred2 = logit2.predict(X_train)\n",
    "\n",
    "#estimating the probability\n",
    "logit_pred_proba2 = logit2.predict_proba(X_train)\n",
    "\n",
    "train_score = logit2.score(X_train, y_train)\n",
    "\n",
    "val_score = logit2.score(X_validate, y_validate)"
   ]
  },
  {
   "cell_type": "code",
   "execution_count": 18,
   "id": "37e46ca7",
   "metadata": {},
   "outputs": [
    {
     "name": "stdout",
     "output_type": "stream",
     "text": [
      "Training Accuracy: 0.81\n",
      "-----\n",
      "\n",
      "Validate Accuracy 0.81\n"
     ]
    }
   ],
   "source": [
    "#printing out my train score and making a new line\n",
    "print(f'Training Accuracy: {train_score:.2f}')\n",
    "\n",
    "print('-----\\n')\n",
    "\n",
    "#printing my validate score\n",
    "print(f'Validate Accuracy {val_score:.2f}')"
   ]
  },
  {
   "cell_type": "markdown",
   "id": "97e22595",
   "metadata": {},
   "source": [
    "## Model #3 Decision Tree\n",
    "\n",
    "My third best was my first Decision Tree model"
   ]
  },
  {
   "cell_type": "code",
   "execution_count": 19,
   "id": "4f1c4fb8",
   "metadata": {},
   "outputs": [],
   "source": [
    "#creating the model object\n",
    "clf = DecisionTreeClassifier(max_depth=3, \n",
    "                             random_state=42)\n",
    "\n",
    "#fitting the model\n",
    "clf = clf.fit(X_train, y_train)\n",
    "\n",
    "#making train predictions\n",
    "y_preds3 = clf.predict(X_train)\n",
    "\n",
    "#obtaining my train score\n",
    "train_score3 = clf.score(X_train, y_train)\n",
    "\n",
    "#obtaining my validate score\n",
    "val_score3 = clf.score(X_train, y_train)"
   ]
  },
  {
   "cell_type": "code",
   "execution_count": 20,
   "id": "46ac5d59",
   "metadata": {
    "scrolled": true
   },
   "outputs": [
    {
     "name": "stdout",
     "output_type": "stream",
     "text": [
      "Training Accuracy: 0.79\n",
      "-----\n",
      "\n",
      "Validate Accuracy 0.79\n"
     ]
    }
   ],
   "source": [
    "#printing out my train score and making a new line\n",
    "print(f'Training Accuracy: {train_score3:.2f}')\n",
    "\n",
    "print('-----\\n')\n",
    "\n",
    "#printing my validate score\n",
    "print(f'Validate Accuracy {val_score3:.2f}')"
   ]
  },
  {
   "cell_type": "markdown",
   "id": "356b50d7",
   "metadata": {},
   "source": [
    "## Test Model"
   ]
  },
  {
   "cell_type": "markdown",
   "id": "0b2834f6",
   "metadata": {},
   "source": [
    "They are all rather close, but my best model ended up being my second Random Forest model. Its accuracy is the highest of the three, which is the main metric I'm looking at.\n",
    "\n",
    "Now that I've chosen a model, I will run it on my 'future' unseen data, my test dataset, to see how it performs."
   ]
  },
  {
   "cell_type": "code",
   "execution_count": 21,
   "id": "cbee8941",
   "metadata": {},
   "outputs": [
    {
     "name": "stdout",
     "output_type": "stream",
     "text": [
      "Test Accuracy 0.79\n"
     ]
    }
   ],
   "source": [
    "#setting my test score to a variable\n",
    "test_score = rf.score(X_test, y_test)\n",
    "\n",
    "#printing my test score\n",
    "print(f'Test Accuracy {test_score:.2f}')"
   ]
  },
  {
   "cell_type": "markdown",
   "id": "8db6a754",
   "metadata": {},
   "source": [
    "In order to help illustrate my baseline versus my highest performing model accuracy, I've created two pie charts:"
   ]
  },
  {
   "cell_type": "code",
   "execution_count": 22,
   "id": "870e6ef3",
   "metadata": {},
   "outputs": [
    {
     "data": {
      "image/png": "[encoded data removed]",
      "text/plain": [
       "<Figure size 640x480 with 1 Axes>"
      ]
     },
     "metadata": {},
     "output_type": "display_data"
    },
    {
     "data": {
      "image/png": "[encoded data removed]",
      "text/plain": [
       "<Figure size 640x480 with 1 Axes>"
      ]
     },
     "metadata": {},
     "output_type": "display_data"
    }
   ],
   "source": [
    "data = [73, 27]\n",
    "labels = ['Baseline Correct', 'Baseline Incorrect']\n",
    "\n",
    "colors = sns.color_palette('pastel')[0:2]\n",
    "\n",
    "plt.pie(data, labels=labels, colors=colors, autopct='%.0f%%')\n",
    "plt.title(\"Baseline Accuracy\")\n",
    "plt.show()\n",
    "\n",
    "data1 = [79, 21]\n",
    "labels1 = ['Model Correct', 'Model Incorrect']\n",
    "\n",
    "colors = sns.color_palette('pastel')[2:4]\n",
    "\n",
    "plt.pie(data1, labels=labels1, colors=colors, autopct='%.0f%%')\n",
    "plt.title(\"Best Performing Model\")\n",
    "plt.show()"
   ]
  },
  {
   "cell_type": "markdown",
   "id": "eb0e493f",
   "metadata": {},
   "source": [
    "## Final Interpretation of the Test\n",
    "\n",
    "Overall, my best three models are very close, but the test score compares well to my baseline accuracy, beating it by 6%. I **would** recommend this model for production."
   ]
  },
  {
   "cell_type": "markdown",
   "id": "c98f69e8",
   "metadata": {},
   "source": [
    "# Conclusion"
   ]
  },
  {
   "cell_type": "markdown",
   "id": "a48d369d",
   "metadata": {},
   "source": [
    "## Summary:\n",
    "\n",
    "- Gender and Age aren't huge factors when it comes to churn.\n",
    "\n",
    "- The **biggest** factors appear to be contract type and internet service type. \n",
    "\n",
    "- Customers that had fiber optic internet rather than DSL or no internet churned much more, as did customers with month to month contracts over long options."
   ]
  },
  {
   "cell_type": "markdown",
   "id": "10de4000",
   "metadata": {},
   "source": [
    "## Recommendations:\n",
    "\n",
    "- Provide better support for customers with fiber optic internet.\n",
    "\n",
    "- Make improvements to month to month contract plans to make it more appealing to customers.\n",
    "\n",
    "- Alternatively, or in addition to the above, make the one and two year contract types more appealing as customers with those churned significantly less.\n",
    "\n",
    "- Failing making any significant changes to the month-to-month contracts, maybe sending out emails to those customers most likely to churn, offering a deal or even just sending out surveys would be potentially helpful."
   ]
  },
  {
   "cell_type": "markdown",
   "id": "c342fe96",
   "metadata": {},
   "source": [
    "## Next Steps\n",
    "\n",
    "- As my project stands, if I had more time I would go back to my modeling phase and cut more features to try to see if making less 'noise' improved my accuracy."
   ]
  }
 ],
 "metadata": {
  "kernelspec": {
   "display_name": "Python 3 (ipykernel)",
   "language": "python",
   "name": "python3"
  },
  "language_info": {
   "codemirror_mode": {
    "name": "ipython",
    "version": 3
   },
   "file_extension": ".py",
   "mimetype": "text/x-python",
   "name": "python",
   "nbconvert_exporter": "python",
   "pygments_lexer": "ipython3",
   "version": "3.9.15"
  },
  "toc": {
   "base_numbering": 1,
   "nav_menu": {},
   "number_sections": true,
   "sideBar": true,
   "skip_h1_title": false,
   "title_cell": "Table of Contents",
   "title_sidebar": "Contents",
   "toc_cell": false,
   "toc_position": {
    "height": "calc(100% - 180px)",
    "left": "10px",
    "top": "150px",
    "width": "177px"
   },
   "toc_section_display": true,
   "toc_window_display": true
  }
 },
 "nbformat": 4,
 "nbformat_minor": 5
}
