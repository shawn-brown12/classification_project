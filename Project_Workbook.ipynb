{
 "cells": [
  {
   "cell_type": "markdown",
   "id": "63c84c17",
   "metadata": {},
   "source": [
    "# Imports"
   ]
  },
  {
   "cell_type": "code",
   "execution_count": 1,
   "id": "7eedca91",
   "metadata": {},
   "outputs": [],
   "source": [
    "import pandas as pd\n",
    "import numpy as np\n",
    "import seaborn as sns\n",
    "import matplotlib.pyplot as plt\n",
    "from scipy import stats\n",
    "\n",
    "import acquire\n",
    "import prepare\n",
    "\n",
    "from sklearn.model_selection import train_test_split\n",
    "from sklearn.tree import DecisionTreeClassifier, plot_tree\n",
    "from sklearn.metrics import classification_report, confusion_matrix, plot_confusion_matrix\n",
    "from sklearn.ensemble import RandomForestClassifier\n",
    "from sklearn.neighbors import KNeighborsClassifier\n",
    "\n",
    "import warnings\n",
    "warnings.filterwarnings('ignore')\n",
    "\n",
    "%matplotlib inline\n",
    "pd.options.display.max_columns = None\n"
   ]
  },
  {
   "cell_type": "code",
   "execution_count": 9,
   "id": "fe0bcc1f",
   "metadata": {},
   "outputs": [],
   "source": [
    "#setting a seed\n",
    "\n",
    "seed = 42"
   ]
  },
  {
   "cell_type": "markdown",
   "id": "a458afcd",
   "metadata": {},
   "source": [
    "# Acquire and Preparing data"
   ]
  },
  {
   "cell_type": "code",
   "execution_count": 10,
   "id": "7bd0788c",
   "metadata": {},
   "outputs": [],
   "source": [
    "data = acquire.get_telco_data()"
   ]
  },
  {
   "cell_type": "code",
   "execution_count": 11,
   "id": "4a91ad8e",
   "metadata": {},
   "outputs": [],
   "source": [
    "data = prepare.prep_telco(data)"
   ]
  },
  {
   "cell_type": "code",
   "execution_count": 12,
   "id": "931200dd",
   "metadata": {
    "scrolled": true
   },
   "outputs": [
    {
     "data": {
      "text/html": [
       "<div>\n",
       "<style scoped>\n",
       "    .dataframe tbody tr th:only-of-type {\n",
       "        vertical-align: middle;\n",
       "    }\n",
       "\n",
       "    .dataframe tbody tr th {\n",
       "        vertical-align: top;\n",
       "    }\n",
       "\n",
       "    .dataframe thead th {\n",
       "        text-align: right;\n",
       "    }\n",
       "</style>\n",
       "<table border=\"1\" class=\"dataframe\">\n",
       "  <thead>\n",
       "    <tr style=\"text-align: right;\">\n",
       "      <th></th>\n",
       "      <th>senior_citizen</th>\n",
       "      <th>tenure</th>\n",
       "      <th>monthly_charges</th>\n",
       "      <th>total_charges</th>\n",
       "      <th>contract_type</th>\n",
       "      <th>internet_service_type</th>\n",
       "      <th>churn_Yes</th>\n",
       "      <th>gender_Male</th>\n",
       "      <th>partner_Yes</th>\n",
       "      <th>dependents_Yes</th>\n",
       "      <th>phone_service_Yes</th>\n",
       "      <th>multiple_lines_Yes</th>\n",
       "      <th>online_security_Yes</th>\n",
       "      <th>online_backup_Yes</th>\n",
       "      <th>device_protection_Yes</th>\n",
       "      <th>tech_support_Yes</th>\n",
       "      <th>streaming_tv_Yes</th>\n",
       "      <th>streaming_movies_Yes</th>\n",
       "      <th>paperless_billing_Yes</th>\n",
       "      <th>contract_type_Month-to-month</th>\n",
       "      <th>contract_type_One year</th>\n",
       "      <th>contract_type_Two year</th>\n",
       "      <th>internet_service_type_DSL</th>\n",
       "      <th>internet_service_type_Fiber optic</th>\n",
       "      <th>internet_service_type_None</th>\n",
       "      <th>payment_type_Bank transfer (automatic)</th>\n",
       "      <th>payment_type_Credit card (automatic)</th>\n",
       "      <th>payment_type_Electronic check</th>\n",
       "      <th>payment_type_Mailed check</th>\n",
       "    </tr>\n",
       "  </thead>\n",
       "  <tbody>\n",
       "    <tr>\n",
       "      <th>0</th>\n",
       "      <td>0</td>\n",
       "      <td>9</td>\n",
       "      <td>65.6</td>\n",
       "      <td>593.30</td>\n",
       "      <td>One year</td>\n",
       "      <td>DSL</td>\n",
       "      <td>0</td>\n",
       "      <td>0</td>\n",
       "      <td>1</td>\n",
       "      <td>1</td>\n",
       "      <td>1</td>\n",
       "      <td>0</td>\n",
       "      <td>0</td>\n",
       "      <td>1</td>\n",
       "      <td>0</td>\n",
       "      <td>1</td>\n",
       "      <td>1</td>\n",
       "      <td>0</td>\n",
       "      <td>1</td>\n",
       "      <td>0</td>\n",
       "      <td>1</td>\n",
       "      <td>0</td>\n",
       "      <td>1</td>\n",
       "      <td>0</td>\n",
       "      <td>0</td>\n",
       "      <td>0</td>\n",
       "      <td>0</td>\n",
       "      <td>0</td>\n",
       "      <td>1</td>\n",
       "    </tr>\n",
       "    <tr>\n",
       "      <th>1</th>\n",
       "      <td>0</td>\n",
       "      <td>9</td>\n",
       "      <td>59.9</td>\n",
       "      <td>542.40</td>\n",
       "      <td>Month-to-month</td>\n",
       "      <td>DSL</td>\n",
       "      <td>0</td>\n",
       "      <td>1</td>\n",
       "      <td>0</td>\n",
       "      <td>0</td>\n",
       "      <td>1</td>\n",
       "      <td>1</td>\n",
       "      <td>0</td>\n",
       "      <td>0</td>\n",
       "      <td>0</td>\n",
       "      <td>0</td>\n",
       "      <td>0</td>\n",
       "      <td>1</td>\n",
       "      <td>0</td>\n",
       "      <td>1</td>\n",
       "      <td>0</td>\n",
       "      <td>0</td>\n",
       "      <td>1</td>\n",
       "      <td>0</td>\n",
       "      <td>0</td>\n",
       "      <td>0</td>\n",
       "      <td>0</td>\n",
       "      <td>0</td>\n",
       "      <td>1</td>\n",
       "    </tr>\n",
       "    <tr>\n",
       "      <th>2</th>\n",
       "      <td>0</td>\n",
       "      <td>4</td>\n",
       "      <td>73.9</td>\n",
       "      <td>280.85</td>\n",
       "      <td>Month-to-month</td>\n",
       "      <td>Fiber optic</td>\n",
       "      <td>1</td>\n",
       "      <td>1</td>\n",
       "      <td>0</td>\n",
       "      <td>0</td>\n",
       "      <td>1</td>\n",
       "      <td>0</td>\n",
       "      <td>0</td>\n",
       "      <td>0</td>\n",
       "      <td>1</td>\n",
       "      <td>0</td>\n",
       "      <td>0</td>\n",
       "      <td>0</td>\n",
       "      <td>1</td>\n",
       "      <td>1</td>\n",
       "      <td>0</td>\n",
       "      <td>0</td>\n",
       "      <td>0</td>\n",
       "      <td>1</td>\n",
       "      <td>0</td>\n",
       "      <td>0</td>\n",
       "      <td>0</td>\n",
       "      <td>1</td>\n",
       "      <td>0</td>\n",
       "    </tr>\n",
       "    <tr>\n",
       "      <th>3</th>\n",
       "      <td>1</td>\n",
       "      <td>13</td>\n",
       "      <td>98.0</td>\n",
       "      <td>1237.85</td>\n",
       "      <td>Month-to-month</td>\n",
       "      <td>Fiber optic</td>\n",
       "      <td>1</td>\n",
       "      <td>1</td>\n",
       "      <td>1</td>\n",
       "      <td>0</td>\n",
       "      <td>1</td>\n",
       "      <td>0</td>\n",
       "      <td>0</td>\n",
       "      <td>1</td>\n",
       "      <td>1</td>\n",
       "      <td>0</td>\n",
       "      <td>1</td>\n",
       "      <td>1</td>\n",
       "      <td>1</td>\n",
       "      <td>1</td>\n",
       "      <td>0</td>\n",
       "      <td>0</td>\n",
       "      <td>0</td>\n",
       "      <td>1</td>\n",
       "      <td>0</td>\n",
       "      <td>0</td>\n",
       "      <td>0</td>\n",
       "      <td>1</td>\n",
       "      <td>0</td>\n",
       "    </tr>\n",
       "    <tr>\n",
       "      <th>4</th>\n",
       "      <td>1</td>\n",
       "      <td>3</td>\n",
       "      <td>83.9</td>\n",
       "      <td>267.40</td>\n",
       "      <td>Month-to-month</td>\n",
       "      <td>Fiber optic</td>\n",
       "      <td>1</td>\n",
       "      <td>0</td>\n",
       "      <td>1</td>\n",
       "      <td>0</td>\n",
       "      <td>1</td>\n",
       "      <td>0</td>\n",
       "      <td>0</td>\n",
       "      <td>0</td>\n",
       "      <td>0</td>\n",
       "      <td>1</td>\n",
       "      <td>1</td>\n",
       "      <td>0</td>\n",
       "      <td>1</td>\n",
       "      <td>1</td>\n",
       "      <td>0</td>\n",
       "      <td>0</td>\n",
       "      <td>0</td>\n",
       "      <td>1</td>\n",
       "      <td>0</td>\n",
       "      <td>0</td>\n",
       "      <td>0</td>\n",
       "      <td>0</td>\n",
       "      <td>1</td>\n",
       "    </tr>\n",
       "  </tbody>\n",
       "</table>\n",
       "</div>"
      ],
      "text/plain": [
       "   senior_citizen  tenure  monthly_charges  total_charges   contract_type  \\\n",
       "0               0       9             65.6         593.30        One year   \n",
       "1               0       9             59.9         542.40  Month-to-month   \n",
       "2               0       4             73.9         280.85  Month-to-month   \n",
       "3               1      13             98.0        1237.85  Month-to-month   \n",
       "4               1       3             83.9         267.40  Month-to-month   \n",
       "\n",
       "  internet_service_type  churn_Yes  gender_Male  partner_Yes  dependents_Yes  \\\n",
       "0                   DSL          0            0            1               1   \n",
       "1                   DSL          0            1            0               0   \n",
       "2           Fiber optic          1            1            0               0   \n",
       "3           Fiber optic          1            1            1               0   \n",
       "4           Fiber optic          1            0            1               0   \n",
       "\n",
       "   phone_service_Yes  multiple_lines_Yes  online_security_Yes  \\\n",
       "0                  1                   0                    0   \n",
       "1                  1                   1                    0   \n",
       "2                  1                   0                    0   \n",
       "3                  1                   0                    0   \n",
       "4                  1                   0                    0   \n",
       "\n",
       "   online_backup_Yes  device_protection_Yes  tech_support_Yes  \\\n",
       "0                  1                      0                 1   \n",
       "1                  0                      0                 0   \n",
       "2                  0                      1                 0   \n",
       "3                  1                      1                 0   \n",
       "4                  0                      0                 1   \n",
       "\n",
       "   streaming_tv_Yes  streaming_movies_Yes  paperless_billing_Yes  \\\n",
       "0                 1                     0                      1   \n",
       "1                 0                     1                      0   \n",
       "2                 0                     0                      1   \n",
       "3                 1                     1                      1   \n",
       "4                 1                     0                      1   \n",
       "\n",
       "   contract_type_Month-to-month  contract_type_One year  \\\n",
       "0                             0                       1   \n",
       "1                             1                       0   \n",
       "2                             1                       0   \n",
       "3                             1                       0   \n",
       "4                             1                       0   \n",
       "\n",
       "   contract_type_Two year  internet_service_type_DSL  \\\n",
       "0                       0                          1   \n",
       "1                       0                          1   \n",
       "2                       0                          0   \n",
       "3                       0                          0   \n",
       "4                       0                          0   \n",
       "\n",
       "   internet_service_type_Fiber optic  internet_service_type_None  \\\n",
       "0                                  0                           0   \n",
       "1                                  0                           0   \n",
       "2                                  1                           0   \n",
       "3                                  1                           0   \n",
       "4                                  1                           0   \n",
       "\n",
       "   payment_type_Bank transfer (automatic)  \\\n",
       "0                                       0   \n",
       "1                                       0   \n",
       "2                                       0   \n",
       "3                                       0   \n",
       "4                                       0   \n",
       "\n",
       "   payment_type_Credit card (automatic)  payment_type_Electronic check  \\\n",
       "0                                     0                              0   \n",
       "1                                     0                              0   \n",
       "2                                     0                              1   \n",
       "3                                     0                              1   \n",
       "4                                     0                              0   \n",
       "\n",
       "   payment_type_Mailed check  \n",
       "0                          1  \n",
       "1                          1  \n",
       "2                          0  \n",
       "3                          0  \n",
       "4                          1  "
      ]
     },
     "execution_count": 12,
     "metadata": {},
     "output_type": "execute_result"
    }
   ],
   "source": [
    "data.head()"
   ]
  },
  {
   "cell_type": "code",
   "execution_count": 13,
   "id": "bc714b63",
   "metadata": {},
   "outputs": [
    {
     "data": {
      "text/plain": [
       "senior_citizen                              int64\n",
       "tenure                                      int64\n",
       "monthly_charges                           float64\n",
       "total_charges                             float64\n",
       "contract_type                              object\n",
       "internet_service_type                      object\n",
       "churn_Yes                                   uint8\n",
       "gender_Male                                 uint8\n",
       "partner_Yes                                 uint8\n",
       "dependents_Yes                              uint8\n",
       "phone_service_Yes                           uint8\n",
       "multiple_lines_Yes                          uint8\n",
       "online_security_Yes                         uint8\n",
       "online_backup_Yes                           uint8\n",
       "device_protection_Yes                       uint8\n",
       "tech_support_Yes                            uint8\n",
       "streaming_tv_Yes                            uint8\n",
       "streaming_movies_Yes                        uint8\n",
       "paperless_billing_Yes                       uint8\n",
       "contract_type_Month-to-month                uint8\n",
       "contract_type_One year                      uint8\n",
       "contract_type_Two year                      uint8\n",
       "internet_service_type_DSL                   uint8\n",
       "internet_service_type_Fiber optic           uint8\n",
       "internet_service_type_None                  uint8\n",
       "payment_type_Bank transfer (automatic)      uint8\n",
       "payment_type_Credit card (automatic)        uint8\n",
       "payment_type_Electronic check               uint8\n",
       "payment_type_Mailed check                   uint8\n",
       "dtype: object"
      ]
     },
     "execution_count": 13,
     "metadata": {},
     "output_type": "execute_result"
    }
   ],
   "source": [
    "data.dtypes"
   ]
  },
  {
   "cell_type": "code",
   "execution_count": 14,
   "id": "98ab2a26",
   "metadata": {},
   "outputs": [],
   "source": [
    "train, val, test = prepare.split_train_test(data, 'churn_Yes')"
   ]
  },
  {
   "cell_type": "code",
   "execution_count": 15,
   "id": "9d281ea2",
   "metadata": {},
   "outputs": [
    {
     "data": {
      "text/plain": [
       "((3521, 29), (2113, 29), (1409, 29))"
      ]
     },
     "execution_count": 15,
     "metadata": {},
     "output_type": "execute_result"
    }
   ],
   "source": [
    "train.shape, val.shape, test.shape"
   ]
  },
  {
   "cell_type": "code",
   "execution_count": 16,
   "id": "8211a613",
   "metadata": {},
   "outputs": [
    {
     "data": {
      "text/html": [
       "<div>\n",
       "<style scoped>\n",
       "    .dataframe tbody tr th:only-of-type {\n",
       "        vertical-align: middle;\n",
       "    }\n",
       "\n",
       "    .dataframe tbody tr th {\n",
       "        vertical-align: top;\n",
       "    }\n",
       "\n",
       "    .dataframe thead th {\n",
       "        text-align: right;\n",
       "    }\n",
       "</style>\n",
       "<table border=\"1\" class=\"dataframe\">\n",
       "  <thead>\n",
       "    <tr style=\"text-align: right;\">\n",
       "      <th></th>\n",
       "      <th>senior_citizen</th>\n",
       "      <th>tenure</th>\n",
       "      <th>monthly_charges</th>\n",
       "      <th>total_charges</th>\n",
       "      <th>contract_type</th>\n",
       "      <th>internet_service_type</th>\n",
       "      <th>churn_Yes</th>\n",
       "      <th>gender_Male</th>\n",
       "      <th>partner_Yes</th>\n",
       "      <th>dependents_Yes</th>\n",
       "      <th>phone_service_Yes</th>\n",
       "      <th>multiple_lines_Yes</th>\n",
       "      <th>online_security_Yes</th>\n",
       "      <th>online_backup_Yes</th>\n",
       "      <th>device_protection_Yes</th>\n",
       "      <th>tech_support_Yes</th>\n",
       "      <th>streaming_tv_Yes</th>\n",
       "      <th>streaming_movies_Yes</th>\n",
       "      <th>paperless_billing_Yes</th>\n",
       "      <th>contract_type_Month-to-month</th>\n",
       "      <th>contract_type_One year</th>\n",
       "      <th>contract_type_Two year</th>\n",
       "      <th>internet_service_type_DSL</th>\n",
       "      <th>internet_service_type_Fiber optic</th>\n",
       "      <th>internet_service_type_None</th>\n",
       "      <th>payment_type_Bank transfer (automatic)</th>\n",
       "      <th>payment_type_Credit card (automatic)</th>\n",
       "      <th>payment_type_Electronic check</th>\n",
       "      <th>payment_type_Mailed check</th>\n",
       "    </tr>\n",
       "  </thead>\n",
       "  <tbody>\n",
       "    <tr>\n",
       "      <th>5707</th>\n",
       "      <td>1</td>\n",
       "      <td>63</td>\n",
       "      <td>108.5</td>\n",
       "      <td>6991.9</td>\n",
       "      <td>Two year</td>\n",
       "      <td>Fiber optic</td>\n",
       "      <td>0</td>\n",
       "      <td>1</td>\n",
       "      <td>1</td>\n",
       "      <td>0</td>\n",
       "      <td>1</td>\n",
       "      <td>1</td>\n",
       "      <td>1</td>\n",
       "      <td>1</td>\n",
       "      <td>1</td>\n",
       "      <td>0</td>\n",
       "      <td>1</td>\n",
       "      <td>1</td>\n",
       "      <td>0</td>\n",
       "      <td>0</td>\n",
       "      <td>0</td>\n",
       "      <td>1</td>\n",
       "      <td>0</td>\n",
       "      <td>1</td>\n",
       "      <td>0</td>\n",
       "      <td>0</td>\n",
       "      <td>1</td>\n",
       "      <td>0</td>\n",
       "      <td>0</td>\n",
       "    </tr>\n",
       "    <tr>\n",
       "      <th>2889</th>\n",
       "      <td>0</td>\n",
       "      <td>4</td>\n",
       "      <td>24.1</td>\n",
       "      <td>73.1</td>\n",
       "      <td>One year</td>\n",
       "      <td>None</td>\n",
       "      <td>0</td>\n",
       "      <td>1</td>\n",
       "      <td>1</td>\n",
       "      <td>1</td>\n",
       "      <td>1</td>\n",
       "      <td>1</td>\n",
       "      <td>0</td>\n",
       "      <td>0</td>\n",
       "      <td>0</td>\n",
       "      <td>0</td>\n",
       "      <td>0</td>\n",
       "      <td>0</td>\n",
       "      <td>0</td>\n",
       "      <td>0</td>\n",
       "      <td>1</td>\n",
       "      <td>0</td>\n",
       "      <td>0</td>\n",
       "      <td>0</td>\n",
       "      <td>1</td>\n",
       "      <td>0</td>\n",
       "      <td>1</td>\n",
       "      <td>0</td>\n",
       "      <td>0</td>\n",
       "    </tr>\n",
       "  </tbody>\n",
       "</table>\n",
       "</div>"
      ],
      "text/plain": [
       "      senior_citizen  tenure  monthly_charges  total_charges contract_type  \\\n",
       "5707               1      63            108.5         6991.9      Two year   \n",
       "2889               0       4             24.1           73.1      One year   \n",
       "\n",
       "     internet_service_type  churn_Yes  gender_Male  partner_Yes  \\\n",
       "5707           Fiber optic          0            1            1   \n",
       "2889                  None          0            1            1   \n",
       "\n",
       "      dependents_Yes  phone_service_Yes  multiple_lines_Yes  \\\n",
       "5707               0                  1                   1   \n",
       "2889               1                  1                   1   \n",
       "\n",
       "      online_security_Yes  online_backup_Yes  device_protection_Yes  \\\n",
       "5707                    1                  1                      1   \n",
       "2889                    0                  0                      0   \n",
       "\n",
       "      tech_support_Yes  streaming_tv_Yes  streaming_movies_Yes  \\\n",
       "5707                 0                 1                     1   \n",
       "2889                 0                 0                     0   \n",
       "\n",
       "      paperless_billing_Yes  contract_type_Month-to-month  \\\n",
       "5707                      0                             0   \n",
       "2889                      0                             0   \n",
       "\n",
       "      contract_type_One year  contract_type_Two year  \\\n",
       "5707                       0                       1   \n",
       "2889                       1                       0   \n",
       "\n",
       "      internet_service_type_DSL  internet_service_type_Fiber optic  \\\n",
       "5707                          0                                  1   \n",
       "2889                          0                                  0   \n",
       "\n",
       "      internet_service_type_None  payment_type_Bank transfer (automatic)  \\\n",
       "5707                           0                                       0   \n",
       "2889                           1                                       0   \n",
       "\n",
       "      payment_type_Credit card (automatic)  payment_type_Electronic check  \\\n",
       "5707                                     1                              0   \n",
       "2889                                     1                              0   \n",
       "\n",
       "      payment_type_Mailed check  \n",
       "5707                          0  \n",
       "2889                          0  "
      ]
     },
     "execution_count": 16,
     "metadata": {},
     "output_type": "execute_result"
    }
   ],
   "source": [
    "train.head(2)"
   ]
  },
  {
   "cell_type": "markdown",
   "id": "44a1b286",
   "metadata": {},
   "source": [
    "# Q1 Is whether or not a customer churns independent of their internet service type?"
   ]
  },
  {
   "cell_type": "code",
   "execution_count": 17,
   "id": "0c07956c",
   "metadata": {},
   "outputs": [
    {
     "data": {
      "image/png": "[encoded data removed]",
      "text/plain": [
       "<Figure size 640x480 with 1 Axes>"
      ]
     },
     "metadata": {},
     "output_type": "display_data"
    }
   ],
   "source": [
    "sns.barplot(x='internet_service_type', y='churn_Yes', data=train)\n",
    "churn_rate = train.churn_Yes.mean()\n",
    "plt.axhline(churn_rate, label=\"Average Churn\")\n",
    "plt.legend()\n",
    "plt.show()"
   ]
  },
  {
   "cell_type": "markdown",
   "id": "b4cc9405",
   "metadata": {},
   "source": [
    "Null hypothesis here is that there is no relationship between internet service type and churn status\n",
    "\n",
    "Alternative hypothesis is that there *is* a relationship beteween the two\n"
   ]
  },
  {
   "cell_type": "code",
   "execution_count": 18,
   "id": "c8026456",
   "metadata": {},
   "outputs": [],
   "source": [
    "observed = pd.crosstab(train.internet_service_type, train.churn_Yes)"
   ]
  },
  {
   "cell_type": "code",
   "execution_count": 19,
   "id": "2dc08b04",
   "metadata": {},
   "outputs": [
    {
     "data": {
      "text/html": [
       "<div>\n",
       "<style scoped>\n",
       "    .dataframe tbody tr th:only-of-type {\n",
       "        vertical-align: middle;\n",
       "    }\n",
       "\n",
       "    .dataframe tbody tr th {\n",
       "        vertical-align: top;\n",
       "    }\n",
       "\n",
       "    .dataframe thead th {\n",
       "        text-align: right;\n",
       "    }\n",
       "</style>\n",
       "<table border=\"1\" class=\"dataframe\">\n",
       "  <thead>\n",
       "    <tr style=\"text-align: right;\">\n",
       "      <th>churn_Yes</th>\n",
       "      <th>0</th>\n",
       "      <th>1</th>\n",
       "    </tr>\n",
       "    <tr>\n",
       "      <th>internet_service_type</th>\n",
       "      <th></th>\n",
       "      <th></th>\n",
       "    </tr>\n",
       "  </thead>\n",
       "  <tbody>\n",
       "    <tr>\n",
       "      <th>DSL</th>\n",
       "      <td>998</td>\n",
       "      <td>242</td>\n",
       "    </tr>\n",
       "    <tr>\n",
       "      <th>Fiber optic</th>\n",
       "      <td>892</td>\n",
       "      <td>632</td>\n",
       "    </tr>\n",
       "    <tr>\n",
       "      <th>None</th>\n",
       "      <td>697</td>\n",
       "      <td>60</td>\n",
       "    </tr>\n",
       "  </tbody>\n",
       "</table>\n",
       "</div>"
      ],
      "text/plain": [
       "churn_Yes                0    1\n",
       "internet_service_type          \n",
       "DSL                    998  242\n",
       "Fiber optic            892  632\n",
       "None                   697   60"
      ]
     },
     "execution_count": 19,
     "metadata": {},
     "output_type": "execute_result"
    }
   ],
   "source": [
    "observed"
   ]
  },
  {
   "cell_type": "code",
   "execution_count": 20,
   "id": "1f94b1ea",
   "metadata": {},
   "outputs": [],
   "source": [
    "chi2, p, degf, expected = stats.chi2_contingency(observed)"
   ]
  },
  {
   "cell_type": "code",
   "execution_count": 21,
   "id": "4ef850b4",
   "metadata": {},
   "outputs": [
    {
     "data": {
      "text/plain": [
       "(340.2562919671569,\n",
       " 1.3010230258879231e-74,\n",
       " 2,\n",
       " array([[ 911.07071855,  328.92928145],\n",
       "        [1119.73530247,  404.26469753],\n",
       "        [ 556.19397898,  200.80602102]]))"
      ]
     },
     "execution_count": 21,
     "metadata": {},
     "output_type": "execute_result"
    }
   ],
   "source": [
    "chi2, p, degf, expected"
   ]
  },
  {
   "cell_type": "code",
   "execution_count": 22,
   "id": "d288a9c5",
   "metadata": {},
   "outputs": [],
   "source": [
    "alpha = .05"
   ]
  },
  {
   "cell_type": "code",
   "execution_count": 23,
   "id": "a7cc8d3a",
   "metadata": {},
   "outputs": [
    {
     "name": "stdout",
     "output_type": "stream",
     "text": [
      "Observed Values\n",
      "\n",
      "[[998 242]\n",
      " [892 632]\n",
      " [697  60]]\n",
      "---\n",
      "Expected Values\n",
      "\n",
      "[[ 911  328]\n",
      " [1119  404]\n",
      " [ 556  200]]\n",
      "---\n",
      "\n",
      "chi^2 = 340.2563\n",
      "p     = 0.0000\n",
      "Is p-value < alpha? True\n"
     ]
    }
   ],
   "source": [
    "# print 'Observed Values' followed by a new line\n",
    "print('Observed Values\\n')\n",
    "\n",
    "# print the values from the 'observed' dataframe\n",
    "print(observed.values)\n",
    "\n",
    "# print --- and then a new line, 'Expected Values', followed by another new line\n",
    "print('---\\nExpected Values\\n')\n",
    "\n",
    "# print the expected values array\n",
    "print(expected.astype(int))\n",
    "\n",
    "# print a new line\n",
    "print('---\\n')\n",
    "\n",
    "# print the chi2 value, formatted to a float with 4 digits. \n",
    "print(f'chi^2 = {chi2:.4f}') \n",
    "\n",
    "# print the p-value, formatted to a float with 4 digits. \n",
    "print(f'p     = {p:.4f}')\n",
    "\n",
    "alpha = .05\n",
    "print('Is p-value < alpha?', p < alpha)"
   ]
  },
  {
   "cell_type": "markdown",
   "id": "f6140e8c",
   "metadata": {},
   "source": [
    "Takeaways:\n",
    "\n",
    "- According to the Chi2 test, there *is* a relationship between internet service type and churn. The chi^2 value is very high, with the p-value being very low, meaning there is a large difference in the observed and expected values.\n",
    "\n",
    "- There are significantly more people who had fiber optic internet that churned than people who had DSL or who had no internet.\n",
    "\n",
    "- Customers with DSL and no internet are well below average when it comes to customers who have churned, while fiber optic is way above average"
   ]
  },
  {
   "cell_type": "markdown",
   "id": "e45a5911",
   "metadata": {},
   "source": [
    "# Q2 Are contract type and churn status related?\n"
   ]
  },
  {
   "cell_type": "code",
   "execution_count": 24,
   "id": "3a0a3860",
   "metadata": {},
   "outputs": [
    {
     "data": {
      "image/png": "[encoded data removed]",
      "text/plain": [
       "<Figure size 640x480 with 1 Axes>"
      ]
     },
     "metadata": {},
     "output_type": "display_data"
    }
   ],
   "source": [
    "sns.barplot(x='contract_type', y='churn_Yes', data=train)\n",
    "churn_rate = train.churn_Yes.mean()\n",
    "plt.axhline(churn_rate, label=\"Average Churn\")\n",
    "plt.legend()\n",
    "plt.show()"
   ]
  },
  {
   "cell_type": "markdown",
   "id": "0fbb25df",
   "metadata": {},
   "source": [
    "Null Hypothesis here is that there is *no* relationship between contract type and churn\n",
    "\n",
    "Alternative Hypothesis here is that there *is* a relationship between contract type and churn"
   ]
  },
  {
   "cell_type": "code",
   "execution_count": 25,
   "id": "88906592",
   "metadata": {},
   "outputs": [
    {
     "data": {
      "text/html": [
       "<div>\n",
       "<style scoped>\n",
       "    .dataframe tbody tr th:only-of-type {\n",
       "        vertical-align: middle;\n",
       "    }\n",
       "\n",
       "    .dataframe tbody tr th {\n",
       "        vertical-align: top;\n",
       "    }\n",
       "\n",
       "    .dataframe thead th {\n",
       "        text-align: right;\n",
       "    }\n",
       "</style>\n",
       "<table border=\"1\" class=\"dataframe\">\n",
       "  <thead>\n",
       "    <tr style=\"text-align: right;\">\n",
       "      <th>churn_Yes</th>\n",
       "      <th>0</th>\n",
       "      <th>1</th>\n",
       "    </tr>\n",
       "    <tr>\n",
       "      <th>contract_type</th>\n",
       "      <th></th>\n",
       "      <th></th>\n",
       "    </tr>\n",
       "  </thead>\n",
       "  <tbody>\n",
       "    <tr>\n",
       "      <th>Month-to-month</th>\n",
       "      <td>1116</td>\n",
       "      <td>821</td>\n",
       "    </tr>\n",
       "    <tr>\n",
       "      <th>One year</th>\n",
       "      <td>634</td>\n",
       "      <td>95</td>\n",
       "    </tr>\n",
       "    <tr>\n",
       "      <th>Two year</th>\n",
       "      <td>837</td>\n",
       "      <td>18</td>\n",
       "    </tr>\n",
       "  </tbody>\n",
       "</table>\n",
       "</div>"
      ],
      "text/plain": [
       "churn_Yes          0    1\n",
       "contract_type            \n",
       "Month-to-month  1116  821\n",
       "One year         634   95\n",
       "Two year         837   18"
      ]
     },
     "execution_count": 25,
     "metadata": {},
     "output_type": "execute_result"
    }
   ],
   "source": [
    "observed2 = pd.crosstab(train.contract_type, train.churn_Yes)\n",
    "observed2"
   ]
  },
  {
   "cell_type": "code",
   "execution_count": 27,
   "id": "42c5e373",
   "metadata": {},
   "outputs": [
    {
     "data": {
      "text/plain": [
       "(579.6971753504483,\n",
       " 1.319343206618824e-126,\n",
       " 2,\n",
       " array([[1423.1806305 ,  513.8193695 ],\n",
       "        [ 535.62141437,  193.37858563],\n",
       "        [ 628.19795513,  226.80204487]]))"
      ]
     },
     "execution_count": 27,
     "metadata": {},
     "output_type": "execute_result"
    }
   ],
   "source": [
    "chi2, p, degf, expected = stats.chi2_contingency(observed2)\n",
    "\n",
    "chi2, p, degf, expected"
   ]
  },
  {
   "cell_type": "code",
   "execution_count": 29,
   "id": "6aac7208",
   "metadata": {},
   "outputs": [
    {
     "name": "stdout",
     "output_type": "stream",
     "text": [
      "Observed Values\n",
      "\n",
      "[[998 242]\n",
      " [892 632]\n",
      " [697  60]]\n",
      "---\n",
      "Expected Values\n",
      "\n",
      "[[1423  513]\n",
      " [ 535  193]\n",
      " [ 628  226]]\n",
      "---\n",
      "\n",
      "chi^2 = 579.6972\n",
      "p     = 0.0000\n",
      "Is p-value < alpha? True\n"
     ]
    }
   ],
   "source": [
    "# print 'Observed Values' followed by a new line\n",
    "print('Observed Values\\n')\n",
    "\n",
    "# print the values from the 'observed' dataframe\n",
    "print(observed.values)\n",
    "\n",
    "# print --- and then a new line, 'Expected Values', followed by another new line\n",
    "print('---\\nExpected Values\\n')\n",
    "\n",
    "# print the expected values array\n",
    "print(expected.astype(int))\n",
    "\n",
    "# print a new line\n",
    "print('---\\n')\n",
    "\n",
    "# print the chi2 value, formatted to a float with 4 digits. \n",
    "print(f'chi^2 = {chi2:.4f}') \n",
    "\n",
    "# print the p-value, formatted to a float with 4 digits. \n",
    "print(f'p     = {p:.4f}')\n",
    "\n",
    "print('Is p-value < alpha?', p < alpha)\n"
   ]
  },
  {
   "cell_type": "markdown",
   "id": "e0b36dc1",
   "metadata": {},
   "source": [
    "Takeaways:\n",
    "\n",
    "- According to the chi^2 test, there *is a relationship between contract type and customers who have churned.\n",
    "\n",
    "- A **significantly** larger percentage of people who were month-to-month churned verus the other two categories\n",
    "\n",
    "- There *were* a lot more customers who had month-to-month contracts than those who had one or two year contracts, but even still the percentage is much higher. The number of one and two year contract customers who churn are well below the average, while those who are month to month are way above."
   ]
  },
  {
   "cell_type": "markdown",
   "id": "caa92a8d",
   "metadata": {},
   "source": [
    "# Q3 What is the relationship between phone service and churn?"
   ]
  },
  {
   "cell_type": "code",
   "execution_count": 36,
   "id": "a3261667",
   "metadata": {},
   "outputs": [
    {
     "data": {
      "text/plain": [
       "<AxesSubplot:xlabel='phone_service_Yes', ylabel='churn_Yes'>"
      ]
     },
     "execution_count": 36,
     "metadata": {},
     "output_type": "execute_result"
    },
    {
     "data": {
      "image/png": "[encoded data removed]",
      "text/plain": [
       "<Figure size 640x480 with 1 Axes>"
      ]
     },
     "metadata": {},
     "output_type": "display_data"
    }
   ],
   "source": [
    "sns.barplot(x='phone_service_Yes', y='churn_Yes', data=train)"
   ]
  },
  {
   "cell_type": "markdown",
   "id": "981c1156",
   "metadata": {},
   "source": [
    "Takeaways:\n",
    "\n",
    "- The churn rates for customers who had phone service and those who didn't is very similar, though the confidence interval for those who didn't churn is much larger"
   ]
  },
  {
   "cell_type": "markdown",
   "id": "8d9d9166",
   "metadata": {},
   "source": [
    "# Q4 Does Gender factor into churn?"
   ]
  },
  {
   "cell_type": "code",
   "execution_count": 31,
   "id": "116c71ca",
   "metadata": {},
   "outputs": [
    {
     "data": {
      "text/plain": [
       "<AxesSubplot:xlabel='gender_Male', ylabel='churn_Yes'>"
      ]
     },
     "execution_count": 31,
     "metadata": {},
     "output_type": "execute_result"
    },
    {
     "data": {
      "image/png": "[encoded data removed]",
      "text/plain": [
       "<Figure size 640x480 with 1 Axes>"
      ]
     },
     "metadata": {},
     "output_type": "display_data"
    }
   ],
   "source": [
    "sns.barplot(x='gender_Male', y='churn_Yes', data=train)"
   ]
  },
  {
   "cell_type": "markdown",
   "id": "c516788f",
   "metadata": {},
   "source": [
    "Takeaways:\n",
    "\n",
    "- The churn rate for for males and females are very similar, so it is not likely that gender plays a significant role in churn"
   ]
  },
  {
   "cell_type": "markdown",
   "id": "b8c71f89",
   "metadata": {},
   "source": [
    "# Q5 Do monthly charges differ for different contract types?"
   ]
  },
  {
   "cell_type": "code",
   "execution_count": 34,
   "id": "84c476f5",
   "metadata": {
    "scrolled": false
   },
   "outputs": [
    {
     "data": {
      "text/plain": [
       "<AxesSubplot:xlabel='contract_type', ylabel='monthly_charges'>"
      ]
     },
     "execution_count": 34,
     "metadata": {},
     "output_type": "execute_result"
    },
    {
     "data": {
      "image/png": "[encoded data removed]",
      "text/plain": [
       "<Figure size 640x480 with 1 Axes>"
      ]
     },
     "metadata": {},
     "output_type": "display_data"
    }
   ],
   "source": [
    "sns.barplot(x='contract_type', y='monthly_charges',\n",
    "            hue='churn_Yes', data=train)"
   ]
  },
  {
   "cell_type": "markdown",
   "id": "f3c2a69a",
   "metadata": {},
   "source": [
    "Takeaways:\n",
    "\n",
    "- Monthly charges do vary somewhat when compared to contract type and if they've churned, however when comparing those same variables to customers who haven't churned, monthly charges are consistent across the board.\n",
    "\n",
    "- Charges for customers who churned are all higher than those who haven't.\n"
   ]
  },
  {
   "cell_type": "markdown",
   "id": "7acbb1bf",
   "metadata": {},
   "source": [
    "Overall takeaways and what I plan to use for my models:"
   ]
  },
  {
   "cell_type": "markdown",
   "id": "0f038806",
   "metadata": {},
   "source": []
  },
  {
   "cell_type": "markdown",
   "id": "ce5c3ca7",
   "metadata": {},
   "source": []
  },
  {
   "cell_type": "markdown",
   "id": "be30d45a",
   "metadata": {},
   "source": []
  }
 ],
 "metadata": {
  "kernelspec": {
   "display_name": "Python 3 (ipykernel)",
   "language": "python",
   "name": "python3"
  },
  "language_info": {
   "codemirror_mode": {
    "name": "ipython",
    "version": 3
   },
   "file_extension": ".py",
   "mimetype": "text/x-python",
   "name": "python",
   "nbconvert_exporter": "python",
   "pygments_lexer": "ipython3",
   "version": "3.9.15"
  },
  "toc": {
   "base_numbering": 1,
   "nav_menu": {},
   "number_sections": true,
   "sideBar": true,
   "skip_h1_title": false,
   "title_cell": "Table of Contents",
   "title_sidebar": "Contents",
   "toc_cell": false,
   "toc_position": {
    "height": "calc(100% - 180px)",
    "left": "10px",
    "top": "150px",
    "width": "169.106px"
   },
   "toc_section_display": true,
   "toc_window_display": false
  }
 },
 "nbformat": 4,
 "nbformat_minor": 5
}
