{
 "cells": [
  {
   "cell_type": "markdown",
   "id": "63c84c17",
   "metadata": {},
   "source": [
    "# Imports"
   ]
  },
  {
   "cell_type": "code",
   "execution_count": 1,
   "id": "7eedca91",
   "metadata": {},
   "outputs": [],
   "source": [
    "import pandas as pd\n",
    "import numpy as np\n",
    "import seaborn as sns\n",
    "import matplotlib.pyplot as plt\n",
    "from scipy import stats\n",
    "\n",
    "import acquire\n",
    "import prepare\n",
    "import modeling\n",
    "\n",
    "from sklearn.model_selection import train_test_split\n",
    "from sklearn.tree import DecisionTreeClassifier, plot_tree\n",
    "from sklearn.metrics import classification_report, confusion_matrix, plot_confusion_matrix\n",
    "from sklearn.ensemble import RandomForestClassifier\n",
    "from sklearn.neighbors import KNeighborsClassifier\n",
    "from sklearn.linear_model import LogisticRegression\n",
    "\n",
    "import warnings\n",
    "warnings.filterwarnings('ignore')\n",
    "\n",
    "%matplotlib inline\n",
    "pd.options.display.max_columns = None"
   ]
  },
  {
   "cell_type": "code",
   "execution_count": 2,
   "id": "fe0bcc1f",
   "metadata": {},
   "outputs": [],
   "source": [
    "#setting a seed\n",
    "\n",
    "seed = 42"
   ]
  },
  {
   "cell_type": "markdown",
   "id": "a458afcd",
   "metadata": {},
   "source": [
    "# Acquire and Preparing data"
   ]
  },
  {
   "cell_type": "code",
   "execution_count": 3,
   "id": "7bd0788c",
   "metadata": {},
   "outputs": [],
   "source": [
    "data = acquire.get_telco_data()"
   ]
  },
  {
   "cell_type": "code",
   "execution_count": 4,
   "id": "4a91ad8e",
   "metadata": {},
   "outputs": [],
   "source": [
    "data = prepare.prep_telco(data)"
   ]
  },
  {
   "cell_type": "code",
   "execution_count": 7,
   "id": "931200dd",
   "metadata": {
    "scrolled": true
   },
   "outputs": [
    {
     "data": {
      "text/html": [
       "<div>\n",
       "<style scoped>\n",
       "    .dataframe tbody tr th:only-of-type {\n",
       "        vertical-align: middle;\n",
       "    }\n",
       "\n",
       "    .dataframe tbody tr th {\n",
       "        vertical-align: top;\n",
       "    }\n",
       "\n",
       "    .dataframe thead th {\n",
       "        text-align: right;\n",
       "    }\n",
       "</style>\n",
       "<table border=\"1\" class=\"dataframe\">\n",
       "  <thead>\n",
       "    <tr style=\"text-align: right;\">\n",
       "      <th></th>\n",
       "      <th>customer_id</th>\n",
       "      <th>senior_citizen</th>\n",
       "      <th>tenure</th>\n",
       "      <th>monthly_charges</th>\n",
       "      <th>total_charges</th>\n",
       "      <th>contract_type</th>\n",
       "      <th>internet_service_type</th>\n",
       "      <th>churn_Yes</th>\n",
       "      <th>gender_Male</th>\n",
       "      <th>partner_Yes</th>\n",
       "      <th>dependents_Yes</th>\n",
       "      <th>phone_service_Yes</th>\n",
       "      <th>multiple_lines_Yes</th>\n",
       "      <th>online_security_Yes</th>\n",
       "      <th>online_backup_Yes</th>\n",
       "      <th>device_protection_Yes</th>\n",
       "      <th>tech_support_Yes</th>\n",
       "      <th>streaming_tv_Yes</th>\n",
       "      <th>streaming_movies_Yes</th>\n",
       "      <th>paperless_billing_Yes</th>\n",
       "      <th>contract_type_Month-to-month</th>\n",
       "      <th>contract_type_One year</th>\n",
       "      <th>contract_type_Two year</th>\n",
       "      <th>internet_service_type_DSL</th>\n",
       "      <th>internet_service_type_Fiber optic</th>\n",
       "      <th>internet_service_type_None</th>\n",
       "      <th>payment_type_Bank transfer (automatic)</th>\n",
       "      <th>payment_type_Credit card (automatic)</th>\n",
       "      <th>payment_type_Electronic check</th>\n",
       "      <th>payment_type_Mailed check</th>\n",
       "    </tr>\n",
       "  </thead>\n",
       "  <tbody>\n",
       "    <tr>\n",
       "      <th>0</th>\n",
       "      <td>0002-ORFBO</td>\n",
       "      <td>0</td>\n",
       "      <td>9</td>\n",
       "      <td>65.6</td>\n",
       "      <td>593.30</td>\n",
       "      <td>One year</td>\n",
       "      <td>DSL</td>\n",
       "      <td>0</td>\n",
       "      <td>0</td>\n",
       "      <td>1</td>\n",
       "      <td>1</td>\n",
       "      <td>1</td>\n",
       "      <td>0</td>\n",
       "      <td>0</td>\n",
       "      <td>1</td>\n",
       "      <td>0</td>\n",
       "      <td>1</td>\n",
       "      <td>1</td>\n",
       "      <td>0</td>\n",
       "      <td>1</td>\n",
       "      <td>0</td>\n",
       "      <td>1</td>\n",
       "      <td>0</td>\n",
       "      <td>1</td>\n",
       "      <td>0</td>\n",
       "      <td>0</td>\n",
       "      <td>0</td>\n",
       "      <td>0</td>\n",
       "      <td>0</td>\n",
       "      <td>1</td>\n",
       "    </tr>\n",
       "    <tr>\n",
       "      <th>1</th>\n",
       "      <td>0003-MKNFE</td>\n",
       "      <td>0</td>\n",
       "      <td>9</td>\n",
       "      <td>59.9</td>\n",
       "      <td>542.40</td>\n",
       "      <td>Month-to-month</td>\n",
       "      <td>DSL</td>\n",
       "      <td>0</td>\n",
       "      <td>1</td>\n",
       "      <td>0</td>\n",
       "      <td>0</td>\n",
       "      <td>1</td>\n",
       "      <td>1</td>\n",
       "      <td>0</td>\n",
       "      <td>0</td>\n",
       "      <td>0</td>\n",
       "      <td>0</td>\n",
       "      <td>0</td>\n",
       "      <td>1</td>\n",
       "      <td>0</td>\n",
       "      <td>1</td>\n",
       "      <td>0</td>\n",
       "      <td>0</td>\n",
       "      <td>1</td>\n",
       "      <td>0</td>\n",
       "      <td>0</td>\n",
       "      <td>0</td>\n",
       "      <td>0</td>\n",
       "      <td>0</td>\n",
       "      <td>1</td>\n",
       "    </tr>\n",
       "    <tr>\n",
       "      <th>2</th>\n",
       "      <td>0004-TLHLJ</td>\n",
       "      <td>0</td>\n",
       "      <td>4</td>\n",
       "      <td>73.9</td>\n",
       "      <td>280.85</td>\n",
       "      <td>Month-to-month</td>\n",
       "      <td>Fiber optic</td>\n",
       "      <td>1</td>\n",
       "      <td>1</td>\n",
       "      <td>0</td>\n",
       "      <td>0</td>\n",
       "      <td>1</td>\n",
       "      <td>0</td>\n",
       "      <td>0</td>\n",
       "      <td>0</td>\n",
       "      <td>1</td>\n",
       "      <td>0</td>\n",
       "      <td>0</td>\n",
       "      <td>0</td>\n",
       "      <td>1</td>\n",
       "      <td>1</td>\n",
       "      <td>0</td>\n",
       "      <td>0</td>\n",
       "      <td>0</td>\n",
       "      <td>1</td>\n",
       "      <td>0</td>\n",
       "      <td>0</td>\n",
       "      <td>0</td>\n",
       "      <td>1</td>\n",
       "      <td>0</td>\n",
       "    </tr>\n",
       "    <tr>\n",
       "      <th>3</th>\n",
       "      <td>0011-IGKFF</td>\n",
       "      <td>1</td>\n",
       "      <td>13</td>\n",
       "      <td>98.0</td>\n",
       "      <td>1237.85</td>\n",
       "      <td>Month-to-month</td>\n",
       "      <td>Fiber optic</td>\n",
       "      <td>1</td>\n",
       "      <td>1</td>\n",
       "      <td>1</td>\n",
       "      <td>0</td>\n",
       "      <td>1</td>\n",
       "      <td>0</td>\n",
       "      <td>0</td>\n",
       "      <td>1</td>\n",
       "      <td>1</td>\n",
       "      <td>0</td>\n",
       "      <td>1</td>\n",
       "      <td>1</td>\n",
       "      <td>1</td>\n",
       "      <td>1</td>\n",
       "      <td>0</td>\n",
       "      <td>0</td>\n",
       "      <td>0</td>\n",
       "      <td>1</td>\n",
       "      <td>0</td>\n",
       "      <td>0</td>\n",
       "      <td>0</td>\n",
       "      <td>1</td>\n",
       "      <td>0</td>\n",
       "    </tr>\n",
       "    <tr>\n",
       "      <th>4</th>\n",
       "      <td>0013-EXCHZ</td>\n",
       "      <td>1</td>\n",
       "      <td>3</td>\n",
       "      <td>83.9</td>\n",
       "      <td>267.40</td>\n",
       "      <td>Month-to-month</td>\n",
       "      <td>Fiber optic</td>\n",
       "      <td>1</td>\n",
       "      <td>0</td>\n",
       "      <td>1</td>\n",
       "      <td>0</td>\n",
       "      <td>1</td>\n",
       "      <td>0</td>\n",
       "      <td>0</td>\n",
       "      <td>0</td>\n",
       "      <td>0</td>\n",
       "      <td>1</td>\n",
       "      <td>1</td>\n",
       "      <td>0</td>\n",
       "      <td>1</td>\n",
       "      <td>1</td>\n",
       "      <td>0</td>\n",
       "      <td>0</td>\n",
       "      <td>0</td>\n",
       "      <td>1</td>\n",
       "      <td>0</td>\n",
       "      <td>0</td>\n",
       "      <td>0</td>\n",
       "      <td>0</td>\n",
       "      <td>1</td>\n",
       "    </tr>\n",
       "  </tbody>\n",
       "</table>\n",
       "</div>"
      ],
      "text/plain": [
       "  customer_id  senior_citizen  tenure  monthly_charges  total_charges  \\\n",
       "0  0002-ORFBO               0       9             65.6         593.30   \n",
       "1  0003-MKNFE               0       9             59.9         542.40   \n",
       "2  0004-TLHLJ               0       4             73.9         280.85   \n",
       "3  0011-IGKFF               1      13             98.0        1237.85   \n",
       "4  0013-EXCHZ               1       3             83.9         267.40   \n",
       "\n",
       "    contract_type internet_service_type  churn_Yes  gender_Male  partner_Yes  \\\n",
       "0        One year                   DSL          0            0            1   \n",
       "1  Month-to-month                   DSL          0            1            0   \n",
       "2  Month-to-month           Fiber optic          1            1            0   \n",
       "3  Month-to-month           Fiber optic          1            1            1   \n",
       "4  Month-to-month           Fiber optic          1            0            1   \n",
       "\n",
       "   dependents_Yes  phone_service_Yes  multiple_lines_Yes  online_security_Yes  \\\n",
       "0               1                  1                   0                    0   \n",
       "1               0                  1                   1                    0   \n",
       "2               0                  1                   0                    0   \n",
       "3               0                  1                   0                    0   \n",
       "4               0                  1                   0                    0   \n",
       "\n",
       "   online_backup_Yes  device_protection_Yes  tech_support_Yes  \\\n",
       "0                  1                      0                 1   \n",
       "1                  0                      0                 0   \n",
       "2                  0                      1                 0   \n",
       "3                  1                      1                 0   \n",
       "4                  0                      0                 1   \n",
       "\n",
       "   streaming_tv_Yes  streaming_movies_Yes  paperless_billing_Yes  \\\n",
       "0                 1                     0                      1   \n",
       "1                 0                     1                      0   \n",
       "2                 0                     0                      1   \n",
       "3                 1                     1                      1   \n",
       "4                 1                     0                      1   \n",
       "\n",
       "   contract_type_Month-to-month  contract_type_One year  \\\n",
       "0                             0                       1   \n",
       "1                             1                       0   \n",
       "2                             1                       0   \n",
       "3                             1                       0   \n",
       "4                             1                       0   \n",
       "\n",
       "   contract_type_Two year  internet_service_type_DSL  \\\n",
       "0                       0                          1   \n",
       "1                       0                          1   \n",
       "2                       0                          0   \n",
       "3                       0                          0   \n",
       "4                       0                          0   \n",
       "\n",
       "   internet_service_type_Fiber optic  internet_service_type_None  \\\n",
       "0                                  0                           0   \n",
       "1                                  0                           0   \n",
       "2                                  1                           0   \n",
       "3                                  1                           0   \n",
       "4                                  1                           0   \n",
       "\n",
       "   payment_type_Bank transfer (automatic)  \\\n",
       "0                                       0   \n",
       "1                                       0   \n",
       "2                                       0   \n",
       "3                                       0   \n",
       "4                                       0   \n",
       "\n",
       "   payment_type_Credit card (automatic)  payment_type_Electronic check  \\\n",
       "0                                     0                              0   \n",
       "1                                     0                              0   \n",
       "2                                     0                              1   \n",
       "3                                     0                              1   \n",
       "4                                     0                              0   \n",
       "\n",
       "   payment_type_Mailed check  \n",
       "0                          1  \n",
       "1                          1  \n",
       "2                          0  \n",
       "3                          0  \n",
       "4                          1  "
      ]
     },
     "execution_count": 7,
     "metadata": {},
     "output_type": "execute_result"
    }
   ],
   "source": [
    "data.head()"
   ]
  },
  {
   "cell_type": "code",
   "execution_count": 8,
   "id": "c44af8fc",
   "metadata": {},
   "outputs": [
    {
     "data": {
      "text/plain": [
       "(7043, 30)"
      ]
     },
     "execution_count": 8,
     "metadata": {},
     "output_type": "execute_result"
    }
   ],
   "source": [
    "data.shape "
   ]
  },
  {
   "cell_type": "code",
   "execution_count": 9,
   "id": "bc714b63",
   "metadata": {},
   "outputs": [
    {
     "data": {
      "text/plain": [
       "customer_id                                object\n",
       "senior_citizen                              int64\n",
       "tenure                                      int64\n",
       "monthly_charges                           float64\n",
       "total_charges                             float64\n",
       "contract_type                              object\n",
       "internet_service_type                      object\n",
       "churn_Yes                                   uint8\n",
       "gender_Male                                 uint8\n",
       "partner_Yes                                 uint8\n",
       "dependents_Yes                              uint8\n",
       "phone_service_Yes                           uint8\n",
       "multiple_lines_Yes                          uint8\n",
       "online_security_Yes                         uint8\n",
       "online_backup_Yes                           uint8\n",
       "device_protection_Yes                       uint8\n",
       "tech_support_Yes                            uint8\n",
       "streaming_tv_Yes                            uint8\n",
       "streaming_movies_Yes                        uint8\n",
       "paperless_billing_Yes                       uint8\n",
       "contract_type_Month-to-month                uint8\n",
       "contract_type_One year                      uint8\n",
       "contract_type_Two year                      uint8\n",
       "internet_service_type_DSL                   uint8\n",
       "internet_service_type_Fiber optic           uint8\n",
       "internet_service_type_None                  uint8\n",
       "payment_type_Bank transfer (automatic)      uint8\n",
       "payment_type_Credit card (automatic)        uint8\n",
       "payment_type_Electronic check               uint8\n",
       "payment_type_Mailed check                   uint8\n",
       "dtype: object"
      ]
     },
     "execution_count": 9,
     "metadata": {},
     "output_type": "execute_result"
    }
   ],
   "source": [
    "data.dtypes"
   ]
  },
  {
   "cell_type": "code",
   "execution_count": 10,
   "id": "98ab2a26",
   "metadata": {},
   "outputs": [],
   "source": [
    "train, validate, test = prepare.split_train_test(data, 'churn_Yes')"
   ]
  },
  {
   "cell_type": "code",
   "execution_count": 11,
   "id": "9d281ea2",
   "metadata": {},
   "outputs": [
    {
     "data": {
      "text/plain": [
       "((3521, 30), (2113, 30), (1409, 30))"
      ]
     },
     "execution_count": 11,
     "metadata": {},
     "output_type": "execute_result"
    }
   ],
   "source": [
    "train.shape, validate.shape, test.shape"
   ]
  },
  {
   "cell_type": "code",
   "execution_count": 12,
   "id": "8211a613",
   "metadata": {},
   "outputs": [
    {
     "data": {
      "text/html": [
       "<div>\n",
       "<style scoped>\n",
       "    .dataframe tbody tr th:only-of-type {\n",
       "        vertical-align: middle;\n",
       "    }\n",
       "\n",
       "    .dataframe tbody tr th {\n",
       "        vertical-align: top;\n",
       "    }\n",
       "\n",
       "    .dataframe thead th {\n",
       "        text-align: right;\n",
       "    }\n",
       "</style>\n",
       "<table border=\"1\" class=\"dataframe\">\n",
       "  <thead>\n",
       "    <tr style=\"text-align: right;\">\n",
       "      <th></th>\n",
       "      <th>customer_id</th>\n",
       "      <th>senior_citizen</th>\n",
       "      <th>tenure</th>\n",
       "      <th>monthly_charges</th>\n",
       "      <th>total_charges</th>\n",
       "      <th>contract_type</th>\n",
       "      <th>internet_service_type</th>\n",
       "      <th>churn_Yes</th>\n",
       "      <th>gender_Male</th>\n",
       "      <th>partner_Yes</th>\n",
       "      <th>dependents_Yes</th>\n",
       "      <th>phone_service_Yes</th>\n",
       "      <th>multiple_lines_Yes</th>\n",
       "      <th>online_security_Yes</th>\n",
       "      <th>online_backup_Yes</th>\n",
       "      <th>device_protection_Yes</th>\n",
       "      <th>tech_support_Yes</th>\n",
       "      <th>streaming_tv_Yes</th>\n",
       "      <th>streaming_movies_Yes</th>\n",
       "      <th>paperless_billing_Yes</th>\n",
       "      <th>contract_type_Month-to-month</th>\n",
       "      <th>contract_type_One year</th>\n",
       "      <th>contract_type_Two year</th>\n",
       "      <th>internet_service_type_DSL</th>\n",
       "      <th>internet_service_type_Fiber optic</th>\n",
       "      <th>internet_service_type_None</th>\n",
       "      <th>payment_type_Bank transfer (automatic)</th>\n",
       "      <th>payment_type_Credit card (automatic)</th>\n",
       "      <th>payment_type_Electronic check</th>\n",
       "      <th>payment_type_Mailed check</th>\n",
       "    </tr>\n",
       "  </thead>\n",
       "  <tbody>\n",
       "    <tr>\n",
       "      <th>6909</th>\n",
       "      <td>9804-ICWBG</td>\n",
       "      <td>0</td>\n",
       "      <td>1</td>\n",
       "      <td>69.9</td>\n",
       "      <td>69.9</td>\n",
       "      <td>Month-to-month</td>\n",
       "      <td>Fiber optic</td>\n",
       "      <td>1</td>\n",
       "      <td>1</td>\n",
       "      <td>0</td>\n",
       "      <td>0</td>\n",
       "      <td>1</td>\n",
       "      <td>0</td>\n",
       "      <td>0</td>\n",
       "      <td>0</td>\n",
       "      <td>0</td>\n",
       "      <td>0</td>\n",
       "      <td>0</td>\n",
       "      <td>0</td>\n",
       "      <td>1</td>\n",
       "      <td>1</td>\n",
       "      <td>0</td>\n",
       "      <td>0</td>\n",
       "      <td>0</td>\n",
       "      <td>1</td>\n",
       "      <td>0</td>\n",
       "      <td>0</td>\n",
       "      <td>0</td>\n",
       "      <td>1</td>\n",
       "      <td>0</td>\n",
       "    </tr>\n",
       "    <tr>\n",
       "      <th>1126</th>\n",
       "      <td>1644-IRKSF</td>\n",
       "      <td>0</td>\n",
       "      <td>33</td>\n",
       "      <td>93.8</td>\n",
       "      <td>3124.5</td>\n",
       "      <td>One year</td>\n",
       "      <td>Fiber optic</td>\n",
       "      <td>1</td>\n",
       "      <td>0</td>\n",
       "      <td>1</td>\n",
       "      <td>1</td>\n",
       "      <td>1</td>\n",
       "      <td>0</td>\n",
       "      <td>0</td>\n",
       "      <td>0</td>\n",
       "      <td>1</td>\n",
       "      <td>0</td>\n",
       "      <td>1</td>\n",
       "      <td>1</td>\n",
       "      <td>1</td>\n",
       "      <td>0</td>\n",
       "      <td>1</td>\n",
       "      <td>0</td>\n",
       "      <td>0</td>\n",
       "      <td>1</td>\n",
       "      <td>0</td>\n",
       "      <td>0</td>\n",
       "      <td>0</td>\n",
       "      <td>1</td>\n",
       "      <td>0</td>\n",
       "    </tr>\n",
       "  </tbody>\n",
       "</table>\n",
       "</div>"
      ],
      "text/plain": [
       "     customer_id  senior_citizen  tenure  monthly_charges  total_charges  \\\n",
       "6909  9804-ICWBG               0       1             69.9           69.9   \n",
       "1126  1644-IRKSF               0      33             93.8         3124.5   \n",
       "\n",
       "       contract_type internet_service_type  churn_Yes  gender_Male  \\\n",
       "6909  Month-to-month           Fiber optic          1            1   \n",
       "1126        One year           Fiber optic          1            0   \n",
       "\n",
       "      partner_Yes  dependents_Yes  phone_service_Yes  multiple_lines_Yes  \\\n",
       "6909            0               0                  1                   0   \n",
       "1126            1               1                  1                   0   \n",
       "\n",
       "      online_security_Yes  online_backup_Yes  device_protection_Yes  \\\n",
       "6909                    0                  0                      0   \n",
       "1126                    0                  0                      1   \n",
       "\n",
       "      tech_support_Yes  streaming_tv_Yes  streaming_movies_Yes  \\\n",
       "6909                 0                 0                     0   \n",
       "1126                 0                 1                     1   \n",
       "\n",
       "      paperless_billing_Yes  contract_type_Month-to-month  \\\n",
       "6909                      1                             1   \n",
       "1126                      1                             0   \n",
       "\n",
       "      contract_type_One year  contract_type_Two year  \\\n",
       "6909                       0                       0   \n",
       "1126                       1                       0   \n",
       "\n",
       "      internet_service_type_DSL  internet_service_type_Fiber optic  \\\n",
       "6909                          0                                  1   \n",
       "1126                          0                                  1   \n",
       "\n",
       "      internet_service_type_None  payment_type_Bank transfer (automatic)  \\\n",
       "6909                           0                                       0   \n",
       "1126                           0                                       0   \n",
       "\n",
       "      payment_type_Credit card (automatic)  payment_type_Electronic check  \\\n",
       "6909                                     0                              1   \n",
       "1126                                     0                              1   \n",
       "\n",
       "      payment_type_Mailed check  \n",
       "6909                          0  \n",
       "1126                          0  "
      ]
     },
     "execution_count": 12,
     "metadata": {},
     "output_type": "execute_result"
    }
   ],
   "source": [
    "train.head(2)"
   ]
  },
  {
   "cell_type": "markdown",
   "id": "11640411",
   "metadata": {},
   "source": [
    "# Exploratory Analysis Questions"
   ]
  },
  {
   "cell_type": "markdown",
   "id": "44a1b286",
   "metadata": {},
   "source": [
    "## Is whether or not a customer churns independent of their internet service type?"
   ]
  },
  {
   "cell_type": "code",
   "execution_count": 12,
   "id": "0c07956c",
   "metadata": {},
   "outputs": [
    {
     "data": {
      "image/png": "[encoded data removed]",
      "text/plain": [
       "<Figure size 640x480 with 1 Axes>"
      ]
     },
     "metadata": {},
     "output_type": "display_data"
    }
   ],
   "source": [
    "sns.barplot(x='internet_service_type', y='churn_Yes', data=train)\n",
    "churn_rate = train.churn_Yes.mean()\n",
    "plt.axhline(churn_rate, label=\"Average Churn\")\n",
    "plt.legend()\n",
    "plt.show()"
   ]
  },
  {
   "cell_type": "markdown",
   "id": "b4cc9405",
   "metadata": {},
   "source": [
    "Null hypothesis here is that there is no relationship between internet service type and churn status\n",
    "\n",
    "Alternative hypothesis is that there *is* a relationship beteween the two\n"
   ]
  },
  {
   "cell_type": "code",
   "execution_count": 13,
   "id": "c8026456",
   "metadata": {},
   "outputs": [],
   "source": [
    "observed = pd.crosstab(train.internet_service_type, train.churn_Yes)"
   ]
  },
  {
   "cell_type": "code",
   "execution_count": 14,
   "id": "2dc08b04",
   "metadata": {},
   "outputs": [
    {
     "data": {
      "text/html": [
       "<div>\n",
       "<style scoped>\n",
       "    .dataframe tbody tr th:only-of-type {\n",
       "        vertical-align: middle;\n",
       "    }\n",
       "\n",
       "    .dataframe tbody tr th {\n",
       "        vertical-align: top;\n",
       "    }\n",
       "\n",
       "    .dataframe thead th {\n",
       "        text-align: right;\n",
       "    }\n",
       "</style>\n",
       "<table border=\"1\" class=\"dataframe\">\n",
       "  <thead>\n",
       "    <tr style=\"text-align: right;\">\n",
       "      <th>churn_Yes</th>\n",
       "      <th>0</th>\n",
       "      <th>1</th>\n",
       "    </tr>\n",
       "    <tr>\n",
       "      <th>internet_service_type</th>\n",
       "      <th></th>\n",
       "      <th></th>\n",
       "    </tr>\n",
       "  </thead>\n",
       "  <tbody>\n",
       "    <tr>\n",
       "      <th>DSL</th>\n",
       "      <td>972</td>\n",
       "      <td>230</td>\n",
       "    </tr>\n",
       "    <tr>\n",
       "      <th>Fiber optic</th>\n",
       "      <td>933</td>\n",
       "      <td>646</td>\n",
       "    </tr>\n",
       "    <tr>\n",
       "      <th>None</th>\n",
       "      <td>682</td>\n",
       "      <td>58</td>\n",
       "    </tr>\n",
       "  </tbody>\n",
       "</table>\n",
       "</div>"
      ],
      "text/plain": [
       "churn_Yes                0    1\n",
       "internet_service_type          \n",
       "DSL                    972  230\n",
       "Fiber optic            933  646\n",
       "None                   682   58"
      ]
     },
     "execution_count": 14,
     "metadata": {},
     "output_type": "execute_result"
    }
   ],
   "source": [
    "observed"
   ]
  },
  {
   "cell_type": "code",
   "execution_count": 15,
   "id": "1f94b1ea",
   "metadata": {},
   "outputs": [],
   "source": [
    "chi2, p, degf, expected = stats.chi2_contingency(observed)"
   ]
  },
  {
   "cell_type": "code",
   "execution_count": 16,
   "id": "4ef850b4",
   "metadata": {},
   "outputs": [
    {
     "data": {
      "text/plain": [
       "(333.96263321477136,\n",
       " 3.0264647258336764e-73,\n",
       " 2,\n",
       " array([[ 883.15080943,  318.84919057],\n",
       "        [1160.14569725,  418.85430275],\n",
       "        [ 543.70349333,  196.29650667]]))"
      ]
     },
     "execution_count": 16,
     "metadata": {},
     "output_type": "execute_result"
    }
   ],
   "source": [
    "chi2, p, degf, expected"
   ]
  },
  {
   "cell_type": "code",
   "execution_count": 17,
   "id": "d288a9c5",
   "metadata": {},
   "outputs": [],
   "source": [
    "alpha = .05"
   ]
  },
  {
   "cell_type": "code",
   "execution_count": 18,
   "id": "a7cc8d3a",
   "metadata": {},
   "outputs": [
    {
     "name": "stdout",
     "output_type": "stream",
     "text": [
      "Observed Values\n",
      "\n",
      "[[972 230]\n",
      " [933 646]\n",
      " [682  58]]\n",
      "---\n",
      "Expected Values\n",
      "\n",
      "[[ 883  318]\n",
      " [1160  418]\n",
      " [ 543  196]]\n",
      "---\n",
      "\n",
      "chi^2 = 333.9626\n",
      "p     = 0.0000\n",
      "Is p-value < alpha? True\n"
     ]
    }
   ],
   "source": [
    "# print 'Observed Values' followed by a new line\n",
    "print('Observed Values\\n')\n",
    "\n",
    "# print the values from the 'observed' dataframe\n",
    "print(observed.values)\n",
    "\n",
    "# print --- and then a new line, 'Expected Values', followed by another new line\n",
    "print('---\\nExpected Values\\n')\n",
    "\n",
    "# print the expected values array\n",
    "print(expected.astype(int))\n",
    "\n",
    "# print a new line\n",
    "print('---\\n')\n",
    "\n",
    "# print the chi2 value, formatted to a float with 4 digits. \n",
    "print(f'chi^2 = {chi2:.4f}') \n",
    "\n",
    "# print the p-value, formatted to a float with 4 digits. \n",
    "print(f'p     = {p:.4f}')\n",
    "\n",
    "alpha = .05\n",
    "print('Is p-value < alpha?', p < alpha)"
   ]
  },
  {
   "cell_type": "markdown",
   "id": "f6140e8c",
   "metadata": {},
   "source": [
    "Takeaways:\n",
    "\n",
    "- According to the Chi2 test, there *is* a relationship between internet service type and churn. The chi^2 value is very high, with the p-value being very low, meaning there is a large difference in the observed and expected values.\n",
    "\n",
    "- There are significantly more people who had fiber optic internet that churned than people who had DSL or who had no internet.\n",
    "\n",
    "- Customers with DSL and no internet are well below average when it comes to customers who have churned, while fiber optic is way above average"
   ]
  },
  {
   "cell_type": "markdown",
   "id": "e45a5911",
   "metadata": {},
   "source": [
    "## Are contract type and churn status related?\n"
   ]
  },
  {
   "cell_type": "code",
   "execution_count": 19,
   "id": "3a0a3860",
   "metadata": {},
   "outputs": [
    {
     "data": {
      "image/png": "[encoded data removed]",
      "text/plain": [
       "<Figure size 640x480 with 1 Axes>"
      ]
     },
     "metadata": {},
     "output_type": "display_data"
    }
   ],
   "source": [
    "sns.barplot(x='contract_type', y='churn_Yes', data=train)\n",
    "churn_rate = train.churn_Yes.mean()\n",
    "plt.axhline(churn_rate, label=\"Average Churn\")\n",
    "plt.legend()\n",
    "plt.show()"
   ]
  },
  {
   "cell_type": "markdown",
   "id": "0fbb25df",
   "metadata": {},
   "source": [
    "Null Hypothesis here is that there is *no* relationship between contract type and churn\n",
    "\n",
    "Alternative Hypothesis here is that there *is* a relationship between contract type and churn"
   ]
  },
  {
   "cell_type": "code",
   "execution_count": 20,
   "id": "88906592",
   "metadata": {},
   "outputs": [
    {
     "data": {
      "text/html": [
       "<div>\n",
       "<style scoped>\n",
       "    .dataframe tbody tr th:only-of-type {\n",
       "        vertical-align: middle;\n",
       "    }\n",
       "\n",
       "    .dataframe tbody tr th {\n",
       "        vertical-align: top;\n",
       "    }\n",
       "\n",
       "    .dataframe thead th {\n",
       "        text-align: right;\n",
       "    }\n",
       "</style>\n",
       "<table border=\"1\" class=\"dataframe\">\n",
       "  <thead>\n",
       "    <tr style=\"text-align: right;\">\n",
       "      <th>churn_Yes</th>\n",
       "      <th>0</th>\n",
       "      <th>1</th>\n",
       "    </tr>\n",
       "    <tr>\n",
       "      <th>contract_type</th>\n",
       "      <th></th>\n",
       "      <th></th>\n",
       "    </tr>\n",
       "  </thead>\n",
       "  <tbody>\n",
       "    <tr>\n",
       "      <th>Month-to-month</th>\n",
       "      <td>1089</td>\n",
       "      <td>825</td>\n",
       "    </tr>\n",
       "    <tr>\n",
       "      <th>One year</th>\n",
       "      <td>679</td>\n",
       "      <td>85</td>\n",
       "    </tr>\n",
       "    <tr>\n",
       "      <th>Two year</th>\n",
       "      <td>819</td>\n",
       "      <td>24</td>\n",
       "    </tr>\n",
       "  </tbody>\n",
       "</table>\n",
       "</div>"
      ],
      "text/plain": [
       "churn_Yes          0    1\n",
       "contract_type            \n",
       "Month-to-month  1089  825\n",
       "One year         679   85\n",
       "Two year         819   24"
      ]
     },
     "execution_count": 20,
     "metadata": {},
     "output_type": "execute_result"
    }
   ],
   "source": [
    "observed2 = pd.crosstab(train.contract_type, train.churn_Yes)\n",
    "observed2"
   ]
  },
  {
   "cell_type": "code",
   "execution_count": 21,
   "id": "42c5e373",
   "metadata": {},
   "outputs": [
    {
     "data": {
      "text/plain": [
       "(605.3651310007383,\n",
       " 3.5207244385635105e-132,\n",
       " 2,\n",
       " array([[1406.28173814,  507.71826186],\n",
       "        [ 561.33712014,  202.66287986],\n",
       "        [ 619.38114172,  223.61885828]]))"
      ]
     },
     "execution_count": 21,
     "metadata": {},
     "output_type": "execute_result"
    }
   ],
   "source": [
    "chi2, p, degf, expected = stats.chi2_contingency(observed2)\n",
    "\n",
    "chi2, p, degf, expected"
   ]
  },
  {
   "cell_type": "code",
   "execution_count": 22,
   "id": "6aac7208",
   "metadata": {},
   "outputs": [
    {
     "name": "stdout",
     "output_type": "stream",
     "text": [
      "Observed Values\n",
      "\n",
      "[[972 230]\n",
      " [933 646]\n",
      " [682  58]]\n",
      "---\n",
      "Expected Values\n",
      "\n",
      "[[1406  507]\n",
      " [ 561  202]\n",
      " [ 619  223]]\n",
      "---\n",
      "\n",
      "chi^2 = 605.3651\n",
      "p     = 0.0000\n",
      "Is p-value < alpha? True\n"
     ]
    }
   ],
   "source": [
    "# print 'Observed Values' followed by a new line\n",
    "print('Observed Values\\n')\n",
    "\n",
    "# print the values from the 'observed' dataframe\n",
    "print(observed.values)\n",
    "\n",
    "# print --- and then a new line, 'Expected Values', followed by another new line\n",
    "print('---\\nExpected Values\\n')\n",
    "\n",
    "# print the expected values array\n",
    "print(expected.astype(int))\n",
    "\n",
    "# print a new line\n",
    "print('---\\n')\n",
    "\n",
    "# print the chi2 value, formatted to a float with 4 digits. \n",
    "print(f'chi^2 = {chi2:.4f}') \n",
    "\n",
    "# print the p-value, formatted to a float with 4 digits. \n",
    "print(f'p     = {p:.4f}')\n",
    "\n",
    "print('Is p-value < alpha?', p < alpha)\n"
   ]
  },
  {
   "cell_type": "markdown",
   "id": "e0b36dc1",
   "metadata": {},
   "source": [
    "Takeaways:\n",
    "\n",
    "- According to the chi^2 test, there *is a relationship between contract type and customers who have churned.\n",
    "\n",
    "- A **significantly** larger percentage of people who were month-to-month churned verus the other two categories\n",
    "\n",
    "- There *were* a lot more customers who had month-to-month contracts than those who had one or two year contracts, but even still the percentage is much higher. The number of one and two year contract customers who churn are well below the average, while those who are month to month are way above."
   ]
  },
  {
   "cell_type": "markdown",
   "id": "caa92a8d",
   "metadata": {},
   "source": [
    "## What is the relationship between phone service and churn?"
   ]
  },
  {
   "cell_type": "code",
   "execution_count": 23,
   "id": "a3261667",
   "metadata": {},
   "outputs": [
    {
     "data": {
      "text/plain": [
       "<AxesSubplot:xlabel='phone_service_Yes', ylabel='churn_Yes'>"
      ]
     },
     "execution_count": 23,
     "metadata": {},
     "output_type": "execute_result"
    },
    {
     "data": {
      "image/png": "[encoded data removed]",
      "text/plain": [
       "<Figure size 640x480 with 1 Axes>"
      ]
     },
     "metadata": {},
     "output_type": "display_data"
    }
   ],
   "source": [
    "sns.barplot(x='phone_service_Yes', y='churn_Yes', data=train)"
   ]
  },
  {
   "cell_type": "markdown",
   "id": "981c1156",
   "metadata": {},
   "source": [
    "Takeaways:\n",
    "\n",
    "- The churn rates for customers who had phone service and those who didn't is very similar, though the confidence interval for those who didn't churn is much larger"
   ]
  },
  {
   "cell_type": "markdown",
   "id": "8d9d9166",
   "metadata": {},
   "source": [
    "## Does Gender factor into churn?"
   ]
  },
  {
   "cell_type": "code",
   "execution_count": 24,
   "id": "116c71ca",
   "metadata": {},
   "outputs": [
    {
     "data": {
      "text/plain": [
       "<AxesSubplot:xlabel='gender_Male', ylabel='churn_Yes'>"
      ]
     },
     "execution_count": 24,
     "metadata": {},
     "output_type": "execute_result"
    },
    {
     "data": {
      "image/png": "[encoded data removed]",
      "text/plain": [
       "<Figure size 640x480 with 1 Axes>"
      ]
     },
     "metadata": {},
     "output_type": "display_data"
    }
   ],
   "source": [
    "sns.barplot(x='gender_Male', y='churn_Yes', data=train)"
   ]
  },
  {
   "cell_type": "markdown",
   "id": "c516788f",
   "metadata": {},
   "source": [
    "Takeaways:\n",
    "\n",
    "- The churn rate for for males and females are very similar, so it is not likely that gender plays a significant role in churn"
   ]
  },
  {
   "cell_type": "markdown",
   "id": "b8c71f89",
   "metadata": {},
   "source": [
    "## Do monthly charges differ for different contract types?"
   ]
  },
  {
   "cell_type": "code",
   "execution_count": 25,
   "id": "84c476f5",
   "metadata": {
    "scrolled": false
   },
   "outputs": [
    {
     "data": {
      "text/plain": [
       "<AxesSubplot:xlabel='contract_type', ylabel='monthly_charges'>"
      ]
     },
     "execution_count": 25,
     "metadata": {},
     "output_type": "execute_result"
    },
    {
     "data": {
      "image/png": "[encoded data removed]",
      "text/plain": [
       "<Figure size 640x480 with 1 Axes>"
      ]
     },
     "metadata": {},
     "output_type": "display_data"
    }
   ],
   "source": [
    "sns.barplot(x='contract_type', y='monthly_charges',\n",
    "            hue='churn_Yes', data=train)"
   ]
  },
  {
   "cell_type": "code",
   "execution_count": 26,
   "id": "75921130",
   "metadata": {},
   "outputs": [
    {
     "data": {
      "text/html": [
       "<div>\n",
       "<style scoped>\n",
       "    .dataframe tbody tr th:only-of-type {\n",
       "        vertical-align: middle;\n",
       "    }\n",
       "\n",
       "    .dataframe tbody tr th {\n",
       "        vertical-align: top;\n",
       "    }\n",
       "\n",
       "    .dataframe thead th {\n",
       "        text-align: right;\n",
       "    }\n",
       "</style>\n",
       "<table border=\"1\" class=\"dataframe\">\n",
       "  <thead>\n",
       "    <tr style=\"text-align: right;\">\n",
       "      <th></th>\n",
       "      <th>customer_id</th>\n",
       "      <th>senior_citizen</th>\n",
       "      <th>tenure</th>\n",
       "      <th>monthly_charges</th>\n",
       "      <th>total_charges</th>\n",
       "      <th>contract_type</th>\n",
       "      <th>internet_service_type</th>\n",
       "      <th>churn_Yes</th>\n",
       "      <th>gender_Male</th>\n",
       "      <th>partner_Yes</th>\n",
       "      <th>dependents_Yes</th>\n",
       "      <th>phone_service_Yes</th>\n",
       "      <th>multiple_lines_Yes</th>\n",
       "      <th>online_security_Yes</th>\n",
       "      <th>online_backup_Yes</th>\n",
       "      <th>device_protection_Yes</th>\n",
       "      <th>tech_support_Yes</th>\n",
       "      <th>streaming_tv_Yes</th>\n",
       "      <th>streaming_movies_Yes</th>\n",
       "      <th>paperless_billing_Yes</th>\n",
       "      <th>contract_type_Month-to-month</th>\n",
       "      <th>contract_type_One year</th>\n",
       "      <th>contract_type_Two year</th>\n",
       "      <th>internet_service_type_DSL</th>\n",
       "      <th>internet_service_type_Fiber optic</th>\n",
       "      <th>internet_service_type_None</th>\n",
       "      <th>payment_type_Bank transfer (automatic)</th>\n",
       "      <th>payment_type_Credit card (automatic)</th>\n",
       "      <th>payment_type_Electronic check</th>\n",
       "      <th>payment_type_Mailed check</th>\n",
       "    </tr>\n",
       "  </thead>\n",
       "  <tbody>\n",
       "    <tr>\n",
       "      <th>6909</th>\n",
       "      <td>9804-ICWBG</td>\n",
       "      <td>0</td>\n",
       "      <td>1</td>\n",
       "      <td>69.9</td>\n",
       "      <td>69.90</td>\n",
       "      <td>Month-to-month</td>\n",
       "      <td>Fiber optic</td>\n",
       "      <td>1</td>\n",
       "      <td>1</td>\n",
       "      <td>0</td>\n",
       "      <td>0</td>\n",
       "      <td>1</td>\n",
       "      <td>0</td>\n",
       "      <td>0</td>\n",
       "      <td>0</td>\n",
       "      <td>0</td>\n",
       "      <td>0</td>\n",
       "      <td>0</td>\n",
       "      <td>0</td>\n",
       "      <td>1</td>\n",
       "      <td>1</td>\n",
       "      <td>0</td>\n",
       "      <td>0</td>\n",
       "      <td>0</td>\n",
       "      <td>1</td>\n",
       "      <td>0</td>\n",
       "      <td>0</td>\n",
       "      <td>0</td>\n",
       "      <td>1</td>\n",
       "      <td>0</td>\n",
       "    </tr>\n",
       "    <tr>\n",
       "      <th>1126</th>\n",
       "      <td>1644-IRKSF</td>\n",
       "      <td>0</td>\n",
       "      <td>33</td>\n",
       "      <td>93.8</td>\n",
       "      <td>3124.50</td>\n",
       "      <td>One year</td>\n",
       "      <td>Fiber optic</td>\n",
       "      <td>1</td>\n",
       "      <td>0</td>\n",
       "      <td>1</td>\n",
       "      <td>1</td>\n",
       "      <td>1</td>\n",
       "      <td>0</td>\n",
       "      <td>0</td>\n",
       "      <td>0</td>\n",
       "      <td>1</td>\n",
       "      <td>0</td>\n",
       "      <td>1</td>\n",
       "      <td>1</td>\n",
       "      <td>1</td>\n",
       "      <td>0</td>\n",
       "      <td>1</td>\n",
       "      <td>0</td>\n",
       "      <td>0</td>\n",
       "      <td>1</td>\n",
       "      <td>0</td>\n",
       "      <td>0</td>\n",
       "      <td>0</td>\n",
       "      <td>1</td>\n",
       "      <td>0</td>\n",
       "    </tr>\n",
       "    <tr>\n",
       "      <th>453</th>\n",
       "      <td>0666-UXTJO</td>\n",
       "      <td>1</td>\n",
       "      <td>34</td>\n",
       "      <td>85.2</td>\n",
       "      <td>2874.45</td>\n",
       "      <td>Month-to-month</td>\n",
       "      <td>Fiber optic</td>\n",
       "      <td>0</td>\n",
       "      <td>1</td>\n",
       "      <td>1</td>\n",
       "      <td>0</td>\n",
       "      <td>1</td>\n",
       "      <td>0</td>\n",
       "      <td>0</td>\n",
       "      <td>0</td>\n",
       "      <td>1</td>\n",
       "      <td>0</td>\n",
       "      <td>1</td>\n",
       "      <td>0</td>\n",
       "      <td>1</td>\n",
       "      <td>1</td>\n",
       "      <td>0</td>\n",
       "      <td>0</td>\n",
       "      <td>0</td>\n",
       "      <td>1</td>\n",
       "      <td>0</td>\n",
       "      <td>0</td>\n",
       "      <td>1</td>\n",
       "      <td>0</td>\n",
       "      <td>0</td>\n",
       "    </tr>\n",
       "    <tr>\n",
       "      <th>2015</th>\n",
       "      <td>2907-ILJBN</td>\n",
       "      <td>0</td>\n",
       "      <td>11</td>\n",
       "      <td>20.6</td>\n",
       "      <td>233.90</td>\n",
       "      <td>One year</td>\n",
       "      <td>None</td>\n",
       "      <td>0</td>\n",
       "      <td>0</td>\n",
       "      <td>1</td>\n",
       "      <td>1</td>\n",
       "      <td>1</td>\n",
       "      <td>0</td>\n",
       "      <td>0</td>\n",
       "      <td>0</td>\n",
       "      <td>0</td>\n",
       "      <td>0</td>\n",
       "      <td>0</td>\n",
       "      <td>0</td>\n",
       "      <td>0</td>\n",
       "      <td>0</td>\n",
       "      <td>1</td>\n",
       "      <td>0</td>\n",
       "      <td>0</td>\n",
       "      <td>0</td>\n",
       "      <td>1</td>\n",
       "      <td>0</td>\n",
       "      <td>0</td>\n",
       "      <td>0</td>\n",
       "      <td>1</td>\n",
       "    </tr>\n",
       "    <tr>\n",
       "      <th>2891</th>\n",
       "      <td>4118-CEVPF</td>\n",
       "      <td>1</td>\n",
       "      <td>35</td>\n",
       "      <td>110.8</td>\n",
       "      <td>3836.30</td>\n",
       "      <td>One year</td>\n",
       "      <td>Fiber optic</td>\n",
       "      <td>0</td>\n",
       "      <td>0</td>\n",
       "      <td>0</td>\n",
       "      <td>0</td>\n",
       "      <td>1</td>\n",
       "      <td>1</td>\n",
       "      <td>1</td>\n",
       "      <td>1</td>\n",
       "      <td>1</td>\n",
       "      <td>1</td>\n",
       "      <td>1</td>\n",
       "      <td>1</td>\n",
       "      <td>1</td>\n",
       "      <td>0</td>\n",
       "      <td>1</td>\n",
       "      <td>0</td>\n",
       "      <td>0</td>\n",
       "      <td>1</td>\n",
       "      <td>0</td>\n",
       "      <td>1</td>\n",
       "      <td>0</td>\n",
       "      <td>0</td>\n",
       "      <td>0</td>\n",
       "    </tr>\n",
       "  </tbody>\n",
       "</table>\n",
       "</div>"
      ],
      "text/plain": [
       "     customer_id  senior_citizen  tenure  monthly_charges  total_charges  \\\n",
       "6909  9804-ICWBG               0       1             69.9          69.90   \n",
       "1126  1644-IRKSF               0      33             93.8        3124.50   \n",
       "453   0666-UXTJO               1      34             85.2        2874.45   \n",
       "2015  2907-ILJBN               0      11             20.6         233.90   \n",
       "2891  4118-CEVPF               1      35            110.8        3836.30   \n",
       "\n",
       "       contract_type internet_service_type  churn_Yes  gender_Male  \\\n",
       "6909  Month-to-month           Fiber optic          1            1   \n",
       "1126        One year           Fiber optic          1            0   \n",
       "453   Month-to-month           Fiber optic          0            1   \n",
       "2015        One year                  None          0            0   \n",
       "2891        One year           Fiber optic          0            0   \n",
       "\n",
       "      partner_Yes  dependents_Yes  phone_service_Yes  multiple_lines_Yes  \\\n",
       "6909            0               0                  1                   0   \n",
       "1126            1               1                  1                   0   \n",
       "453             1               0                  1                   0   \n",
       "2015            1               1                  1                   0   \n",
       "2891            0               0                  1                   1   \n",
       "\n",
       "      online_security_Yes  online_backup_Yes  device_protection_Yes  \\\n",
       "6909                    0                  0                      0   \n",
       "1126                    0                  0                      1   \n",
       "453                     0                  0                      1   \n",
       "2015                    0                  0                      0   \n",
       "2891                    1                  1                      1   \n",
       "\n",
       "      tech_support_Yes  streaming_tv_Yes  streaming_movies_Yes  \\\n",
       "6909                 0                 0                     0   \n",
       "1126                 0                 1                     1   \n",
       "453                  0                 1                     0   \n",
       "2015                 0                 0                     0   \n",
       "2891                 1                 1                     1   \n",
       "\n",
       "      paperless_billing_Yes  contract_type_Month-to-month  \\\n",
       "6909                      1                             1   \n",
       "1126                      1                             0   \n",
       "453                       1                             1   \n",
       "2015                      0                             0   \n",
       "2891                      1                             0   \n",
       "\n",
       "      contract_type_One year  contract_type_Two year  \\\n",
       "6909                       0                       0   \n",
       "1126                       1                       0   \n",
       "453                        0                       0   \n",
       "2015                       1                       0   \n",
       "2891                       1                       0   \n",
       "\n",
       "      internet_service_type_DSL  internet_service_type_Fiber optic  \\\n",
       "6909                          0                                  1   \n",
       "1126                          0                                  1   \n",
       "453                           0                                  1   \n",
       "2015                          0                                  0   \n",
       "2891                          0                                  1   \n",
       "\n",
       "      internet_service_type_None  payment_type_Bank transfer (automatic)  \\\n",
       "6909                           0                                       0   \n",
       "1126                           0                                       0   \n",
       "453                            0                                       0   \n",
       "2015                           1                                       0   \n",
       "2891                           0                                       1   \n",
       "\n",
       "      payment_type_Credit card (automatic)  payment_type_Electronic check  \\\n",
       "6909                                     0                              1   \n",
       "1126                                     0                              1   \n",
       "453                                      1                              0   \n",
       "2015                                     0                              0   \n",
       "2891                                     0                              0   \n",
       "\n",
       "      payment_type_Mailed check  \n",
       "6909                          0  \n",
       "1126                          0  \n",
       "453                           0  \n",
       "2015                          1  \n",
       "2891                          0  "
      ]
     },
     "execution_count": 26,
     "metadata": {},
     "output_type": "execute_result"
    }
   ],
   "source": [
    "train.head()"
   ]
  },
  {
   "cell_type": "markdown",
   "id": "f3c2a69a",
   "metadata": {},
   "source": [
    "Takeaways:\n",
    "\n",
    "- Monthly charges do vary somewhat when compared to contract type and if they've churned, however when comparing those same variables to customers who haven't churned, monthly charges are consistent across the board.\n",
    "\n",
    "- Charges for customers who churned are all higher than those who haven't.\n"
   ]
  },
  {
   "cell_type": "markdown",
   "id": "7acbb1bf",
   "metadata": {},
   "source": [
    "# Overall takeaways:\n",
    "\n",
    "- There is a significant relationship between internet service type and churn.\n",
    "\n",
    "- The majority of people had fiber optic internet, which also includes way more people who've churned.\n",
    "\n",
    "- There's a significant relationship between contract type and churn, with an overwhelming majority of people who've churned having had a month-to-month contract\n",
    "\n",
    "- Neither phone service or gender seem to have a significant relationship here\n",
    "\n",
    "- Monthly charges seems to have something of a relationship with churn, as we can see that the people who have churned have all had their monthly charges increase, while the customers who haven't churned seem to be paying a more consistent amount. the most interesting part is that month to month has the smallest difference in their payments, yet that group has the most churn"
   ]
  },
  {
   "cell_type": "markdown",
   "id": "0f038806",
   "metadata": {},
   "source": [
    "## Plan for my models:\n",
    "\n",
    "- I plan on running two models for each algorithm we've learned, and for the first one I will include everything from my prepared data, minus the conctract and internet types, as they're object type data. \n",
    "\n",
    "- The second model for each will have the senior citizen, gender, phone service removed to check if that improves accuracy"
   ]
  },
  {
   "cell_type": "markdown",
   "id": "d832e3bb",
   "metadata": {},
   "source": [
    "# Modeling"
   ]
  },
  {
   "cell_type": "code",
   "execution_count": 27,
   "id": "ae47c04f",
   "metadata": {},
   "outputs": [
    {
     "data": {
      "text/html": [
       "<div>\n",
       "<style scoped>\n",
       "    .dataframe tbody tr th:only-of-type {\n",
       "        vertical-align: middle;\n",
       "    }\n",
       "\n",
       "    .dataframe tbody tr th {\n",
       "        vertical-align: top;\n",
       "    }\n",
       "\n",
       "    .dataframe thead th {\n",
       "        text-align: right;\n",
       "    }\n",
       "</style>\n",
       "<table border=\"1\" class=\"dataframe\">\n",
       "  <thead>\n",
       "    <tr style=\"text-align: right;\">\n",
       "      <th></th>\n",
       "      <th>customer_id</th>\n",
       "      <th>senior_citizen</th>\n",
       "      <th>tenure</th>\n",
       "      <th>monthly_charges</th>\n",
       "      <th>total_charges</th>\n",
       "      <th>contract_type</th>\n",
       "      <th>internet_service_type</th>\n",
       "      <th>churn_Yes</th>\n",
       "      <th>gender_Male</th>\n",
       "      <th>partner_Yes</th>\n",
       "      <th>dependents_Yes</th>\n",
       "      <th>phone_service_Yes</th>\n",
       "      <th>multiple_lines_Yes</th>\n",
       "      <th>online_security_Yes</th>\n",
       "      <th>online_backup_Yes</th>\n",
       "      <th>device_protection_Yes</th>\n",
       "      <th>tech_support_Yes</th>\n",
       "      <th>streaming_tv_Yes</th>\n",
       "      <th>streaming_movies_Yes</th>\n",
       "      <th>paperless_billing_Yes</th>\n",
       "      <th>contract_type_Month-to-month</th>\n",
       "      <th>contract_type_One year</th>\n",
       "      <th>contract_type_Two year</th>\n",
       "      <th>internet_service_type_DSL</th>\n",
       "      <th>internet_service_type_Fiber optic</th>\n",
       "      <th>internet_service_type_None</th>\n",
       "      <th>payment_type_Bank transfer (automatic)</th>\n",
       "      <th>payment_type_Credit card (automatic)</th>\n",
       "      <th>payment_type_Electronic check</th>\n",
       "      <th>payment_type_Mailed check</th>\n",
       "    </tr>\n",
       "  </thead>\n",
       "  <tbody>\n",
       "    <tr>\n",
       "      <th>6909</th>\n",
       "      <td>9804-ICWBG</td>\n",
       "      <td>0</td>\n",
       "      <td>1</td>\n",
       "      <td>69.9</td>\n",
       "      <td>69.90</td>\n",
       "      <td>Month-to-month</td>\n",
       "      <td>Fiber optic</td>\n",
       "      <td>1</td>\n",
       "      <td>1</td>\n",
       "      <td>0</td>\n",
       "      <td>0</td>\n",
       "      <td>1</td>\n",
       "      <td>0</td>\n",
       "      <td>0</td>\n",
       "      <td>0</td>\n",
       "      <td>0</td>\n",
       "      <td>0</td>\n",
       "      <td>0</td>\n",
       "      <td>0</td>\n",
       "      <td>1</td>\n",
       "      <td>1</td>\n",
       "      <td>0</td>\n",
       "      <td>0</td>\n",
       "      <td>0</td>\n",
       "      <td>1</td>\n",
       "      <td>0</td>\n",
       "      <td>0</td>\n",
       "      <td>0</td>\n",
       "      <td>1</td>\n",
       "      <td>0</td>\n",
       "    </tr>\n",
       "    <tr>\n",
       "      <th>1126</th>\n",
       "      <td>1644-IRKSF</td>\n",
       "      <td>0</td>\n",
       "      <td>33</td>\n",
       "      <td>93.8</td>\n",
       "      <td>3124.50</td>\n",
       "      <td>One year</td>\n",
       "      <td>Fiber optic</td>\n",
       "      <td>1</td>\n",
       "      <td>0</td>\n",
       "      <td>1</td>\n",
       "      <td>1</td>\n",
       "      <td>1</td>\n",
       "      <td>0</td>\n",
       "      <td>0</td>\n",
       "      <td>0</td>\n",
       "      <td>1</td>\n",
       "      <td>0</td>\n",
       "      <td>1</td>\n",
       "      <td>1</td>\n",
       "      <td>1</td>\n",
       "      <td>0</td>\n",
       "      <td>1</td>\n",
       "      <td>0</td>\n",
       "      <td>0</td>\n",
       "      <td>1</td>\n",
       "      <td>0</td>\n",
       "      <td>0</td>\n",
       "      <td>0</td>\n",
       "      <td>1</td>\n",
       "      <td>0</td>\n",
       "    </tr>\n",
       "    <tr>\n",
       "      <th>453</th>\n",
       "      <td>0666-UXTJO</td>\n",
       "      <td>1</td>\n",
       "      <td>34</td>\n",
       "      <td>85.2</td>\n",
       "      <td>2874.45</td>\n",
       "      <td>Month-to-month</td>\n",
       "      <td>Fiber optic</td>\n",
       "      <td>0</td>\n",
       "      <td>1</td>\n",
       "      <td>1</td>\n",
       "      <td>0</td>\n",
       "      <td>1</td>\n",
       "      <td>0</td>\n",
       "      <td>0</td>\n",
       "      <td>0</td>\n",
       "      <td>1</td>\n",
       "      <td>0</td>\n",
       "      <td>1</td>\n",
       "      <td>0</td>\n",
       "      <td>1</td>\n",
       "      <td>1</td>\n",
       "      <td>0</td>\n",
       "      <td>0</td>\n",
       "      <td>0</td>\n",
       "      <td>1</td>\n",
       "      <td>0</td>\n",
       "      <td>0</td>\n",
       "      <td>1</td>\n",
       "      <td>0</td>\n",
       "      <td>0</td>\n",
       "    </tr>\n",
       "    <tr>\n",
       "      <th>2015</th>\n",
       "      <td>2907-ILJBN</td>\n",
       "      <td>0</td>\n",
       "      <td>11</td>\n",
       "      <td>20.6</td>\n",
       "      <td>233.90</td>\n",
       "      <td>One year</td>\n",
       "      <td>None</td>\n",
       "      <td>0</td>\n",
       "      <td>0</td>\n",
       "      <td>1</td>\n",
       "      <td>1</td>\n",
       "      <td>1</td>\n",
       "      <td>0</td>\n",
       "      <td>0</td>\n",
       "      <td>0</td>\n",
       "      <td>0</td>\n",
       "      <td>0</td>\n",
       "      <td>0</td>\n",
       "      <td>0</td>\n",
       "      <td>0</td>\n",
       "      <td>0</td>\n",
       "      <td>1</td>\n",
       "      <td>0</td>\n",
       "      <td>0</td>\n",
       "      <td>0</td>\n",
       "      <td>1</td>\n",
       "      <td>0</td>\n",
       "      <td>0</td>\n",
       "      <td>0</td>\n",
       "      <td>1</td>\n",
       "    </tr>\n",
       "    <tr>\n",
       "      <th>2891</th>\n",
       "      <td>4118-CEVPF</td>\n",
       "      <td>1</td>\n",
       "      <td>35</td>\n",
       "      <td>110.8</td>\n",
       "      <td>3836.30</td>\n",
       "      <td>One year</td>\n",
       "      <td>Fiber optic</td>\n",
       "      <td>0</td>\n",
       "      <td>0</td>\n",
       "      <td>0</td>\n",
       "      <td>0</td>\n",
       "      <td>1</td>\n",
       "      <td>1</td>\n",
       "      <td>1</td>\n",
       "      <td>1</td>\n",
       "      <td>1</td>\n",
       "      <td>1</td>\n",
       "      <td>1</td>\n",
       "      <td>1</td>\n",
       "      <td>1</td>\n",
       "      <td>0</td>\n",
       "      <td>1</td>\n",
       "      <td>0</td>\n",
       "      <td>0</td>\n",
       "      <td>1</td>\n",
       "      <td>0</td>\n",
       "      <td>1</td>\n",
       "      <td>0</td>\n",
       "      <td>0</td>\n",
       "      <td>0</td>\n",
       "    </tr>\n",
       "  </tbody>\n",
       "</table>\n",
       "</div>"
      ],
      "text/plain": [
       "     customer_id  senior_citizen  tenure  monthly_charges  total_charges  \\\n",
       "6909  9804-ICWBG               0       1             69.9          69.90   \n",
       "1126  1644-IRKSF               0      33             93.8        3124.50   \n",
       "453   0666-UXTJO               1      34             85.2        2874.45   \n",
       "2015  2907-ILJBN               0      11             20.6         233.90   \n",
       "2891  4118-CEVPF               1      35            110.8        3836.30   \n",
       "\n",
       "       contract_type internet_service_type  churn_Yes  gender_Male  \\\n",
       "6909  Month-to-month           Fiber optic          1            1   \n",
       "1126        One year           Fiber optic          1            0   \n",
       "453   Month-to-month           Fiber optic          0            1   \n",
       "2015        One year                  None          0            0   \n",
       "2891        One year           Fiber optic          0            0   \n",
       "\n",
       "      partner_Yes  dependents_Yes  phone_service_Yes  multiple_lines_Yes  \\\n",
       "6909            0               0                  1                   0   \n",
       "1126            1               1                  1                   0   \n",
       "453             1               0                  1                   0   \n",
       "2015            1               1                  1                   0   \n",
       "2891            0               0                  1                   1   \n",
       "\n",
       "      online_security_Yes  online_backup_Yes  device_protection_Yes  \\\n",
       "6909                    0                  0                      0   \n",
       "1126                    0                  0                      1   \n",
       "453                     0                  0                      1   \n",
       "2015                    0                  0                      0   \n",
       "2891                    1                  1                      1   \n",
       "\n",
       "      tech_support_Yes  streaming_tv_Yes  streaming_movies_Yes  \\\n",
       "6909                 0                 0                     0   \n",
       "1126                 0                 1                     1   \n",
       "453                  0                 1                     0   \n",
       "2015                 0                 0                     0   \n",
       "2891                 1                 1                     1   \n",
       "\n",
       "      paperless_billing_Yes  contract_type_Month-to-month  \\\n",
       "6909                      1                             1   \n",
       "1126                      1                             0   \n",
       "453                       1                             1   \n",
       "2015                      0                             0   \n",
       "2891                      1                             0   \n",
       "\n",
       "      contract_type_One year  contract_type_Two year  \\\n",
       "6909                       0                       0   \n",
       "1126                       1                       0   \n",
       "453                        0                       0   \n",
       "2015                       1                       0   \n",
       "2891                       1                       0   \n",
       "\n",
       "      internet_service_type_DSL  internet_service_type_Fiber optic  \\\n",
       "6909                          0                                  1   \n",
       "1126                          0                                  1   \n",
       "453                           0                                  1   \n",
       "2015                          0                                  0   \n",
       "2891                          0                                  1   \n",
       "\n",
       "      internet_service_type_None  payment_type_Bank transfer (automatic)  \\\n",
       "6909                           0                                       0   \n",
       "1126                           0                                       0   \n",
       "453                            0                                       0   \n",
       "2015                           1                                       0   \n",
       "2891                           0                                       1   \n",
       "\n",
       "      payment_type_Credit card (automatic)  payment_type_Electronic check  \\\n",
       "6909                                     0                              1   \n",
       "1126                                     0                              1   \n",
       "453                                      1                              0   \n",
       "2015                                     0                              0   \n",
       "2891                                     0                              0   \n",
       "\n",
       "      payment_type_Mailed check  \n",
       "6909                          0  \n",
       "1126                          0  \n",
       "453                           0  \n",
       "2015                          1  \n",
       "2891                          0  "
      ]
     },
     "execution_count": 27,
     "metadata": {},
     "output_type": "execute_result"
    }
   ],
   "source": [
    "train.head()"
   ]
  },
  {
   "cell_type": "code",
   "execution_count": 41,
   "id": "adce1631",
   "metadata": {},
   "outputs": [],
   "source": [
    "#creating X and y dataframes for my first run through of models\n",
    "X_train = train.drop(columns=['contract_type', \n",
    "                              'internet_service_type', \n",
    "                              'churn_Yes',\n",
    "                              'customer_id'])\n",
    "y_train = train.churn_Yes\n",
    "\n",
    "X_validate = validate.drop(columns=['contract_type', \n",
    "                               'internet_service_type', \n",
    "                               'churn_Yes',\n",
    "                               'customer_id'])\n",
    "y_validate = validate.churn_Yes\n",
    "\n",
    "X_test = test.drop(columns=['contract_type', \n",
    "                            'internet_service_type', \n",
    "                            'churn_Yes',\n",
    "                            'customer_id'])\n",
    "y_test = test.churn_Yes"
   ]
  },
  {
   "cell_type": "markdown",
   "id": "bd1beffc",
   "metadata": {},
   "source": [
    "## Decision Tree #1\n",
    "\n",
    "- Everything included in this\n",
    "\n",
    "- Will create a model with max depth 3, and then try 5"
   ]
  },
  {
   "cell_type": "code",
   "execution_count": null,
   "id": "f87c666c",
   "metadata": {},
   "outputs": [],
   "source": [
    "X_train = X_train.astype(int)"
   ]
  },
  {
   "cell_type": "code",
   "execution_count": null,
   "id": "fdab9952",
   "metadata": {},
   "outputs": [],
   "source": [
    "y_train = y_train.astype(int)"
   ]
  },
  {
   "cell_type": "code",
   "execution_count": null,
   "id": "40158a5f",
   "metadata": {},
   "outputs": [],
   "source": [
    "data.head(1)"
   ]
  },
  {
   "cell_type": "code",
   "execution_count": null,
   "id": "a44420b5",
   "metadata": {},
   "outputs": [],
   "source": [
    "#creating my baseline accuracy\n",
    "\n",
    "data['baseline'] = data['churn_Yes'].value_counts().idxmax()"
   ]
  },
  {
   "cell_type": "code",
   "execution_count": null,
   "id": "d2712212",
   "metadata": {},
   "outputs": [],
   "source": [
    "(data['churn_Yes'] == data['baseline']).mean()"
   ]
  },
  {
   "cell_type": "markdown",
   "id": "2b38a54d",
   "metadata": {},
   "source": [
    "Baseline accuracy is 73.5%"
   ]
  },
  {
   "cell_type": "code",
   "execution_count": null,
   "id": "7d4d2edb",
   "metadata": {},
   "outputs": [],
   "source": [
    "#creating the model object\n",
    "\n",
    "clf = DecisionTreeClassifier(max_depth=3, random_state=42)\n",
    "\n",
    "#fitting the model\n",
    "\n",
    "clf = clf.fit(X_train, y_train)\n",
    "\n",
    "#making train predictions\n",
    "\n",
    "y_pred = clf.predict(X_train)"
   ]
  },
  {
   "cell_type": "code",
   "execution_count": null,
   "id": "1657d0e6",
   "metadata": {
    "scrolled": false
   },
   "outputs": [],
   "source": [
    "plt.figure(figsize=(10, 5))\n",
    "plot_tree(clf, feature_names=X_train.columns, \n",
    "          class_names=['0','1'], rounded=True)\n",
    "plt.show()"
   ]
  },
  {
   "cell_type": "code",
   "execution_count": null,
   "id": "48fe8835",
   "metadata": {},
   "outputs": [],
   "source": [
    "clf.score(X_train, y_train)"
   ]
  },
  {
   "cell_type": "code",
   "execution_count": null,
   "id": "99cb4d83",
   "metadata": {},
   "outputs": [],
   "source": [
    "print(classification_report(y_train, y_pred))"
   ]
  },
  {
   "cell_type": "markdown",
   "id": "c377fffd",
   "metadata": {},
   "source": [
    "Model 1 accuracy is 79%"
   ]
  },
  {
   "cell_type": "markdown",
   "id": "20e3f8a6",
   "metadata": {},
   "source": [
    "## Decision Tree #2 \n",
    "\n",
    "(Higher Depth)"
   ]
  },
  {
   "cell_type": "code",
   "execution_count": null,
   "id": "3001c4e7",
   "metadata": {},
   "outputs": [],
   "source": [
    "#creating the model object\n",
    "\n",
    "clf2 = DecisionTreeClassifier(max_depth=5, random_state=42)\n",
    "\n",
    "#fitting the model\n",
    "\n",
    "clf2 = clf2.fit(X_train, y_train)\n",
    "\n",
    "# making train predictions\n",
    "\n",
    "y_pred2 = clf2.predict(X_train)"
   ]
  },
  {
   "cell_type": "code",
   "execution_count": null,
   "id": "ba738cad",
   "metadata": {},
   "outputs": [],
   "source": [
    "plt.figure(figsize=(10, 5))\n",
    "plot_tree(clf2, feature_names=X_train.columns, \n",
    "          class_names=['0','1'], rounded=True)\n",
    "plt.show()"
   ]
  },
  {
   "cell_type": "code",
   "execution_count": null,
   "id": "3ebdc680",
   "metadata": {},
   "outputs": [],
   "source": [
    "clf2.score(X_train, y_train)"
   ]
  },
  {
   "cell_type": "code",
   "execution_count": null,
   "id": "cdbf9677",
   "metadata": {},
   "outputs": [],
   "source": [
    "print(classification_report(y_train, y_pred2))"
   ]
  },
  {
   "cell_type": "markdown",
   "id": "bdb7b5ef",
   "metadata": {},
   "source": [
    "Accuracy with depth of 5 is 80%, so it is very slightly better"
   ]
  },
  {
   "cell_type": "markdown",
   "id": "ff10177b",
   "metadata": {},
   "source": [
    "## Decision Tree #3 \n",
    "\n",
    "(Even more Depth!)"
   ]
  },
  {
   "cell_type": "code",
   "execution_count": null,
   "id": "606c9b7a",
   "metadata": {},
   "outputs": [],
   "source": [
    "#creating the model object\n",
    "\n",
    "clf3 = DecisionTreeClassifier(max_depth=8, \n",
    "                              random_state=42)\n",
    "\n",
    "#fitting the model\n",
    "\n",
    "clf3 = clf3.fit(X_train, y_train)\n",
    "\n",
    "# making train predictions\n",
    "\n",
    "y_pred3 = clf3.predict(X_train)"
   ]
  },
  {
   "cell_type": "code",
   "execution_count": null,
   "id": "8fd43c82",
   "metadata": {},
   "outputs": [],
   "source": [
    "plt.figure(figsize=(10, 5))\n",
    "plot_tree(clf3, feature_names=X_train.columns, \n",
    "          class_names=['0','1'], rounded=True)\n",
    "plt.show()"
   ]
  },
  {
   "cell_type": "code",
   "execution_count": null,
   "id": "3dfe1e99",
   "metadata": {},
   "outputs": [],
   "source": [
    "clf3.score(X_train, y_train)"
   ]
  },
  {
   "cell_type": "code",
   "execution_count": null,
   "id": "b26a97ca",
   "metadata": {},
   "outputs": [],
   "source": [
    "print(classification_report(y_train, y_pred3))"
   ]
  },
  {
   "cell_type": "markdown",
   "id": "3b4bfa98",
   "metadata": {},
   "source": [
    "This is the best result yet, at 85%"
   ]
  },
  {
   "cell_type": "markdown",
   "id": "ba473531",
   "metadata": {},
   "source": [
    "- clf, y_pred for model #1\n",
    "- clf2, y_pred2 for model #2\n",
    "- clf3, y_pred3 for model #3"
   ]
  },
  {
   "cell_type": "markdown",
   "id": "37131bb9",
   "metadata": {},
   "source": [
    "## Random Forest #1 "
   ]
  },
  {
   "cell_type": "code",
   "execution_count": null,
   "id": "50628aeb",
   "metadata": {},
   "outputs": [],
   "source": [
    "#creating the object\n",
    "rf = RandomForestClassifier(max_depth=3, \n",
    "                            min_samples_leaf=3,\n",
    "                            n_estimators=100, \n",
    "                            random_state=42, )\n",
    "\n",
    "#fitting the model\n",
    "rf.fit(X_train, y_train)\n",
    "\n",
    "#evaluate feature importance\n",
    "print(rf.feature_importances_)"
   ]
  },
  {
   "cell_type": "code",
   "execution_count": null,
   "id": "3c440f8f",
   "metadata": {},
   "outputs": [],
   "source": [
    "#make the predictions\n",
    "y_preds = rf.predict(X_train)"
   ]
  },
  {
   "cell_type": "code",
   "execution_count": null,
   "id": "27e5c225",
   "metadata": {},
   "outputs": [],
   "source": [
    "#estimate the probabilities\n",
    "y_preds_proba = rf.predict_proba(X_train)"
   ]
  },
  {
   "cell_type": "code",
   "execution_count": null,
   "id": "f405b078",
   "metadata": {},
   "outputs": [],
   "source": [
    "#obtaining the score\n",
    "rf.score(X_train, y_train)"
   ]
  },
  {
   "cell_type": "code",
   "execution_count": null,
   "id": "28d133aa",
   "metadata": {},
   "outputs": [],
   "source": [
    "print(classification_report(y_train, y_preds))"
   ]
  },
  {
   "cell_type": "markdown",
   "id": "ff8c4ffb",
   "metadata": {},
   "source": [
    "model accuracy 79%"
   ]
  },
  {
   "cell_type": "markdown",
   "id": "1f6fe204",
   "metadata": {},
   "source": [
    "## Random Forest #2 \n",
    "\n",
    "(Higher Depth)"
   ]
  },
  {
   "cell_type": "code",
   "execution_count": null,
   "id": "4cf33827",
   "metadata": {},
   "outputs": [],
   "source": [
    "#creating the object\n",
    "rf2 = RandomForestClassifier(max_depth=6, \n",
    "                            min_samples_leaf=3,\n",
    "                            n_estimators=100, \n",
    "                            random_state=42, )\n",
    "\n",
    "#fitting the model\n",
    "rf2.fit(X_train, y_train)\n",
    "\n",
    "#evaluate feature importance\n",
    "print(rf2.feature_importances_)"
   ]
  },
  {
   "cell_type": "code",
   "execution_count": null,
   "id": "f98e3eef",
   "metadata": {},
   "outputs": [],
   "source": [
    "#make the predictions\n",
    "y_preds2 = rf2.predict(X_train)"
   ]
  },
  {
   "cell_type": "code",
   "execution_count": null,
   "id": "2995e39a",
   "metadata": {},
   "outputs": [],
   "source": [
    "#obtaining the score\n",
    "rf2.score(X_train, y_train)"
   ]
  },
  {
   "cell_type": "code",
   "execution_count": null,
   "id": "10385844",
   "metadata": {},
   "outputs": [],
   "source": [
    "print(classification_report(y_train, y_preds2))"
   ]
  },
  {
   "cell_type": "markdown",
   "id": "b7676ab4",
   "metadata": {},
   "source": [
    "model accuracy is 82%"
   ]
  },
  {
   "cell_type": "markdown",
   "id": "1066be19",
   "metadata": {},
   "source": [
    "## Random Forest #3\n",
    "\n",
    "(MOAR Depth)"
   ]
  },
  {
   "cell_type": "code",
   "execution_count": null,
   "id": "8295ebdf",
   "metadata": {},
   "outputs": [],
   "source": [
    "rf3 = RandomForestClassifier(max_depth=10,\n",
    "                            min_samples_leaf=3,\n",
    "                            n_estimators=100,\n",
    "                            random_state=42)\n",
    "\n",
    "rf3.fit(X_train, y_train)\n",
    "\n",
    "y_preds3 = rf3.predict(X_train)"
   ]
  },
  {
   "cell_type": "code",
   "execution_count": null,
   "id": "e642b40a",
   "metadata": {},
   "outputs": [],
   "source": [
    "rf3.score(X_train, y_train)"
   ]
  },
  {
   "cell_type": "code",
   "execution_count": null,
   "id": "c8d555c3",
   "metadata": {},
   "outputs": [],
   "source": [
    "print(classification_report(y_train, y_preds3))"
   ]
  },
  {
   "cell_type": "markdown",
   "id": "05d6652b",
   "metadata": {},
   "source": [
    "Model accuracy is 87%"
   ]
  },
  {
   "cell_type": "markdown",
   "id": "0e4bd213",
   "metadata": {},
   "source": [
    "## KNN #1"
   ]
  },
  {
   "cell_type": "code",
   "execution_count": null,
   "id": "acd51bb5",
   "metadata": {},
   "outputs": [],
   "source": [
    "# weights = ['uniform', 'density']\n",
    "knn = KNeighborsClassifier(n_neighbors=5, weights='uniform')\n",
    "\n",
    "#fit the model\n",
    "knn.fit(X_train, y_train)\n",
    "\n",
    "#make predictions\n",
    "knn_pred = knn.predict(X_train)"
   ]
  },
  {
   "cell_type": "code",
   "execution_count": null,
   "id": "c3ebf228",
   "metadata": {},
   "outputs": [],
   "source": [
    "#estimate probability\n",
    "knn_pred_proba = knn.predict_proba(X_train)"
   ]
  },
  {
   "cell_type": "code",
   "execution_count": null,
   "id": "2fc14cc6",
   "metadata": {},
   "outputs": [],
   "source": [
    "knn.score(X_train, y_train)"
   ]
  },
  {
   "cell_type": "code",
   "execution_count": null,
   "id": "0c35f685",
   "metadata": {},
   "outputs": [],
   "source": [
    "print(classification_report(y_train, knn_pred))"
   ]
  },
  {
   "cell_type": "markdown",
   "id": "15ab465b",
   "metadata": {},
   "source": [
    "Model accuracy is 83%"
   ]
  },
  {
   "cell_type": "markdown",
   "id": "2049bd1d",
   "metadata": {},
   "source": [
    "## KNN #2\n",
    "\n",
    "(More Neighbors)"
   ]
  },
  {
   "cell_type": "code",
   "execution_count": null,
   "id": "54d0fbc0",
   "metadata": {},
   "outputs": [],
   "source": [
    "# weights = ['uniform', 'density']\n",
    "knn2 = KNeighborsClassifier(n_neighbors=8, weights='uniform')\n",
    "\n",
    "#fit the model\n",
    "knn2.fit(X_train, y_train)\n",
    "\n",
    "#make predictions\n",
    "knn_pred2 = knn2.predict(X_train)"
   ]
  },
  {
   "cell_type": "code",
   "execution_count": null,
   "id": "3af1c5f3",
   "metadata": {},
   "outputs": [],
   "source": [
    "knn2.score(X_train, y_train)"
   ]
  },
  {
   "cell_type": "code",
   "execution_count": null,
   "id": "1ed3ec9d",
   "metadata": {},
   "outputs": [],
   "source": [
    "print(classification_report(y_train, knn_pred2))"
   ]
  },
  {
   "cell_type": "markdown",
   "id": "a715391d",
   "metadata": {},
   "source": [
    "Model accuracy is 81%"
   ]
  },
  {
   "cell_type": "markdown",
   "id": "bcd2f915",
   "metadata": {},
   "source": [
    "## KNN #3 \n",
    "\n",
    "(Less Neighbors than first model)"
   ]
  },
  {
   "cell_type": "code",
   "execution_count": null,
   "id": "66ba364e",
   "metadata": {},
   "outputs": [],
   "source": [
    "knn3 = KNeighborsClassifier(n_neighbors=3, weights='uniform')\n",
    "\n",
    "knn3.fit(X_train, y_train)\n",
    "\n",
    "knn_pred3 = knn3.predict(X_train)"
   ]
  },
  {
   "cell_type": "code",
   "execution_count": null,
   "id": "c5576314",
   "metadata": {},
   "outputs": [],
   "source": [
    "knn3.score(X_train, y_train)"
   ]
  },
  {
   "cell_type": "code",
   "execution_count": null,
   "id": "6fc30220",
   "metadata": {},
   "outputs": [],
   "source": [
    "print(classification_report(y_train, knn_pred3))"
   ]
  },
  {
   "cell_type": "markdown",
   "id": "6968cc5b",
   "metadata": {},
   "source": [
    "Model accuracy is 86%"
   ]
  },
  {
   "cell_type": "markdown",
   "id": "f538451b",
   "metadata": {},
   "source": [
    "## Logistic Regression #1"
   ]
  },
  {
   "cell_type": "code",
   "execution_count": null,
   "id": "0adcb9dd",
   "metadata": {},
   "outputs": [],
   "source": [
    "#creating the object\n",
    "logit = LogisticRegression(C=.1, class_weight={0:1, 1:99}, \n",
    "                           random_state=42, intercept_scaling=1,\n",
    "                          solver='lbfgs')\n",
    "\n",
    "#fit the model\n",
    "logit.fit(X_train, y_train)\n",
    "\n",
    "#make predictions\n",
    "logit_pred = logit.predict(X_train)"
   ]
  },
  {
   "cell_type": "code",
   "execution_count": null,
   "id": "e110574c",
   "metadata": {},
   "outputs": [],
   "source": [
    "#evaluate the importance (weight) of each feature\n",
    "print('Coefficient: \\n', logit.coef_)\n",
    "print('Intercept: \\n', logit.intercept_)"
   ]
  },
  {
   "cell_type": "code",
   "execution_count": null,
   "id": "2b9112d7",
   "metadata": {},
   "outputs": [],
   "source": [
    "#estimate probability\n",
    "logit_pred_proba = logit.predict_proba(X_train)"
   ]
  },
  {
   "cell_type": "code",
   "execution_count": null,
   "id": "402817ba",
   "metadata": {},
   "outputs": [],
   "source": [
    "logit_pred"
   ]
  },
  {
   "cell_type": "code",
   "execution_count": null,
   "id": "cb634f82",
   "metadata": {},
   "outputs": [],
   "source": [
    "logit_pred_proba"
   ]
  },
  {
   "cell_type": "code",
   "execution_count": null,
   "id": "c8022edb",
   "metadata": {},
   "outputs": [],
   "source": [
    "logit.score(X_train, y_train)"
   ]
  },
  {
   "cell_type": "code",
   "execution_count": null,
   "id": "0c3075f1",
   "metadata": {},
   "outputs": [],
   "source": [
    "print(classification_report(y_train, logit_pred))"
   ]
  },
  {
   "cell_type": "markdown",
   "id": "1502cb86",
   "metadata": {},
   "source": [
    "By far the worst so far, accuracy is 38%"
   ]
  },
  {
   "cell_type": "markdown",
   "id": "440029fe",
   "metadata": {},
   "source": [
    "## Logistic Regression #2 \n",
    "\n",
    "(Removing the class_weight to default)"
   ]
  },
  {
   "cell_type": "code",
   "execution_count": null,
   "id": "11f781e4",
   "metadata": {},
   "outputs": [],
   "source": [
    "#creating the object\n",
    "logit2 = LogisticRegression(C=.1, random_state=42, \n",
    "                           intercept_scaling=1, solver='lbfgs')\n",
    "\n",
    "#fit the model\n",
    "logit2.fit(X_train, y_train)\n",
    "\n",
    "#make predictions\n",
    "logit_pred2 = logit2.predict(X_train)"
   ]
  },
  {
   "cell_type": "code",
   "execution_count": null,
   "id": "9a8d6c1d",
   "metadata": {},
   "outputs": [],
   "source": [
    "logit2.score(X_train, y_train)"
   ]
  },
  {
   "cell_type": "code",
   "execution_count": null,
   "id": "d4ce4b8b",
   "metadata": {},
   "outputs": [],
   "source": [
    "#estimate probability\n",
    "logit_pred_proba2 = logit2.predict_proba(X_train)"
   ]
  },
  {
   "cell_type": "code",
   "execution_count": null,
   "id": "919b45d8",
   "metadata": {},
   "outputs": [],
   "source": [
    "print(classification_report(y_train, logit_pred2))"
   ]
  },
  {
   "cell_type": "markdown",
   "id": "8df16b12",
   "metadata": {},
   "source": [
    "Performing *much* better at 81% accuracy"
   ]
  },
  {
   "cell_type": "markdown",
   "id": "ad792d22",
   "metadata": {},
   "source": [
    "## Logistic Regression #3 \n",
    "\n",
    "(Keeping the change in the second model, but also setting C to default)"
   ]
  },
  {
   "cell_type": "code",
   "execution_count": null,
   "id": "9da257e2",
   "metadata": {},
   "outputs": [],
   "source": [
    "#creating the object\n",
    "logit3 = LogisticRegression(random_state=42, intercept_scaling=1, \n",
    "                            solver='lbfgs')\n",
    "\n",
    "#fit the model\n",
    "logit3.fit(X_train, y_train)\n",
    "\n",
    "#make predictions\n",
    "logit_pred3 = logit3.predict(X_train)"
   ]
  },
  {
   "cell_type": "code",
   "execution_count": null,
   "id": "08cbc32c",
   "metadata": {},
   "outputs": [],
   "source": [
    "logit3.score(X_train, y_train)"
   ]
  },
  {
   "cell_type": "code",
   "execution_count": null,
   "id": "ba0c8fc5",
   "metadata": {},
   "outputs": [],
   "source": [
    "print(classification_report(y_train, logit_pred3))"
   ]
  },
  {
   "cell_type": "markdown",
   "id": "e78040b2",
   "metadata": {},
   "source": [
    "Model performed very slightly better than the previous, still 81% accuracy"
   ]
  },
  {
   "cell_type": "markdown",
   "id": "94130667",
   "metadata": {},
   "source": [
    "# Model Performances on Validate sets"
   ]
  },
  {
   "cell_type": "markdown",
   "id": "c6b8802c",
   "metadata": {},
   "source": [
    "## Decision Tree #1"
   ]
  },
  {
   "cell_type": "code",
   "execution_count": null,
   "id": "c98c063f",
   "metadata": {},
   "outputs": [],
   "source": [
    "clf.score(X_validate, y_validate)"
   ]
  },
  {
   "cell_type": "markdown",
   "id": "fcd9cb63",
   "metadata": {},
   "source": [
    "## Decision Tree #2"
   ]
  },
  {
   "cell_type": "code",
   "execution_count": null,
   "id": "e1f960b2",
   "metadata": {},
   "outputs": [],
   "source": [
    "clf2.score(X_validate, y_validate)"
   ]
  },
  {
   "cell_type": "markdown",
   "id": "a471dace",
   "metadata": {},
   "source": [
    "## Decision Tree #3"
   ]
  },
  {
   "cell_type": "code",
   "execution_count": null,
   "id": "ae7e2209",
   "metadata": {},
   "outputs": [],
   "source": [
    "clf3.score(X_validate, y_validate)"
   ]
  },
  {
   "cell_type": "markdown",
   "id": "5457cca1",
   "metadata": {},
   "source": [
    "## Random Forest #1"
   ]
  },
  {
   "cell_type": "code",
   "execution_count": null,
   "id": "cb322a4f",
   "metadata": {},
   "outputs": [],
   "source": [
    "rf.score(X_validate, y_validate)"
   ]
  },
  {
   "cell_type": "markdown",
   "id": "aa1ca20b",
   "metadata": {},
   "source": [
    "## Random Forest #2"
   ]
  },
  {
   "cell_type": "code",
   "execution_count": null,
   "id": "ae949a7c",
   "metadata": {
    "scrolled": true
   },
   "outputs": [],
   "source": [
    "rf2.score(X_validate, y_validate)"
   ]
  },
  {
   "cell_type": "markdown",
   "id": "11cb6b54",
   "metadata": {},
   "source": [
    "## Random forest #3"
   ]
  },
  {
   "cell_type": "code",
   "execution_count": null,
   "id": "51abd126",
   "metadata": {},
   "outputs": [],
   "source": [
    "rf3.score(X_validate, y_validate)"
   ]
  },
  {
   "cell_type": "markdown",
   "id": "c24686fb",
   "metadata": {},
   "source": [
    "## KNN #1"
   ]
  },
  {
   "cell_type": "code",
   "execution_count": null,
   "id": "1635783d",
   "metadata": {},
   "outputs": [],
   "source": [
    "knn.score(X_validate, y_validate)"
   ]
  },
  {
   "cell_type": "markdown",
   "id": "26343c1e",
   "metadata": {},
   "source": [
    "## KNN #2"
   ]
  },
  {
   "cell_type": "code",
   "execution_count": null,
   "id": "4fb14b91",
   "metadata": {},
   "outputs": [],
   "source": [
    "knn2.score(X_validate, y_validate)"
   ]
  },
  {
   "cell_type": "markdown",
   "id": "23a2986d",
   "metadata": {},
   "source": [
    "## KNN #3 model"
   ]
  },
  {
   "cell_type": "code",
   "execution_count": null,
   "id": "6df05352",
   "metadata": {},
   "outputs": [],
   "source": [
    "knn3.score(X_validate, y_validate)"
   ]
  },
  {
   "cell_type": "markdown",
   "id": "cc19e852",
   "metadata": {},
   "source": [
    "## Logistic Regression #1"
   ]
  },
  {
   "cell_type": "code",
   "execution_count": null,
   "id": "a072b042",
   "metadata": {},
   "outputs": [],
   "source": [
    "logit.score(X_validate, y_validate)"
   ]
  },
  {
   "cell_type": "markdown",
   "id": "dc3dc92c",
   "metadata": {},
   "source": [
    "## Logistic Regression #2"
   ]
  },
  {
   "cell_type": "code",
   "execution_count": null,
   "id": "c82a5eae",
   "metadata": {},
   "outputs": [],
   "source": [
    "logit2.score(X_validate, y_validate)"
   ]
  },
  {
   "cell_type": "markdown",
   "id": "53f754d0",
   "metadata": {},
   "source": [
    "## Logistic Regression #3"
   ]
  },
  {
   "cell_type": "code",
   "execution_count": null,
   "id": "8e04fd68",
   "metadata": {},
   "outputs": [],
   "source": [
    "logit3.score(X_validate, y_validate)"
   ]
  },
  {
   "cell_type": "markdown",
   "id": "d8fb78ce",
   "metadata": {},
   "source": [
    "# Best models"
   ]
  },
  {
   "cell_type": "markdown",
   "id": "e98648c5",
   "metadata": {},
   "source": [
    "My best models on the validates sets are:\n",
    "\n",
    "1. Logistic Regression #2\n",
    "2. Logistic Regression #3\n",
    "3. Random Forest #2\n",
    "4. Decision Tree #1"
   ]
  },
  {
   "cell_type": "markdown",
   "id": "ecb8a4b5",
   "metadata": {},
   "source": [
    "## Best model on test data"
   ]
  },
  {
   "cell_type": "code",
   "execution_count": null,
   "id": "6000db3d",
   "metadata": {},
   "outputs": [],
   "source": [
    "logit2.score(X_test, y_test)"
   ]
  },
  {
   "cell_type": "code",
   "execution_count": null,
   "id": "ea9659cb",
   "metadata": {},
   "outputs": [],
   "source": [
    "logit_test_proba = logit2.predict_proba(X_test)"
   ]
  },
  {
   "cell_type": "code",
   "execution_count": null,
   "id": "0ff840d7",
   "metadata": {},
   "outputs": [],
   "source": [
    "logit_test_proba = pd.DataFrame(logit_test_proba)"
   ]
  },
  {
   "cell_type": "code",
   "execution_count": null,
   "id": "c0314ada",
   "metadata": {},
   "outputs": [],
   "source": [
    "logit_test_pred = logit2.predict(X_test)"
   ]
  },
  {
   "cell_type": "code",
   "execution_count": null,
   "id": "52328053",
   "metadata": {},
   "outputs": [],
   "source": [
    "logit_test_pred = pd.DataFrame(logit_test_pred)"
   ]
  },
  {
   "cell_type": "code",
   "execution_count": null,
   "id": "45cba1f2",
   "metadata": {},
   "outputs": [],
   "source": [
    "test_cust_id = test['customer_id']"
   ]
  },
  {
   "cell_type": "code",
   "execution_count": null,
   "id": "5e7b5465",
   "metadata": {
    "scrolled": true
   },
   "outputs": [],
   "source": [
    "#customer ids from test data\n",
    "test_cust_id"
   ]
  },
  {
   "cell_type": "code",
   "execution_count": null,
   "id": "8b70db26",
   "metadata": {},
   "outputs": [],
   "source": [
    "logit_test_proba = logit_test_proba.drop(columns=0)"
   ]
  },
  {
   "cell_type": "code",
   "execution_count": null,
   "id": "8c2211a0",
   "metadata": {},
   "outputs": [],
   "source": [
    "logit_test_proba"
   ]
  },
  {
   "cell_type": "code",
   "execution_count": null,
   "id": "6e07c6c2",
   "metadata": {},
   "outputs": [],
   "source": [
    "logit_test_pred"
   ]
  },
  {
   "cell_type": "code",
   "execution_count": null,
   "id": "b4f6b060",
   "metadata": {},
   "outputs": [],
   "source": [
    "predictions = pd.DataFrame(test_cust_id)"
   ]
  },
  {
   "cell_type": "code",
   "execution_count": null,
   "id": "6801deec",
   "metadata": {},
   "outputs": [],
   "source": [
    "predictions.reset_index(inplace=True)"
   ]
  },
  {
   "cell_type": "code",
   "execution_count": null,
   "id": "88e47bb8",
   "metadata": {},
   "outputs": [],
   "source": [
    "predictions = pd.concat([predictions, \n",
    "                         logit_test_proba, \n",
    "                         logit_test_pred], axis=1)"
   ]
  },
  {
   "cell_type": "code",
   "execution_count": null,
   "id": "d94e6a52",
   "metadata": {},
   "outputs": [],
   "source": [
    "predictions = predictions.drop(columns='index')"
   ]
  },
  {
   "cell_type": "code",
   "execution_count": null,
   "id": "e96e0048",
   "metadata": {},
   "outputs": [],
   "source": [
    "predictions"
   ]
  },
  {
   "cell_type": "code",
   "execution_count": null,
   "id": "9cd23a14",
   "metadata": {},
   "outputs": [],
   "source": [
    "predictions = predictions.rename(columns= {1: 'probability_of_churn', \n",
    "                                           0: 'prediction_of_churn'})"
   ]
  },
  {
   "cell_type": "code",
   "execution_count": null,
   "id": "359e929c",
   "metadata": {},
   "outputs": [],
   "source": [
    "predictions"
   ]
  },
  {
   "cell_type": "code",
   "execution_count": null,
   "id": "5c655ca1",
   "metadata": {},
   "outputs": [],
   "source": [
    "(predictions['prediction_of_churn'] == 1).mean()"
   ]
  },
  {
   "cell_type": "code",
   "execution_count": null,
   "id": "b854f5fd",
   "metadata": {},
   "outputs": [],
   "source": [
    "predictions.to_csv('predictions.csv')"
   ]
  },
  {
   "cell_type": "markdown",
   "id": "eb260ae6",
   "metadata": {},
   "source": [
    "Accuracy stayed very close to the validate result, at 80%"
   ]
  },
  {
   "cell_type": "markdown",
   "id": "b83d7c9a",
   "metadata": {},
   "source": [
    "# Visualizations"
   ]
  },
  {
   "cell_type": "markdown",
   "id": "9cdbc22c",
   "metadata": {},
   "source": [
    "## Provide the context of the target variable through a visualization (distribution of the values, e.g.)\n",
    "\n"
   ]
  },
  {
   "cell_type": "code",
   "execution_count": null,
   "id": "d7374815",
   "metadata": {},
   "outputs": [],
   "source": [
    "data.head(1)"
   ]
  },
  {
   "cell_type": "code",
   "execution_count": null,
   "id": "1d02ef03",
   "metadata": {},
   "outputs": [],
   "source": [
    "sns.barplot(x='contract_type',\n",
    "            y='churn_Yes',\n",
    "            hue='internet_service_type',\n",
    "            data=data)\n",
    "\n",
    "plt.title(\"How Internet and Contract Types Affect Churn\")\n",
    "plt.ylabel(\"Has Churned\")\n",
    "plt.xlabel(\"Contract Type\")\n",
    "plt.show()"
   ]
  },
  {
   "cell_type": "markdown",
   "id": "8ec8e2b5",
   "metadata": {},
   "source": [
    "## On your best model, a chart visualizing how it performed on test would be valuable.\n",
    "\n"
   ]
  },
  {
   "cell_type": "code",
   "execution_count": null,
   "id": "dfbd7bc2",
   "metadata": {},
   "outputs": [],
   "source": [
    "test.head(1)"
   ]
  },
  {
   "cell_type": "code",
   "execution_count": null,
   "id": "92ed8064",
   "metadata": {},
   "outputs": [],
   "source": [
    "test_pred = predictions['prediction_of_churn']"
   ]
  },
  {
   "cell_type": "code",
   "execution_count": null,
   "id": "e4795c19",
   "metadata": {},
   "outputs": [],
   "source": [
    "test['baseline'] = test['churn_Yes'].value_counts().idxmax()"
   ]
  },
  {
   "cell_type": "code",
   "execution_count": null,
   "id": "12380519",
   "metadata": {},
   "outputs": [],
   "source": [
    "(test['churn_Yes'] == test['baseline']).mean()"
   ]
  },
  {
   "cell_type": "code",
   "execution_count": null,
   "id": "a7162621",
   "metadata": {},
   "outputs": [],
   "source": [
    "test = pd.concat([test, test_pred], axis=1)"
   ]
  },
  {
   "cell_type": "code",
   "execution_count": null,
   "id": "adde172f",
   "metadata": {},
   "outputs": [],
   "source": [
    "test = test.reset_index()"
   ]
  },
  {
   "cell_type": "code",
   "execution_count": null,
   "id": "e2c6e3bf",
   "metadata": {},
   "outputs": [],
   "source": [
    "data = [73, 27]\n",
    "labels = ['Baseline Correct', 'Baseline Incorrect']\n",
    "\n",
    "colors = sns.color_palette('pastel')[0:2]\n",
    "\n",
    "plt.pie(data, labels=labels, colors=colors, autopct='%.0f%%')\n",
    "plt.title(\"Baseline Accuracy\")\n",
    "plt.show()\n",
    "\n",
    "data1 = [81, 19]\n",
    "labels1 = ['Model Correct', 'Model Incorrect']\n",
    "\n",
    "colors = sns.color_palette('pastel')[2:4]\n",
    "\n",
    "plt.pie(data1, labels=labels1, colors=colors, autopct='%.0f%%')\n",
    "plt.title(\"Best Performing Model\")\n",
    "plt.show()"
   ]
  },
  {
   "cell_type": "markdown",
   "id": "60b4e9d3",
   "metadata": {},
   "source": [
    "# Final takeaways and Recommedations"
   ]
  },
  {
   "cell_type": "markdown",
   "id": "c61de1a2",
   "metadata": {},
   "source": [
    "Takeaways:\n",
    "\n",
    "- Gender and Age aren't huge facotrs when it comes to churn\n",
    "- The **biggest** factor seems to be Contract type with internet type also playing a significant role\n",
    "- Customers that had fiber optic internet rather than DSL or no internet churned much more \n",
    "\n",
    "Recommendations\n",
    "\n",
    "- Provide better support for customers with fiber optic internet\n",
    "- Make improvements to month to month contract plans to make it more appealing to customers\n",
    "- alternatively, or in addition to the above, make the one and two year contract types more appealing as customers with those churned significantly less\n"
   ]
  },
  {
   "cell_type": "markdown",
   "id": "7f37ef4c",
   "metadata": {},
   "source": [
    "# functions made post project"
   ]
  },
  {
   "cell_type": "code",
   "execution_count": null,
   "id": "b0292c23",
   "metadata": {},
   "outputs": [],
   "source": [
    "def make_baseline(df, baseline, col):\n",
    "    \n",
    "    df[baseline] = df[col].value_counts().idxmax()    \n",
    "\n",
    "    base = (df[col] == df[baseline]).mean()\n",
    "    \n",
    "    print(f'Baseline Accuracy is: {base:.3}')\n",
    "    "
   ]
  },
  {
   "cell_type": "code",
   "execution_count": null,
   "id": "3e58ba66",
   "metadata": {},
   "outputs": [],
   "source": [
    "def chi2_report(df, col, target):\n",
    "    '''\n",
    "    This function is to be used to generate a crosstab for my observed data, and use that the run a chi2 test, and generate the report values from the test\n",
    "    '''\n",
    "    \n",
    "    observed = pd.crosstab(df[col], df[target])\n",
    "    \n",
    "    chi2, p, degf, expected = stats.chi2_contingency(observed)\n",
    "\n",
    "    alpha = .05\n",
    "    \n",
    "    print('Observed Values\\n')\n",
    "    print(observed.values)\n",
    "    \n",
    "    print('---\\nExpected Values\\n')\n",
    "    print(expected.astype(int))\n",
    "    print('---\\n')\n",
    "\n",
    "    print(f'chi^2 = {chi2:.4f}') \n",
    "    print(f'p     = {p:.4f}')\n",
    "\n",
    "    print('Is p-value < alpha?', p < alpha)"
   ]
  },
  {
   "cell_type": "code",
   "execution_count": null,
   "id": "c218c0a5",
   "metadata": {},
   "outputs": [],
   "source": [
    "def xy_train(train):\n",
    "    \n",
    "    X_train = train.drop(columns=['contract_type', \n",
    "                                  'internet_service_type', \n",
    "                                  'churn_Yes',\n",
    "                                  'customer_id'])\n",
    "    y_train = train.churn_Yes\n",
    "\n",
    "    X_validate = val.drop(columns=['contract_type', \n",
    "                                   'internet_service_type', \n",
    "                                   'churn_Yes',\n",
    "                                   'customer_id'])\n",
    "    y_validate = val.churn_Yes\n",
    "\n",
    "    X_test = test.drop(columns=['contract_type', \n",
    "                                'internet_service_type', \n",
    "                                'churn_Yes',\n",
    "                                'customer_id'])\n",
    "    y_test = test.churn_Yes"
   ]
  },
  {
   "cell_type": "code",
   "execution_count": 23,
   "id": "4006bc44",
   "metadata": {},
   "outputs": [],
   "source": [
    "def rf_gen():\n",
    "    \n",
    "    metrics = []\n",
    "\n",
    "    for i in range(1, 20):\n",
    "    \n",
    "        '''\n",
    "        This function will create a dataframe of Random Forest models of varying max_depths and compare the differences from the train and validate sets\n",
    "        '''\n",
    "        # Make the model\n",
    "        rf = RandomForestClassifier(max_depth=i, min_samples_leaf=3, n_estimators=200, random_state=42)\n",
    "\n",
    "        # Fit the model (on train and only train)\n",
    "        rf = rf.fit(X_train, y_train)\n",
    "\n",
    "        # Use the model\n",
    "        # We'll evaluate the model's performance on train, first\n",
    "        in_sample_accuracy = rf.score(X_train, y_train)\n",
    "    \n",
    "        out_of_sample_accuracy = rf.score(X_validate, y_validate)\n",
    "\n",
    "        output = {\n",
    "            \"max_depth\": i,\n",
    "            \"train_accuracy\": in_sample_accuracy,\n",
    "            \"validate_accuracy\": out_of_sample_accuracy\n",
    "            }\n",
    "    \n",
    "        metrics.append(output)\n",
    "    \n",
    "    df = pd.DataFrame(metrics)\n",
    "    df[\"difference\"] = df.train_accuracy - df.validate_accuracy\n",
    "    return df"
   ]
  },
  {
   "cell_type": "code",
   "execution_count": 24,
   "id": "ce4a3156",
   "metadata": {},
   "outputs": [
    {
     "data": {
      "text/html": [
       "<div>\n",
       "<style scoped>\n",
       "    .dataframe tbody tr th:only-of-type {\n",
       "        vertical-align: middle;\n",
       "    }\n",
       "\n",
       "    .dataframe tbody tr th {\n",
       "        vertical-align: top;\n",
       "    }\n",
       "\n",
       "    .dataframe thead th {\n",
       "        text-align: right;\n",
       "    }\n",
       "</style>\n",
       "<table border=\"1\" class=\"dataframe\">\n",
       "  <thead>\n",
       "    <tr style=\"text-align: right;\">\n",
       "      <th></th>\n",
       "      <th>max_depth</th>\n",
       "      <th>train_accuracy</th>\n",
       "      <th>validate_accuracy</th>\n",
       "      <th>difference</th>\n",
       "    </tr>\n",
       "  </thead>\n",
       "  <tbody>\n",
       "    <tr>\n",
       "      <th>0</th>\n",
       "      <td>1</td>\n",
       "      <td>0.734734</td>\n",
       "      <td>0.734501</td>\n",
       "      <td>0.000234</td>\n",
       "    </tr>\n",
       "    <tr>\n",
       "      <th>1</th>\n",
       "      <td>2</td>\n",
       "      <td>0.752059</td>\n",
       "      <td>0.755324</td>\n",
       "      <td>-0.003265</td>\n",
       "    </tr>\n",
       "    <tr>\n",
       "      <th>2</th>\n",
       "      <td>3</td>\n",
       "      <td>0.785004</td>\n",
       "      <td>0.797444</td>\n",
       "      <td>-0.012440</td>\n",
       "    </tr>\n",
       "    <tr>\n",
       "      <th>3</th>\n",
       "      <td>4</td>\n",
       "      <td>0.796649</td>\n",
       "      <td>0.802177</td>\n",
       "      <td>-0.005528</td>\n",
       "    </tr>\n",
       "    <tr>\n",
       "      <th>4</th>\n",
       "      <td>5</td>\n",
       "      <td>0.806021</td>\n",
       "      <td>0.810222</td>\n",
       "      <td>-0.004201</td>\n",
       "    </tr>\n",
       "    <tr>\n",
       "      <th>5</th>\n",
       "      <td>6</td>\n",
       "      <td>0.816245</td>\n",
       "      <td>0.808329</td>\n",
       "      <td>0.007916</td>\n",
       "    </tr>\n",
       "    <tr>\n",
       "      <th>6</th>\n",
       "      <td>7</td>\n",
       "      <td>0.826470</td>\n",
       "      <td>0.811169</td>\n",
       "      <td>0.015301</td>\n",
       "    </tr>\n",
       "    <tr>\n",
       "      <th>7</th>\n",
       "      <td>8</td>\n",
       "      <td>0.839534</td>\n",
       "      <td>0.817795</td>\n",
       "      <td>0.021740</td>\n",
       "    </tr>\n",
       "    <tr>\n",
       "      <th>8</th>\n",
       "      <td>9</td>\n",
       "      <td>0.850895</td>\n",
       "      <td>0.813535</td>\n",
       "      <td>0.037359</td>\n",
       "    </tr>\n",
       "    <tr>\n",
       "      <th>9</th>\n",
       "      <td>10</td>\n",
       "      <td>0.867935</td>\n",
       "      <td>0.809749</td>\n",
       "      <td>0.058186</td>\n",
       "    </tr>\n",
       "    <tr>\n",
       "      <th>10</th>\n",
       "      <td>11</td>\n",
       "      <td>0.878728</td>\n",
       "      <td>0.810222</td>\n",
       "      <td>0.068505</td>\n",
       "    </tr>\n",
       "    <tr>\n",
       "      <th>11</th>\n",
       "      <td>12</td>\n",
       "      <td>0.888384</td>\n",
       "      <td>0.803124</td>\n",
       "      <td>0.085260</td>\n",
       "    </tr>\n",
       "    <tr>\n",
       "      <th>12</th>\n",
       "      <td>13</td>\n",
       "      <td>0.894064</td>\n",
       "      <td>0.808803</td>\n",
       "      <td>0.085262</td>\n",
       "    </tr>\n",
       "    <tr>\n",
       "      <th>13</th>\n",
       "      <td>14</td>\n",
       "      <td>0.898040</td>\n",
       "      <td>0.807383</td>\n",
       "      <td>0.090657</td>\n",
       "    </tr>\n",
       "    <tr>\n",
       "      <th>14</th>\n",
       "      <td>15</td>\n",
       "      <td>0.900880</td>\n",
       "      <td>0.809276</td>\n",
       "      <td>0.091605</td>\n",
       "    </tr>\n",
       "    <tr>\n",
       "      <th>15</th>\n",
       "      <td>16</td>\n",
       "      <td>0.899460</td>\n",
       "      <td>0.805963</td>\n",
       "      <td>0.093497</td>\n",
       "    </tr>\n",
       "    <tr>\n",
       "      <th>16</th>\n",
       "      <td>17</td>\n",
       "      <td>0.900880</td>\n",
       "      <td>0.807856</td>\n",
       "      <td>0.093024</td>\n",
       "    </tr>\n",
       "    <tr>\n",
       "      <th>17</th>\n",
       "      <td>18</td>\n",
       "      <td>0.901448</td>\n",
       "      <td>0.805017</td>\n",
       "      <td>0.096432</td>\n",
       "    </tr>\n",
       "    <tr>\n",
       "      <th>18</th>\n",
       "      <td>19</td>\n",
       "      <td>0.899744</td>\n",
       "      <td>0.805490</td>\n",
       "      <td>0.094255</td>\n",
       "    </tr>\n",
       "  </tbody>\n",
       "</table>\n",
       "</div>"
      ],
      "text/plain": [
       "    max_depth  train_accuracy  validate_accuracy  difference\n",
       "0           1        0.734734           0.734501    0.000234\n",
       "1           2        0.752059           0.755324   -0.003265\n",
       "2           3        0.785004           0.797444   -0.012440\n",
       "3           4        0.796649           0.802177   -0.005528\n",
       "4           5        0.806021           0.810222   -0.004201\n",
       "5           6        0.816245           0.808329    0.007916\n",
       "6           7        0.826470           0.811169    0.015301\n",
       "7           8        0.839534           0.817795    0.021740\n",
       "8           9        0.850895           0.813535    0.037359\n",
       "9          10        0.867935           0.809749    0.058186\n",
       "10         11        0.878728           0.810222    0.068505\n",
       "11         12        0.888384           0.803124    0.085260\n",
       "12         13        0.894064           0.808803    0.085262\n",
       "13         14        0.898040           0.807383    0.090657\n",
       "14         15        0.900880           0.809276    0.091605\n",
       "15         16        0.899460           0.805963    0.093497\n",
       "16         17        0.900880           0.807856    0.093024\n",
       "17         18        0.901448           0.805017    0.096432\n",
       "18         19        0.899744           0.805490    0.094255"
      ]
     },
     "execution_count": 24,
     "metadata": {},
     "output_type": "execute_result"
    }
   ],
   "source": [
    "rf_gen()"
   ]
  },
  {
   "cell_type": "code",
   "execution_count": 28,
   "id": "a5f9d06f",
   "metadata": {},
   "outputs": [],
   "source": [
    "def dectree_gen():\n",
    "    \n",
    "    metrics = []\n",
    "\n",
    "    for i in range(1, 20):\n",
    "    \n",
    "        '''\n",
    "        This function will create a dataframe of Random Forest models of varying max_depths and compare the differences from the train and validate sets\n",
    "        '''\n",
    "        # Make the model\n",
    "        dectree = DecisionTreeClassifier(max_depth=i, random_state=42)\n",
    "\n",
    "        # Fit the model (on train and only train)\n",
    "        dectree = dectree.fit(X_train, y_train)\n",
    "\n",
    "        # Use the model\n",
    "        # We'll evaluate the model's performance on train, first\n",
    "        in_sample_accuracy = dectree.score(X_train, y_train)\n",
    "    \n",
    "        out_of_sample_accuracy = dectree.score(X_validate, y_validate)\n",
    "\n",
    "        output = {\n",
    "            \"max_depth\": i,\n",
    "            \"train_accuracy\": in_sample_accuracy,\n",
    "            \"validate_accuracy\": out_of_sample_accuracy\n",
    "            }\n",
    "    \n",
    "        metrics.append(output)\n",
    "    \n",
    "    df = pd.DataFrame(metrics)\n",
    "    df[\"difference\"] = df.train_accuracy - df.validate_accuracy\n",
    "    return df"
   ]
  },
  {
   "cell_type": "code",
   "execution_count": 29,
   "id": "a2c3b0e7",
   "metadata": {},
   "outputs": [
    {
     "data": {
      "text/html": [
       "<div>\n",
       "<style scoped>\n",
       "    .dataframe tbody tr th:only-of-type {\n",
       "        vertical-align: middle;\n",
       "    }\n",
       "\n",
       "    .dataframe tbody tr th {\n",
       "        vertical-align: top;\n",
       "    }\n",
       "\n",
       "    .dataframe thead th {\n",
       "        text-align: right;\n",
       "    }\n",
       "</style>\n",
       "<table border=\"1\" class=\"dataframe\">\n",
       "  <thead>\n",
       "    <tr style=\"text-align: right;\">\n",
       "      <th></th>\n",
       "      <th>max_depth</th>\n",
       "      <th>train_accuracy</th>\n",
       "      <th>validate_accuracy</th>\n",
       "      <th>difference</th>\n",
       "    </tr>\n",
       "  </thead>\n",
       "  <tbody>\n",
       "    <tr>\n",
       "      <th>0</th>\n",
       "      <td>1</td>\n",
       "      <td>0.734734</td>\n",
       "      <td>0.734501</td>\n",
       "      <td>0.000234</td>\n",
       "    </tr>\n",
       "    <tr>\n",
       "      <th>1</th>\n",
       "      <td>2</td>\n",
       "      <td>0.759443</td>\n",
       "      <td>0.768575</td>\n",
       "      <td>-0.009132</td>\n",
       "    </tr>\n",
       "    <tr>\n",
       "      <th>2</th>\n",
       "      <td>3</td>\n",
       "      <td>0.791252</td>\n",
       "      <td>0.794605</td>\n",
       "      <td>-0.003352</td>\n",
       "    </tr>\n",
       "    <tr>\n",
       "      <th>3</th>\n",
       "      <td>4</td>\n",
       "      <td>0.793809</td>\n",
       "      <td>0.794132</td>\n",
       "      <td>-0.000323</td>\n",
       "    </tr>\n",
       "    <tr>\n",
       "      <th>4</th>\n",
       "      <td>5</td>\n",
       "      <td>0.806589</td>\n",
       "      <td>0.803124</td>\n",
       "      <td>0.003466</td>\n",
       "    </tr>\n",
       "    <tr>\n",
       "      <th>5</th>\n",
       "      <td>6</td>\n",
       "      <td>0.817381</td>\n",
       "      <td>0.793658</td>\n",
       "      <td>0.023723</td>\n",
       "    </tr>\n",
       "    <tr>\n",
       "      <th>6</th>\n",
       "      <td>7</td>\n",
       "      <td>0.833854</td>\n",
       "      <td>0.788452</td>\n",
       "      <td>0.045402</td>\n",
       "    </tr>\n",
       "    <tr>\n",
       "      <th>7</th>\n",
       "      <td>8</td>\n",
       "      <td>0.850043</td>\n",
       "      <td>0.766682</td>\n",
       "      <td>0.083360</td>\n",
       "    </tr>\n",
       "    <tr>\n",
       "      <th>8</th>\n",
       "      <td>9</td>\n",
       "      <td>0.869355</td>\n",
       "      <td>0.756744</td>\n",
       "      <td>0.112611</td>\n",
       "    </tr>\n",
       "    <tr>\n",
       "      <th>9</th>\n",
       "      <td>10</td>\n",
       "      <td>0.894348</td>\n",
       "      <td>0.752011</td>\n",
       "      <td>0.142337</td>\n",
       "    </tr>\n",
       "    <tr>\n",
       "      <th>10</th>\n",
       "      <td>11</td>\n",
       "      <td>0.915081</td>\n",
       "      <td>0.747279</td>\n",
       "      <td>0.167802</td>\n",
       "    </tr>\n",
       "    <tr>\n",
       "      <th>11</th>\n",
       "      <td>12</td>\n",
       "      <td>0.936950</td>\n",
       "      <td>0.739707</td>\n",
       "      <td>0.197243</td>\n",
       "    </tr>\n",
       "    <tr>\n",
       "      <th>12</th>\n",
       "      <td>13</td>\n",
       "      <td>0.957114</td>\n",
       "      <td>0.724562</td>\n",
       "      <td>0.232552</td>\n",
       "    </tr>\n",
       "    <tr>\n",
       "      <th>13</th>\n",
       "      <td>14</td>\n",
       "      <td>0.967623</td>\n",
       "      <td>0.731661</td>\n",
       "      <td>0.235962</td>\n",
       "    </tr>\n",
       "    <tr>\n",
       "      <th>14</th>\n",
       "      <td>15</td>\n",
       "      <td>0.975291</td>\n",
       "      <td>0.731661</td>\n",
       "      <td>0.243630</td>\n",
       "    </tr>\n",
       "    <tr>\n",
       "      <th>15</th>\n",
       "      <td>16</td>\n",
       "      <td>0.983811</td>\n",
       "      <td>0.726455</td>\n",
       "      <td>0.257356</td>\n",
       "    </tr>\n",
       "    <tr>\n",
       "      <th>16</th>\n",
       "      <td>17</td>\n",
       "      <td>0.989776</td>\n",
       "      <td>0.720303</td>\n",
       "      <td>0.269473</td>\n",
       "    </tr>\n",
       "    <tr>\n",
       "      <th>17</th>\n",
       "      <td>18</td>\n",
       "      <td>0.992616</td>\n",
       "      <td>0.721723</td>\n",
       "      <td>0.270893</td>\n",
       "    </tr>\n",
       "    <tr>\n",
       "      <th>18</th>\n",
       "      <td>19</td>\n",
       "      <td>0.996592</td>\n",
       "      <td>0.716990</td>\n",
       "      <td>0.279602</td>\n",
       "    </tr>\n",
       "  </tbody>\n",
       "</table>\n",
       "</div>"
      ],
      "text/plain": [
       "    max_depth  train_accuracy  validate_accuracy  difference\n",
       "0           1        0.734734           0.734501    0.000234\n",
       "1           2        0.759443           0.768575   -0.009132\n",
       "2           3        0.791252           0.794605   -0.003352\n",
       "3           4        0.793809           0.794132   -0.000323\n",
       "4           5        0.806589           0.803124    0.003466\n",
       "5           6        0.817381           0.793658    0.023723\n",
       "6           7        0.833854           0.788452    0.045402\n",
       "7           8        0.850043           0.766682    0.083360\n",
       "8           9        0.869355           0.756744    0.112611\n",
       "9          10        0.894348           0.752011    0.142337\n",
       "10         11        0.915081           0.747279    0.167802\n",
       "11         12        0.936950           0.739707    0.197243\n",
       "12         13        0.957114           0.724562    0.232552\n",
       "13         14        0.967623           0.731661    0.235962\n",
       "14         15        0.975291           0.731661    0.243630\n",
       "15         16        0.983811           0.726455    0.257356\n",
       "16         17        0.989776           0.720303    0.269473\n",
       "17         18        0.992616           0.721723    0.270893\n",
       "18         19        0.996592           0.716990    0.279602"
      ]
     },
     "execution_count": 29,
     "metadata": {},
     "output_type": "execute_result"
    }
   ],
   "source": [
    "dectree_gen()"
   ]
  },
  {
   "cell_type": "code",
   "execution_count": 30,
   "id": "c1d53788",
   "metadata": {},
   "outputs": [],
   "source": [
    "def knn_gen():\n",
    "    \n",
    "    metrics = []\n",
    "\n",
    "    for i in range(1, 20):\n",
    "    \n",
    "        '''\n",
    "        This function will create a dataframe of Random Forest models of varying max_depths and compare the differences from the train and validate sets\n",
    "        '''\n",
    "        # Make the model\n",
    "        knn = KNeighborsClassifier(n_neighbors=i, weights='uniform')\n",
    "\n",
    "        # Fit the model (on train and only train)\n",
    "        knn = knn.fit(X_train, y_train)\n",
    "\n",
    "        # Use the model\n",
    "        # We'll evaluate the model's performance on train, first\n",
    "        in_sample_accuracy = knn.score(X_train, y_train)\n",
    "    \n",
    "        out_of_sample_accuracy = knn.score(X_validate, y_validate)\n",
    "\n",
    "        output = {\n",
    "            \"max_depth\": i,\n",
    "            \"train_accuracy\": in_sample_accuracy,\n",
    "            \"validate_accuracy\": out_of_sample_accuracy\n",
    "            }\n",
    "    \n",
    "        metrics.append(output)\n",
    "    \n",
    "    df = pd.DataFrame(metrics)\n",
    "    df[\"difference\"] = df.train_accuracy - df.validate_accuracy\n",
    "    return df"
   ]
  },
  {
   "cell_type": "code",
   "execution_count": 31,
   "id": "5a201c76",
   "metadata": {},
   "outputs": [
    {
     "data": {
      "text/html": [
       "<div>\n",
       "<style scoped>\n",
       "    .dataframe tbody tr th:only-of-type {\n",
       "        vertical-align: middle;\n",
       "    }\n",
       "\n",
       "    .dataframe tbody tr th {\n",
       "        vertical-align: top;\n",
       "    }\n",
       "\n",
       "    .dataframe thead th {\n",
       "        text-align: right;\n",
       "    }\n",
       "</style>\n",
       "<table border=\"1\" class=\"dataframe\">\n",
       "  <thead>\n",
       "    <tr style=\"text-align: right;\">\n",
       "      <th></th>\n",
       "      <th>max_depth</th>\n",
       "      <th>train_accuracy</th>\n",
       "      <th>validate_accuracy</th>\n",
       "      <th>difference</th>\n",
       "    </tr>\n",
       "  </thead>\n",
       "  <tbody>\n",
       "    <tr>\n",
       "      <th>0</th>\n",
       "      <td>1</td>\n",
       "      <td>0.998580</td>\n",
       "      <td>0.731661</td>\n",
       "      <td>0.266919</td>\n",
       "    </tr>\n",
       "    <tr>\n",
       "      <th>1</th>\n",
       "      <td>2</td>\n",
       "      <td>0.850895</td>\n",
       "      <td>0.763370</td>\n",
       "      <td>0.087525</td>\n",
       "    </tr>\n",
       "    <tr>\n",
       "      <th>2</th>\n",
       "      <td>3</td>\n",
       "      <td>0.855723</td>\n",
       "      <td>0.750592</td>\n",
       "      <td>0.105131</td>\n",
       "    </tr>\n",
       "    <tr>\n",
       "      <th>3</th>\n",
       "      <td>4</td>\n",
       "      <td>0.824198</td>\n",
       "      <td>0.771415</td>\n",
       "      <td>0.052783</td>\n",
       "    </tr>\n",
       "    <tr>\n",
       "      <th>4</th>\n",
       "      <td>5</td>\n",
       "      <td>0.823346</td>\n",
       "      <td>0.764789</td>\n",
       "      <td>0.058556</td>\n",
       "    </tr>\n",
       "    <tr>\n",
       "      <th>5</th>\n",
       "      <td>6</td>\n",
       "      <td>0.814257</td>\n",
       "      <td>0.773781</td>\n",
       "      <td>0.040476</td>\n",
       "    </tr>\n",
       "    <tr>\n",
       "      <th>6</th>\n",
       "      <td>7</td>\n",
       "      <td>0.815393</td>\n",
       "      <td>0.774255</td>\n",
       "      <td>0.041139</td>\n",
       "    </tr>\n",
       "    <tr>\n",
       "      <th>7</th>\n",
       "      <td>8</td>\n",
       "      <td>0.806305</td>\n",
       "      <td>0.779460</td>\n",
       "      <td>0.026845</td>\n",
       "    </tr>\n",
       "    <tr>\n",
       "      <th>8</th>\n",
       "      <td>9</td>\n",
       "      <td>0.805169</td>\n",
       "      <td>0.782300</td>\n",
       "      <td>0.022869</td>\n",
       "    </tr>\n",
       "    <tr>\n",
       "      <th>9</th>\n",
       "      <td>10</td>\n",
       "      <td>0.798921</td>\n",
       "      <td>0.786086</td>\n",
       "      <td>0.012835</td>\n",
       "    </tr>\n",
       "    <tr>\n",
       "      <th>10</th>\n",
       "      <td>11</td>\n",
       "      <td>0.802329</td>\n",
       "      <td>0.782300</td>\n",
       "      <td>0.020029</td>\n",
       "    </tr>\n",
       "    <tr>\n",
       "      <th>11</th>\n",
       "      <td>12</td>\n",
       "      <td>0.798921</td>\n",
       "      <td>0.786559</td>\n",
       "      <td>0.012361</td>\n",
       "    </tr>\n",
       "    <tr>\n",
       "      <th>12</th>\n",
       "      <td>13</td>\n",
       "      <td>0.796365</td>\n",
       "      <td>0.787506</td>\n",
       "      <td>0.008859</td>\n",
       "    </tr>\n",
       "    <tr>\n",
       "      <th>13</th>\n",
       "      <td>14</td>\n",
       "      <td>0.798637</td>\n",
       "      <td>0.789872</td>\n",
       "      <td>0.008765</td>\n",
       "    </tr>\n",
       "    <tr>\n",
       "      <th>14</th>\n",
       "      <td>15</td>\n",
       "      <td>0.794377</td>\n",
       "      <td>0.787033</td>\n",
       "      <td>0.007344</td>\n",
       "    </tr>\n",
       "    <tr>\n",
       "      <th>15</th>\n",
       "      <td>16</td>\n",
       "      <td>0.795513</td>\n",
       "      <td>0.789399</td>\n",
       "      <td>0.006114</td>\n",
       "    </tr>\n",
       "    <tr>\n",
       "      <th>16</th>\n",
       "      <td>17</td>\n",
       "      <td>0.790684</td>\n",
       "      <td>0.790345</td>\n",
       "      <td>0.000339</td>\n",
       "    </tr>\n",
       "    <tr>\n",
       "      <th>17</th>\n",
       "      <td>18</td>\n",
       "      <td>0.789832</td>\n",
       "      <td>0.789399</td>\n",
       "      <td>0.000433</td>\n",
       "    </tr>\n",
       "    <tr>\n",
       "      <th>18</th>\n",
       "      <td>19</td>\n",
       "      <td>0.792673</td>\n",
       "      <td>0.789872</td>\n",
       "      <td>0.002800</td>\n",
       "    </tr>\n",
       "  </tbody>\n",
       "</table>\n",
       "</div>"
      ],
      "text/plain": [
       "    max_depth  train_accuracy  validate_accuracy  difference\n",
       "0           1        0.998580           0.731661    0.266919\n",
       "1           2        0.850895           0.763370    0.087525\n",
       "2           3        0.855723           0.750592    0.105131\n",
       "3           4        0.824198           0.771415    0.052783\n",
       "4           5        0.823346           0.764789    0.058556\n",
       "5           6        0.814257           0.773781    0.040476\n",
       "6           7        0.815393           0.774255    0.041139\n",
       "7           8        0.806305           0.779460    0.026845\n",
       "8           9        0.805169           0.782300    0.022869\n",
       "9          10        0.798921           0.786086    0.012835\n",
       "10         11        0.802329           0.782300    0.020029\n",
       "11         12        0.798921           0.786559    0.012361\n",
       "12         13        0.796365           0.787506    0.008859\n",
       "13         14        0.798637           0.789872    0.008765\n",
       "14         15        0.794377           0.787033    0.007344\n",
       "15         16        0.795513           0.789399    0.006114\n",
       "16         17        0.790684           0.790345    0.000339\n",
       "17         18        0.789832           0.789399    0.000433\n",
       "18         19        0.792673           0.789872    0.002800"
      ]
     },
     "execution_count": 31,
     "metadata": {},
     "output_type": "execute_result"
    }
   ],
   "source": [
    "knn_gen()"
   ]
  },
  {
   "cell_type": "code",
   "execution_count": 9,
   "id": "da4cc4f1",
   "metadata": {},
   "outputs": [
    {
     "data": {
      "text/html": [
       "<div>\n",
       "<style scoped>\n",
       "    .dataframe tbody tr th:only-of-type {\n",
       "        vertical-align: middle;\n",
       "    }\n",
       "\n",
       "    .dataframe tbody tr th {\n",
       "        vertical-align: top;\n",
       "    }\n",
       "\n",
       "    .dataframe thead th {\n",
       "        text-align: right;\n",
       "    }\n",
       "</style>\n",
       "<table border=\"1\" class=\"dataframe\">\n",
       "  <thead>\n",
       "    <tr style=\"text-align: right;\">\n",
       "      <th></th>\n",
       "      <th>max_depth</th>\n",
       "      <th>train_accuracy</th>\n",
       "      <th>validate_accuracy</th>\n",
       "      <th>difference</th>\n",
       "    </tr>\n",
       "  </thead>\n",
       "  <tbody>\n",
       "    <tr>\n",
       "      <th>0</th>\n",
       "      <td>1</td>\n",
       "      <td>0.998580</td>\n",
       "      <td>0.731661</td>\n",
       "      <td>0.266919</td>\n",
       "    </tr>\n",
       "    <tr>\n",
       "      <th>1</th>\n",
       "      <td>2</td>\n",
       "      <td>0.850895</td>\n",
       "      <td>0.763370</td>\n",
       "      <td>0.087525</td>\n",
       "    </tr>\n",
       "    <tr>\n",
       "      <th>2</th>\n",
       "      <td>3</td>\n",
       "      <td>0.855723</td>\n",
       "      <td>0.750592</td>\n",
       "      <td>0.105131</td>\n",
       "    </tr>\n",
       "    <tr>\n",
       "      <th>3</th>\n",
       "      <td>4</td>\n",
       "      <td>0.824198</td>\n",
       "      <td>0.771415</td>\n",
       "      <td>0.052783</td>\n",
       "    </tr>\n",
       "    <tr>\n",
       "      <th>4</th>\n",
       "      <td>5</td>\n",
       "      <td>0.823346</td>\n",
       "      <td>0.764789</td>\n",
       "      <td>0.058556</td>\n",
       "    </tr>\n",
       "    <tr>\n",
       "      <th>5</th>\n",
       "      <td>6</td>\n",
       "      <td>0.814257</td>\n",
       "      <td>0.773781</td>\n",
       "      <td>0.040476</td>\n",
       "    </tr>\n",
       "    <tr>\n",
       "      <th>6</th>\n",
       "      <td>7</td>\n",
       "      <td>0.815393</td>\n",
       "      <td>0.774255</td>\n",
       "      <td>0.041139</td>\n",
       "    </tr>\n",
       "    <tr>\n",
       "      <th>7</th>\n",
       "      <td>8</td>\n",
       "      <td>0.806305</td>\n",
       "      <td>0.779460</td>\n",
       "      <td>0.026845</td>\n",
       "    </tr>\n",
       "    <tr>\n",
       "      <th>8</th>\n",
       "      <td>9</td>\n",
       "      <td>0.805169</td>\n",
       "      <td>0.782300</td>\n",
       "      <td>0.022869</td>\n",
       "    </tr>\n",
       "    <tr>\n",
       "      <th>9</th>\n",
       "      <td>10</td>\n",
       "      <td>0.798921</td>\n",
       "      <td>0.786086</td>\n",
       "      <td>0.012835</td>\n",
       "    </tr>\n",
       "    <tr>\n",
       "      <th>10</th>\n",
       "      <td>11</td>\n",
       "      <td>0.802329</td>\n",
       "      <td>0.782300</td>\n",
       "      <td>0.020029</td>\n",
       "    </tr>\n",
       "    <tr>\n",
       "      <th>11</th>\n",
       "      <td>12</td>\n",
       "      <td>0.798921</td>\n",
       "      <td>0.786559</td>\n",
       "      <td>0.012361</td>\n",
       "    </tr>\n",
       "    <tr>\n",
       "      <th>12</th>\n",
       "      <td>13</td>\n",
       "      <td>0.796365</td>\n",
       "      <td>0.787506</td>\n",
       "      <td>0.008859</td>\n",
       "    </tr>\n",
       "    <tr>\n",
       "      <th>13</th>\n",
       "      <td>14</td>\n",
       "      <td>0.798637</td>\n",
       "      <td>0.789872</td>\n",
       "      <td>0.008765</td>\n",
       "    </tr>\n",
       "    <tr>\n",
       "      <th>14</th>\n",
       "      <td>15</td>\n",
       "      <td>0.794377</td>\n",
       "      <td>0.787033</td>\n",
       "      <td>0.007344</td>\n",
       "    </tr>\n",
       "    <tr>\n",
       "      <th>15</th>\n",
       "      <td>16</td>\n",
       "      <td>0.795513</td>\n",
       "      <td>0.789399</td>\n",
       "      <td>0.006114</td>\n",
       "    </tr>\n",
       "    <tr>\n",
       "      <th>16</th>\n",
       "      <td>17</td>\n",
       "      <td>0.790684</td>\n",
       "      <td>0.790345</td>\n",
       "      <td>0.000339</td>\n",
       "    </tr>\n",
       "    <tr>\n",
       "      <th>17</th>\n",
       "      <td>18</td>\n",
       "      <td>0.789832</td>\n",
       "      <td>0.789399</td>\n",
       "      <td>0.000433</td>\n",
       "    </tr>\n",
       "    <tr>\n",
       "      <th>18</th>\n",
       "      <td>19</td>\n",
       "      <td>0.792673</td>\n",
       "      <td>0.789872</td>\n",
       "      <td>0.002800</td>\n",
       "    </tr>\n",
       "    <tr>\n",
       "      <th>19</th>\n",
       "      <td>20</td>\n",
       "      <td>0.790968</td>\n",
       "      <td>0.792712</td>\n",
       "      <td>-0.001743</td>\n",
       "    </tr>\n",
       "  </tbody>\n",
       "</table>\n",
       "</div>"
      ],
      "text/plain": [
       "    max_depth  train_accuracy  validate_accuracy  difference\n",
       "0           1        0.998580           0.731661    0.266919\n",
       "1           2        0.850895           0.763370    0.087525\n",
       "2           3        0.855723           0.750592    0.105131\n",
       "3           4        0.824198           0.771415    0.052783\n",
       "4           5        0.823346           0.764789    0.058556\n",
       "5           6        0.814257           0.773781    0.040476\n",
       "6           7        0.815393           0.774255    0.041139\n",
       "7           8        0.806305           0.779460    0.026845\n",
       "8           9        0.805169           0.782300    0.022869\n",
       "9          10        0.798921           0.786086    0.012835\n",
       "10         11        0.802329           0.782300    0.020029\n",
       "11         12        0.798921           0.786559    0.012361\n",
       "12         13        0.796365           0.787506    0.008859\n",
       "13         14        0.798637           0.789872    0.008765\n",
       "14         15        0.794377           0.787033    0.007344\n",
       "15         16        0.795513           0.789399    0.006114\n",
       "16         17        0.790684           0.790345    0.000339\n",
       "17         18        0.789832           0.789399    0.000433\n",
       "18         19        0.792673           0.789872    0.002800\n",
       "19         20        0.790968           0.792712   -0.001743"
      ]
     },
     "execution_count": 9,
     "metadata": {},
     "output_type": "execute_result"
    }
   ],
   "source": [
    "modeling.knn_gen(data, 'churn_Yes')"
   ]
  },
  {
   "cell_type": "code",
   "execution_count": 8,
   "id": "03236d3b",
   "metadata": {},
   "outputs": [
    {
     "data": {
      "text/html": [
       "<div>\n",
       "<style scoped>\n",
       "    .dataframe tbody tr th:only-of-type {\n",
       "        vertical-align: middle;\n",
       "    }\n",
       "\n",
       "    .dataframe tbody tr th {\n",
       "        vertical-align: top;\n",
       "    }\n",
       "\n",
       "    .dataframe thead th {\n",
       "        text-align: right;\n",
       "    }\n",
       "</style>\n",
       "<table border=\"1\" class=\"dataframe\">\n",
       "  <thead>\n",
       "    <tr style=\"text-align: right;\">\n",
       "      <th></th>\n",
       "      <th>max_depth</th>\n",
       "      <th>train_accuracy</th>\n",
       "      <th>validate_accuracy</th>\n",
       "      <th>difference</th>\n",
       "    </tr>\n",
       "  </thead>\n",
       "  <tbody>\n",
       "    <tr>\n",
       "      <th>0</th>\n",
       "      <td>1</td>\n",
       "      <td>0.734734</td>\n",
       "      <td>0.734501</td>\n",
       "      <td>0.000234</td>\n",
       "    </tr>\n",
       "    <tr>\n",
       "      <th>1</th>\n",
       "      <td>2</td>\n",
       "      <td>0.759443</td>\n",
       "      <td>0.768575</td>\n",
       "      <td>-0.009132</td>\n",
       "    </tr>\n",
       "    <tr>\n",
       "      <th>2</th>\n",
       "      <td>3</td>\n",
       "      <td>0.791252</td>\n",
       "      <td>0.794605</td>\n",
       "      <td>-0.003352</td>\n",
       "    </tr>\n",
       "    <tr>\n",
       "      <th>3</th>\n",
       "      <td>4</td>\n",
       "      <td>0.793809</td>\n",
       "      <td>0.794132</td>\n",
       "      <td>-0.000323</td>\n",
       "    </tr>\n",
       "    <tr>\n",
       "      <th>4</th>\n",
       "      <td>5</td>\n",
       "      <td>0.806589</td>\n",
       "      <td>0.803124</td>\n",
       "      <td>0.003466</td>\n",
       "    </tr>\n",
       "    <tr>\n",
       "      <th>5</th>\n",
       "      <td>6</td>\n",
       "      <td>0.817381</td>\n",
       "      <td>0.793658</td>\n",
       "      <td>0.023723</td>\n",
       "    </tr>\n",
       "    <tr>\n",
       "      <th>6</th>\n",
       "      <td>7</td>\n",
       "      <td>0.833854</td>\n",
       "      <td>0.788452</td>\n",
       "      <td>0.045402</td>\n",
       "    </tr>\n",
       "    <tr>\n",
       "      <th>7</th>\n",
       "      <td>8</td>\n",
       "      <td>0.850043</td>\n",
       "      <td>0.766682</td>\n",
       "      <td>0.083360</td>\n",
       "    </tr>\n",
       "    <tr>\n",
       "      <th>8</th>\n",
       "      <td>9</td>\n",
       "      <td>0.869355</td>\n",
       "      <td>0.756744</td>\n",
       "      <td>0.112611</td>\n",
       "    </tr>\n",
       "    <tr>\n",
       "      <th>9</th>\n",
       "      <td>10</td>\n",
       "      <td>0.894348</td>\n",
       "      <td>0.752011</td>\n",
       "      <td>0.142337</td>\n",
       "    </tr>\n",
       "    <tr>\n",
       "      <th>10</th>\n",
       "      <td>11</td>\n",
       "      <td>0.915081</td>\n",
       "      <td>0.747279</td>\n",
       "      <td>0.167802</td>\n",
       "    </tr>\n",
       "    <tr>\n",
       "      <th>11</th>\n",
       "      <td>12</td>\n",
       "      <td>0.936950</td>\n",
       "      <td>0.739707</td>\n",
       "      <td>0.197243</td>\n",
       "    </tr>\n",
       "    <tr>\n",
       "      <th>12</th>\n",
       "      <td>13</td>\n",
       "      <td>0.957114</td>\n",
       "      <td>0.724562</td>\n",
       "      <td>0.232552</td>\n",
       "    </tr>\n",
       "    <tr>\n",
       "      <th>13</th>\n",
       "      <td>14</td>\n",
       "      <td>0.967623</td>\n",
       "      <td>0.731661</td>\n",
       "      <td>0.235962</td>\n",
       "    </tr>\n",
       "    <tr>\n",
       "      <th>14</th>\n",
       "      <td>15</td>\n",
       "      <td>0.975291</td>\n",
       "      <td>0.731661</td>\n",
       "      <td>0.243630</td>\n",
       "    </tr>\n",
       "    <tr>\n",
       "      <th>15</th>\n",
       "      <td>16</td>\n",
       "      <td>0.983811</td>\n",
       "      <td>0.726455</td>\n",
       "      <td>0.257356</td>\n",
       "    </tr>\n",
       "    <tr>\n",
       "      <th>16</th>\n",
       "      <td>17</td>\n",
       "      <td>0.989776</td>\n",
       "      <td>0.720303</td>\n",
       "      <td>0.269473</td>\n",
       "    </tr>\n",
       "    <tr>\n",
       "      <th>17</th>\n",
       "      <td>18</td>\n",
       "      <td>0.992616</td>\n",
       "      <td>0.721723</td>\n",
       "      <td>0.270893</td>\n",
       "    </tr>\n",
       "    <tr>\n",
       "      <th>18</th>\n",
       "      <td>19</td>\n",
       "      <td>0.996592</td>\n",
       "      <td>0.716990</td>\n",
       "      <td>0.279602</td>\n",
       "    </tr>\n",
       "  </tbody>\n",
       "</table>\n",
       "</div>"
      ],
      "text/plain": [
       "    max_depth  train_accuracy  validate_accuracy  difference\n",
       "0           1        0.734734           0.734501    0.000234\n",
       "1           2        0.759443           0.768575   -0.009132\n",
       "2           3        0.791252           0.794605   -0.003352\n",
       "3           4        0.793809           0.794132   -0.000323\n",
       "4           5        0.806589           0.803124    0.003466\n",
       "5           6        0.817381           0.793658    0.023723\n",
       "6           7        0.833854           0.788452    0.045402\n",
       "7           8        0.850043           0.766682    0.083360\n",
       "8           9        0.869355           0.756744    0.112611\n",
       "9          10        0.894348           0.752011    0.142337\n",
       "10         11        0.915081           0.747279    0.167802\n",
       "11         12        0.936950           0.739707    0.197243\n",
       "12         13        0.957114           0.724562    0.232552\n",
       "13         14        0.967623           0.731661    0.235962\n",
       "14         15        0.975291           0.731661    0.243630\n",
       "15         16        0.983811           0.726455    0.257356\n",
       "16         17        0.989776           0.720303    0.269473\n",
       "17         18        0.992616           0.721723    0.270893\n",
       "18         19        0.996592           0.716990    0.279602"
      ]
     },
     "execution_count": 8,
     "metadata": {},
     "output_type": "execute_result"
    }
   ],
   "source": [
    "modeling.dectree_gen(data, 'churn_Yes')"
   ]
  },
  {
   "cell_type": "code",
   "execution_count": 9,
   "id": "c1d1c011",
   "metadata": {},
   "outputs": [
    {
     "data": {
      "text/html": [
       "<div>\n",
       "<style scoped>\n",
       "    .dataframe tbody tr th:only-of-type {\n",
       "        vertical-align: middle;\n",
       "    }\n",
       "\n",
       "    .dataframe tbody tr th {\n",
       "        vertical-align: top;\n",
       "    }\n",
       "\n",
       "    .dataframe thead th {\n",
       "        text-align: right;\n",
       "    }\n",
       "</style>\n",
       "<table border=\"1\" class=\"dataframe\">\n",
       "  <thead>\n",
       "    <tr style=\"text-align: right;\">\n",
       "      <th></th>\n",
       "      <th>max_depth</th>\n",
       "      <th>train_accuracy</th>\n",
       "      <th>validate_accuracy</th>\n",
       "      <th>difference</th>\n",
       "    </tr>\n",
       "  </thead>\n",
       "  <tbody>\n",
       "    <tr>\n",
       "      <th>0</th>\n",
       "      <td>1</td>\n",
       "      <td>0.734734</td>\n",
       "      <td>0.734501</td>\n",
       "      <td>0.000234</td>\n",
       "    </tr>\n",
       "    <tr>\n",
       "      <th>1</th>\n",
       "      <td>2</td>\n",
       "      <td>0.752059</td>\n",
       "      <td>0.755324</td>\n",
       "      <td>-0.003265</td>\n",
       "    </tr>\n",
       "    <tr>\n",
       "      <th>2</th>\n",
       "      <td>3</td>\n",
       "      <td>0.785004</td>\n",
       "      <td>0.797444</td>\n",
       "      <td>-0.012440</td>\n",
       "    </tr>\n",
       "    <tr>\n",
       "      <th>3</th>\n",
       "      <td>4</td>\n",
       "      <td>0.796649</td>\n",
       "      <td>0.802177</td>\n",
       "      <td>-0.005528</td>\n",
       "    </tr>\n",
       "    <tr>\n",
       "      <th>4</th>\n",
       "      <td>5</td>\n",
       "      <td>0.806021</td>\n",
       "      <td>0.810222</td>\n",
       "      <td>-0.004201</td>\n",
       "    </tr>\n",
       "    <tr>\n",
       "      <th>5</th>\n",
       "      <td>6</td>\n",
       "      <td>0.816245</td>\n",
       "      <td>0.808329</td>\n",
       "      <td>0.007916</td>\n",
       "    </tr>\n",
       "    <tr>\n",
       "      <th>6</th>\n",
       "      <td>7</td>\n",
       "      <td>0.826470</td>\n",
       "      <td>0.811169</td>\n",
       "      <td>0.015301</td>\n",
       "    </tr>\n",
       "    <tr>\n",
       "      <th>7</th>\n",
       "      <td>8</td>\n",
       "      <td>0.839534</td>\n",
       "      <td>0.817795</td>\n",
       "      <td>0.021740</td>\n",
       "    </tr>\n",
       "    <tr>\n",
       "      <th>8</th>\n",
       "      <td>9</td>\n",
       "      <td>0.850895</td>\n",
       "      <td>0.813535</td>\n",
       "      <td>0.037359</td>\n",
       "    </tr>\n",
       "    <tr>\n",
       "      <th>9</th>\n",
       "      <td>10</td>\n",
       "      <td>0.867935</td>\n",
       "      <td>0.809749</td>\n",
       "      <td>0.058186</td>\n",
       "    </tr>\n",
       "    <tr>\n",
       "      <th>10</th>\n",
       "      <td>11</td>\n",
       "      <td>0.878728</td>\n",
       "      <td>0.810222</td>\n",
       "      <td>0.068505</td>\n",
       "    </tr>\n",
       "    <tr>\n",
       "      <th>11</th>\n",
       "      <td>12</td>\n",
       "      <td>0.888384</td>\n",
       "      <td>0.803124</td>\n",
       "      <td>0.085260</td>\n",
       "    </tr>\n",
       "    <tr>\n",
       "      <th>12</th>\n",
       "      <td>13</td>\n",
       "      <td>0.894064</td>\n",
       "      <td>0.808803</td>\n",
       "      <td>0.085262</td>\n",
       "    </tr>\n",
       "    <tr>\n",
       "      <th>13</th>\n",
       "      <td>14</td>\n",
       "      <td>0.898040</td>\n",
       "      <td>0.807383</td>\n",
       "      <td>0.090657</td>\n",
       "    </tr>\n",
       "    <tr>\n",
       "      <th>14</th>\n",
       "      <td>15</td>\n",
       "      <td>0.900880</td>\n",
       "      <td>0.809276</td>\n",
       "      <td>0.091605</td>\n",
       "    </tr>\n",
       "    <tr>\n",
       "      <th>15</th>\n",
       "      <td>16</td>\n",
       "      <td>0.899460</td>\n",
       "      <td>0.805963</td>\n",
       "      <td>0.093497</td>\n",
       "    </tr>\n",
       "    <tr>\n",
       "      <th>16</th>\n",
       "      <td>17</td>\n",
       "      <td>0.900880</td>\n",
       "      <td>0.807856</td>\n",
       "      <td>0.093024</td>\n",
       "    </tr>\n",
       "    <tr>\n",
       "      <th>17</th>\n",
       "      <td>18</td>\n",
       "      <td>0.901448</td>\n",
       "      <td>0.805017</td>\n",
       "      <td>0.096432</td>\n",
       "    </tr>\n",
       "    <tr>\n",
       "      <th>18</th>\n",
       "      <td>19</td>\n",
       "      <td>0.899744</td>\n",
       "      <td>0.805490</td>\n",
       "      <td>0.094255</td>\n",
       "    </tr>\n",
       "  </tbody>\n",
       "</table>\n",
       "</div>"
      ],
      "text/plain": [
       "    max_depth  train_accuracy  validate_accuracy  difference\n",
       "0           1        0.734734           0.734501    0.000234\n",
       "1           2        0.752059           0.755324   -0.003265\n",
       "2           3        0.785004           0.797444   -0.012440\n",
       "3           4        0.796649           0.802177   -0.005528\n",
       "4           5        0.806021           0.810222   -0.004201\n",
       "5           6        0.816245           0.808329    0.007916\n",
       "6           7        0.826470           0.811169    0.015301\n",
       "7           8        0.839534           0.817795    0.021740\n",
       "8           9        0.850895           0.813535    0.037359\n",
       "9          10        0.867935           0.809749    0.058186\n",
       "10         11        0.878728           0.810222    0.068505\n",
       "11         12        0.888384           0.803124    0.085260\n",
       "12         13        0.894064           0.808803    0.085262\n",
       "13         14        0.898040           0.807383    0.090657\n",
       "14         15        0.900880           0.809276    0.091605\n",
       "15         16        0.899460           0.805963    0.093497\n",
       "16         17        0.900880           0.807856    0.093024\n",
       "17         18        0.901448           0.805017    0.096432\n",
       "18         19        0.899744           0.805490    0.094255"
      ]
     },
     "execution_count": 9,
     "metadata": {},
     "output_type": "execute_result"
    }
   ],
   "source": [
    "modeling.rf_gen(data, 'churn_Yes')"
   ]
  },
  {
   "cell_type": "code",
   "execution_count": null,
   "id": "4cc0b358",
   "metadata": {},
   "outputs": [],
   "source": []
  }
 ],
 "metadata": {
  "kernelspec": {
   "display_name": "Python 3 (ipykernel)",
   "language": "python",
   "name": "python3"
  },
  "language_info": {
   "codemirror_mode": {
    "name": "ipython",
    "version": 3
   },
   "file_extension": ".py",
   "mimetype": "text/x-python",
   "name": "python",
   "nbconvert_exporter": "python",
   "pygments_lexer": "ipython3",
   "version": "3.9.15"
  },
  "toc": {
   "base_numbering": 1,
   "nav_menu": {},
   "number_sections": true,
   "sideBar": true,
   "skip_h1_title": false,
   "title_cell": "Table of Contents",
   "title_sidebar": "Contents",
   "toc_cell": false,
   "toc_position": {
    "height": "calc(100% - 180px)",
    "left": "10px",
    "top": "150px",
    "width": "165px"
   },
   "toc_section_display": true,
   "toc_window_display": true
  }
 },
 "nbformat": 4,
 "nbformat_minor": 5
}
