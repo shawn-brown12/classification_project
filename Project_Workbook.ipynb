{
 "cells": [
  {
   "cell_type": "markdown",
   "id": "63c84c17",
   "metadata": {},
   "source": [
    "# Imports"
   ]
  },
  {
   "cell_type": "code",
   "execution_count": 1,
   "id": "7eedca91",
   "metadata": {},
   "outputs": [],
   "source": [
    "import pandas as pd\n",
    "import numpy as np\n",
    "import seaborn as sns\n",
    "import matplotlib.pyplot as plt\n",
    "from scipy import stats\n",
    "\n",
    "import acquire\n",
    "import prepare\n",
    "\n",
    "from sklearn.model_selection import train_test_split\n",
    "from sklearn.tree import DecisionTreeClassifier, plot_tree\n",
    "from sklearn.metrics import classification_report, confusion_matrix, plot_confusion_matrix\n",
    "from sklearn.ensemble import RandomForestClassifier\n",
    "from sklearn.neighbors import KNeighborsClassifier\n",
    "from sklearn.linear_model import LogisticRegression\n",
    "\n",
    "import warnings\n",
    "warnings.filterwarnings('ignore')\n",
    "\n",
    "%matplotlib inline\n",
    "pd.options.display.max_columns = None"
   ]
  },
  {
   "cell_type": "code",
   "execution_count": 2,
   "id": "fe0bcc1f",
   "metadata": {},
   "outputs": [],
   "source": [
    "#setting a seed\n",
    "\n",
    "seed = 42"
   ]
  },
  {
   "cell_type": "code",
   "execution_count": 168,
   "id": "9770e0f7",
   "metadata": {},
   "outputs": [
    {
     "data": {
      "text/plain": [
       "(7043, 25)"
      ]
     },
     "execution_count": 168,
     "metadata": {},
     "output_type": "execute_result"
    }
   ],
   "source": [
    "data.shape"
   ]
  },
  {
   "cell_type": "markdown",
   "id": "a458afcd",
   "metadata": {},
   "source": [
    "# Acquire and Preparing data"
   ]
  },
  {
   "cell_type": "code",
   "execution_count": 167,
   "id": "7bd0788c",
   "metadata": {},
   "outputs": [],
   "source": [
    "data = acquire.get_telco_data()"
   ]
  },
  {
   "cell_type": "code",
   "execution_count": 165,
   "id": "4a91ad8e",
   "metadata": {},
   "outputs": [],
   "source": [
    "data = prepare.prep_telco(data)"
   ]
  },
  {
   "cell_type": "code",
   "execution_count": 5,
   "id": "931200dd",
   "metadata": {
    "scrolled": true
   },
   "outputs": [
    {
     "data": {
      "text/html": [
       "<div>\n",
       "<style scoped>\n",
       "    .dataframe tbody tr th:only-of-type {\n",
       "        vertical-align: middle;\n",
       "    }\n",
       "\n",
       "    .dataframe tbody tr th {\n",
       "        vertical-align: top;\n",
       "    }\n",
       "\n",
       "    .dataframe thead th {\n",
       "        text-align: right;\n",
       "    }\n",
       "</style>\n",
       "<table border=\"1\" class=\"dataframe\">\n",
       "  <thead>\n",
       "    <tr style=\"text-align: right;\">\n",
       "      <th></th>\n",
       "      <th>customer_id</th>\n",
       "      <th>senior_citizen</th>\n",
       "      <th>tenure</th>\n",
       "      <th>monthly_charges</th>\n",
       "      <th>total_charges</th>\n",
       "      <th>contract_type</th>\n",
       "      <th>internet_service_type</th>\n",
       "      <th>churn_Yes</th>\n",
       "      <th>gender_Male</th>\n",
       "      <th>partner_Yes</th>\n",
       "      <th>dependents_Yes</th>\n",
       "      <th>phone_service_Yes</th>\n",
       "      <th>multiple_lines_Yes</th>\n",
       "      <th>online_security_Yes</th>\n",
       "      <th>online_backup_Yes</th>\n",
       "      <th>device_protection_Yes</th>\n",
       "      <th>tech_support_Yes</th>\n",
       "      <th>streaming_tv_Yes</th>\n",
       "      <th>streaming_movies_Yes</th>\n",
       "      <th>paperless_billing_Yes</th>\n",
       "      <th>contract_type_Month-to-month</th>\n",
       "      <th>contract_type_One year</th>\n",
       "      <th>contract_type_Two year</th>\n",
       "      <th>internet_service_type_DSL</th>\n",
       "      <th>internet_service_type_Fiber optic</th>\n",
       "      <th>internet_service_type_None</th>\n",
       "      <th>payment_type_Bank transfer (automatic)</th>\n",
       "      <th>payment_type_Credit card (automatic)</th>\n",
       "      <th>payment_type_Electronic check</th>\n",
       "      <th>payment_type_Mailed check</th>\n",
       "    </tr>\n",
       "  </thead>\n",
       "  <tbody>\n",
       "    <tr>\n",
       "      <th>0</th>\n",
       "      <td>0002-ORFBO</td>\n",
       "      <td>0</td>\n",
       "      <td>9</td>\n",
       "      <td>65.6</td>\n",
       "      <td>593.30</td>\n",
       "      <td>One year</td>\n",
       "      <td>DSL</td>\n",
       "      <td>0</td>\n",
       "      <td>0</td>\n",
       "      <td>1</td>\n",
       "      <td>1</td>\n",
       "      <td>1</td>\n",
       "      <td>0</td>\n",
       "      <td>0</td>\n",
       "      <td>1</td>\n",
       "      <td>0</td>\n",
       "      <td>1</td>\n",
       "      <td>1</td>\n",
       "      <td>0</td>\n",
       "      <td>1</td>\n",
       "      <td>0</td>\n",
       "      <td>1</td>\n",
       "      <td>0</td>\n",
       "      <td>1</td>\n",
       "      <td>0</td>\n",
       "      <td>0</td>\n",
       "      <td>0</td>\n",
       "      <td>0</td>\n",
       "      <td>0</td>\n",
       "      <td>1</td>\n",
       "    </tr>\n",
       "    <tr>\n",
       "      <th>1</th>\n",
       "      <td>0003-MKNFE</td>\n",
       "      <td>0</td>\n",
       "      <td>9</td>\n",
       "      <td>59.9</td>\n",
       "      <td>542.40</td>\n",
       "      <td>Month-to-month</td>\n",
       "      <td>DSL</td>\n",
       "      <td>0</td>\n",
       "      <td>1</td>\n",
       "      <td>0</td>\n",
       "      <td>0</td>\n",
       "      <td>1</td>\n",
       "      <td>1</td>\n",
       "      <td>0</td>\n",
       "      <td>0</td>\n",
       "      <td>0</td>\n",
       "      <td>0</td>\n",
       "      <td>0</td>\n",
       "      <td>1</td>\n",
       "      <td>0</td>\n",
       "      <td>1</td>\n",
       "      <td>0</td>\n",
       "      <td>0</td>\n",
       "      <td>1</td>\n",
       "      <td>0</td>\n",
       "      <td>0</td>\n",
       "      <td>0</td>\n",
       "      <td>0</td>\n",
       "      <td>0</td>\n",
       "      <td>1</td>\n",
       "    </tr>\n",
       "    <tr>\n",
       "      <th>2</th>\n",
       "      <td>0004-TLHLJ</td>\n",
       "      <td>0</td>\n",
       "      <td>4</td>\n",
       "      <td>73.9</td>\n",
       "      <td>280.85</td>\n",
       "      <td>Month-to-month</td>\n",
       "      <td>Fiber optic</td>\n",
       "      <td>1</td>\n",
       "      <td>1</td>\n",
       "      <td>0</td>\n",
       "      <td>0</td>\n",
       "      <td>1</td>\n",
       "      <td>0</td>\n",
       "      <td>0</td>\n",
       "      <td>0</td>\n",
       "      <td>1</td>\n",
       "      <td>0</td>\n",
       "      <td>0</td>\n",
       "      <td>0</td>\n",
       "      <td>1</td>\n",
       "      <td>1</td>\n",
       "      <td>0</td>\n",
       "      <td>0</td>\n",
       "      <td>0</td>\n",
       "      <td>1</td>\n",
       "      <td>0</td>\n",
       "      <td>0</td>\n",
       "      <td>0</td>\n",
       "      <td>1</td>\n",
       "      <td>0</td>\n",
       "    </tr>\n",
       "    <tr>\n",
       "      <th>3</th>\n",
       "      <td>0011-IGKFF</td>\n",
       "      <td>1</td>\n",
       "      <td>13</td>\n",
       "      <td>98.0</td>\n",
       "      <td>1237.85</td>\n",
       "      <td>Month-to-month</td>\n",
       "      <td>Fiber optic</td>\n",
       "      <td>1</td>\n",
       "      <td>1</td>\n",
       "      <td>1</td>\n",
       "      <td>0</td>\n",
       "      <td>1</td>\n",
       "      <td>0</td>\n",
       "      <td>0</td>\n",
       "      <td>1</td>\n",
       "      <td>1</td>\n",
       "      <td>0</td>\n",
       "      <td>1</td>\n",
       "      <td>1</td>\n",
       "      <td>1</td>\n",
       "      <td>1</td>\n",
       "      <td>0</td>\n",
       "      <td>0</td>\n",
       "      <td>0</td>\n",
       "      <td>1</td>\n",
       "      <td>0</td>\n",
       "      <td>0</td>\n",
       "      <td>0</td>\n",
       "      <td>1</td>\n",
       "      <td>0</td>\n",
       "    </tr>\n",
       "    <tr>\n",
       "      <th>4</th>\n",
       "      <td>0013-EXCHZ</td>\n",
       "      <td>1</td>\n",
       "      <td>3</td>\n",
       "      <td>83.9</td>\n",
       "      <td>267.40</td>\n",
       "      <td>Month-to-month</td>\n",
       "      <td>Fiber optic</td>\n",
       "      <td>1</td>\n",
       "      <td>0</td>\n",
       "      <td>1</td>\n",
       "      <td>0</td>\n",
       "      <td>1</td>\n",
       "      <td>0</td>\n",
       "      <td>0</td>\n",
       "      <td>0</td>\n",
       "      <td>0</td>\n",
       "      <td>1</td>\n",
       "      <td>1</td>\n",
       "      <td>0</td>\n",
       "      <td>1</td>\n",
       "      <td>1</td>\n",
       "      <td>0</td>\n",
       "      <td>0</td>\n",
       "      <td>0</td>\n",
       "      <td>1</td>\n",
       "      <td>0</td>\n",
       "      <td>0</td>\n",
       "      <td>0</td>\n",
       "      <td>0</td>\n",
       "      <td>1</td>\n",
       "    </tr>\n",
       "  </tbody>\n",
       "</table>\n",
       "</div>"
      ],
      "text/plain": [
       "  customer_id  senior_citizen  tenure  monthly_charges  total_charges  \\\n",
       "0  0002-ORFBO               0       9             65.6         593.30   \n",
       "1  0003-MKNFE               0       9             59.9         542.40   \n",
       "2  0004-TLHLJ               0       4             73.9         280.85   \n",
       "3  0011-IGKFF               1      13             98.0        1237.85   \n",
       "4  0013-EXCHZ               1       3             83.9         267.40   \n",
       "\n",
       "    contract_type internet_service_type  churn_Yes  gender_Male  partner_Yes  \\\n",
       "0        One year                   DSL          0            0            1   \n",
       "1  Month-to-month                   DSL          0            1            0   \n",
       "2  Month-to-month           Fiber optic          1            1            0   \n",
       "3  Month-to-month           Fiber optic          1            1            1   \n",
       "4  Month-to-month           Fiber optic          1            0            1   \n",
       "\n",
       "   dependents_Yes  phone_service_Yes  multiple_lines_Yes  online_security_Yes  \\\n",
       "0               1                  1                   0                    0   \n",
       "1               0                  1                   1                    0   \n",
       "2               0                  1                   0                    0   \n",
       "3               0                  1                   0                    0   \n",
       "4               0                  1                   0                    0   \n",
       "\n",
       "   online_backup_Yes  device_protection_Yes  tech_support_Yes  \\\n",
       "0                  1                      0                 1   \n",
       "1                  0                      0                 0   \n",
       "2                  0                      1                 0   \n",
       "3                  1                      1                 0   \n",
       "4                  0                      0                 1   \n",
       "\n",
       "   streaming_tv_Yes  streaming_movies_Yes  paperless_billing_Yes  \\\n",
       "0                 1                     0                      1   \n",
       "1                 0                     1                      0   \n",
       "2                 0                     0                      1   \n",
       "3                 1                     1                      1   \n",
       "4                 1                     0                      1   \n",
       "\n",
       "   contract_type_Month-to-month  contract_type_One year  \\\n",
       "0                             0                       1   \n",
       "1                             1                       0   \n",
       "2                             1                       0   \n",
       "3                             1                       0   \n",
       "4                             1                       0   \n",
       "\n",
       "   contract_type_Two year  internet_service_type_DSL  \\\n",
       "0                       0                          1   \n",
       "1                       0                          1   \n",
       "2                       0                          0   \n",
       "3                       0                          0   \n",
       "4                       0                          0   \n",
       "\n",
       "   internet_service_type_Fiber optic  internet_service_type_None  \\\n",
       "0                                  0                           0   \n",
       "1                                  0                           0   \n",
       "2                                  1                           0   \n",
       "3                                  1                           0   \n",
       "4                                  1                           0   \n",
       "\n",
       "   payment_type_Bank transfer (automatic)  \\\n",
       "0                                       0   \n",
       "1                                       0   \n",
       "2                                       0   \n",
       "3                                       0   \n",
       "4                                       0   \n",
       "\n",
       "   payment_type_Credit card (automatic)  payment_type_Electronic check  \\\n",
       "0                                     0                              0   \n",
       "1                                     0                              0   \n",
       "2                                     0                              1   \n",
       "3                                     0                              1   \n",
       "4                                     0                              0   \n",
       "\n",
       "   payment_type_Mailed check  \n",
       "0                          1  \n",
       "1                          1  \n",
       "2                          0  \n",
       "3                          0  \n",
       "4                          1  "
      ]
     },
     "execution_count": 5,
     "metadata": {},
     "output_type": "execute_result"
    }
   ],
   "source": [
    "data.head()"
   ]
  },
  {
   "cell_type": "code",
   "execution_count": 21,
   "id": "bc714b63",
   "metadata": {},
   "outputs": [
    {
     "data": {
      "text/plain": [
       "customer_id                                object\n",
       "senior_citizen                              int64\n",
       "tenure                                      int64\n",
       "monthly_charges                           float64\n",
       "total_charges                             float64\n",
       "contract_type                              object\n",
       "internet_service_type                      object\n",
       "churn_Yes                                   uint8\n",
       "gender_Male                                 uint8\n",
       "partner_Yes                                 uint8\n",
       "dependents_Yes                              uint8\n",
       "phone_service_Yes                           uint8\n",
       "multiple_lines_Yes                          uint8\n",
       "online_security_Yes                         uint8\n",
       "online_backup_Yes                           uint8\n",
       "device_protection_Yes                       uint8\n",
       "tech_support_Yes                            uint8\n",
       "streaming_tv_Yes                            uint8\n",
       "streaming_movies_Yes                        uint8\n",
       "paperless_billing_Yes                       uint8\n",
       "contract_type_Month-to-month                uint8\n",
       "contract_type_One year                      uint8\n",
       "contract_type_Two year                      uint8\n",
       "internet_service_type_DSL                   uint8\n",
       "internet_service_type_Fiber optic           uint8\n",
       "internet_service_type_None                  uint8\n",
       "payment_type_Bank transfer (automatic)      uint8\n",
       "payment_type_Credit card (automatic)        uint8\n",
       "payment_type_Electronic check               uint8\n",
       "payment_type_Mailed check                   uint8\n",
       "dtype: object"
      ]
     },
     "execution_count": 21,
     "metadata": {},
     "output_type": "execute_result"
    }
   ],
   "source": [
    "data.dtypes"
   ]
  },
  {
   "cell_type": "code",
   "execution_count": 124,
   "id": "98ab2a26",
   "metadata": {},
   "outputs": [],
   "source": [
    "train, val, test = prepare.split_train_test(data, 'churn_Yes')"
   ]
  },
  {
   "cell_type": "code",
   "execution_count": 125,
   "id": "9d281ea2",
   "metadata": {},
   "outputs": [
    {
     "data": {
      "text/plain": [
       "((3521, 31), (2113, 31), (1409, 31))"
      ]
     },
     "execution_count": 125,
     "metadata": {},
     "output_type": "execute_result"
    }
   ],
   "source": [
    "train.shape, val.shape, test.shape"
   ]
  },
  {
   "cell_type": "code",
   "execution_count": 9,
   "id": "8211a613",
   "metadata": {},
   "outputs": [
    {
     "data": {
      "text/html": [
       "<div>\n",
       "<style scoped>\n",
       "    .dataframe tbody tr th:only-of-type {\n",
       "        vertical-align: middle;\n",
       "    }\n",
       "\n",
       "    .dataframe tbody tr th {\n",
       "        vertical-align: top;\n",
       "    }\n",
       "\n",
       "    .dataframe thead th {\n",
       "        text-align: right;\n",
       "    }\n",
       "</style>\n",
       "<table border=\"1\" class=\"dataframe\">\n",
       "  <thead>\n",
       "    <tr style=\"text-align: right;\">\n",
       "      <th></th>\n",
       "      <th>customer_id</th>\n",
       "      <th>senior_citizen</th>\n",
       "      <th>tenure</th>\n",
       "      <th>monthly_charges</th>\n",
       "      <th>total_charges</th>\n",
       "      <th>contract_type</th>\n",
       "      <th>internet_service_type</th>\n",
       "      <th>churn_Yes</th>\n",
       "      <th>gender_Male</th>\n",
       "      <th>partner_Yes</th>\n",
       "      <th>dependents_Yes</th>\n",
       "      <th>phone_service_Yes</th>\n",
       "      <th>multiple_lines_Yes</th>\n",
       "      <th>online_security_Yes</th>\n",
       "      <th>online_backup_Yes</th>\n",
       "      <th>device_protection_Yes</th>\n",
       "      <th>tech_support_Yes</th>\n",
       "      <th>streaming_tv_Yes</th>\n",
       "      <th>streaming_movies_Yes</th>\n",
       "      <th>paperless_billing_Yes</th>\n",
       "      <th>contract_type_Month-to-month</th>\n",
       "      <th>contract_type_One year</th>\n",
       "      <th>contract_type_Two year</th>\n",
       "      <th>internet_service_type_DSL</th>\n",
       "      <th>internet_service_type_Fiber optic</th>\n",
       "      <th>internet_service_type_None</th>\n",
       "      <th>payment_type_Bank transfer (automatic)</th>\n",
       "      <th>payment_type_Credit card (automatic)</th>\n",
       "      <th>payment_type_Electronic check</th>\n",
       "      <th>payment_type_Mailed check</th>\n",
       "    </tr>\n",
       "  </thead>\n",
       "  <tbody>\n",
       "    <tr>\n",
       "      <th>5707</th>\n",
       "      <td>8041-TMEID</td>\n",
       "      <td>1</td>\n",
       "      <td>63</td>\n",
       "      <td>108.5</td>\n",
       "      <td>6991.9</td>\n",
       "      <td>Two year</td>\n",
       "      <td>Fiber optic</td>\n",
       "      <td>0</td>\n",
       "      <td>1</td>\n",
       "      <td>1</td>\n",
       "      <td>0</td>\n",
       "      <td>1</td>\n",
       "      <td>1</td>\n",
       "      <td>1</td>\n",
       "      <td>1</td>\n",
       "      <td>1</td>\n",
       "      <td>0</td>\n",
       "      <td>1</td>\n",
       "      <td>1</td>\n",
       "      <td>0</td>\n",
       "      <td>0</td>\n",
       "      <td>0</td>\n",
       "      <td>1</td>\n",
       "      <td>0</td>\n",
       "      <td>1</td>\n",
       "      <td>0</td>\n",
       "      <td>0</td>\n",
       "      <td>1</td>\n",
       "      <td>0</td>\n",
       "      <td>0</td>\n",
       "    </tr>\n",
       "    <tr>\n",
       "      <th>2889</th>\n",
       "      <td>4116-IQRFR</td>\n",
       "      <td>0</td>\n",
       "      <td>4</td>\n",
       "      <td>24.1</td>\n",
       "      <td>73.1</td>\n",
       "      <td>One year</td>\n",
       "      <td>None</td>\n",
       "      <td>0</td>\n",
       "      <td>1</td>\n",
       "      <td>1</td>\n",
       "      <td>1</td>\n",
       "      <td>1</td>\n",
       "      <td>1</td>\n",
       "      <td>0</td>\n",
       "      <td>0</td>\n",
       "      <td>0</td>\n",
       "      <td>0</td>\n",
       "      <td>0</td>\n",
       "      <td>0</td>\n",
       "      <td>0</td>\n",
       "      <td>0</td>\n",
       "      <td>1</td>\n",
       "      <td>0</td>\n",
       "      <td>0</td>\n",
       "      <td>0</td>\n",
       "      <td>1</td>\n",
       "      <td>0</td>\n",
       "      <td>1</td>\n",
       "      <td>0</td>\n",
       "      <td>0</td>\n",
       "    </tr>\n",
       "  </tbody>\n",
       "</table>\n",
       "</div>"
      ],
      "text/plain": [
       "     customer_id  senior_citizen  tenure  monthly_charges  total_charges  \\\n",
       "5707  8041-TMEID               1      63            108.5         6991.9   \n",
       "2889  4116-IQRFR               0       4             24.1           73.1   \n",
       "\n",
       "     contract_type internet_service_type  churn_Yes  gender_Male  partner_Yes  \\\n",
       "5707      Two year           Fiber optic          0            1            1   \n",
       "2889      One year                  None          0            1            1   \n",
       "\n",
       "      dependents_Yes  phone_service_Yes  multiple_lines_Yes  \\\n",
       "5707               0                  1                   1   \n",
       "2889               1                  1                   1   \n",
       "\n",
       "      online_security_Yes  online_backup_Yes  device_protection_Yes  \\\n",
       "5707                    1                  1                      1   \n",
       "2889                    0                  0                      0   \n",
       "\n",
       "      tech_support_Yes  streaming_tv_Yes  streaming_movies_Yes  \\\n",
       "5707                 0                 1                     1   \n",
       "2889                 0                 0                     0   \n",
       "\n",
       "      paperless_billing_Yes  contract_type_Month-to-month  \\\n",
       "5707                      0                             0   \n",
       "2889                      0                             0   \n",
       "\n",
       "      contract_type_One year  contract_type_Two year  \\\n",
       "5707                       0                       1   \n",
       "2889                       1                       0   \n",
       "\n",
       "      internet_service_type_DSL  internet_service_type_Fiber optic  \\\n",
       "5707                          0                                  1   \n",
       "2889                          0                                  0   \n",
       "\n",
       "      internet_service_type_None  payment_type_Bank transfer (automatic)  \\\n",
       "5707                           0                                       0   \n",
       "2889                           1                                       0   \n",
       "\n",
       "      payment_type_Credit card (automatic)  payment_type_Electronic check  \\\n",
       "5707                                     1                              0   \n",
       "2889                                     1                              0   \n",
       "\n",
       "      payment_type_Mailed check  \n",
       "5707                          0  \n",
       "2889                          0  "
      ]
     },
     "execution_count": 9,
     "metadata": {},
     "output_type": "execute_result"
    }
   ],
   "source": [
    "train.head(2)"
   ]
  },
  {
   "cell_type": "markdown",
   "id": "11640411",
   "metadata": {},
   "source": [
    "# Exploratory Analysis Questions"
   ]
  },
  {
   "cell_type": "markdown",
   "id": "44a1b286",
   "metadata": {},
   "source": [
    "## Is whether or not a customer churns independent of their internet service type?"
   ]
  },
  {
   "cell_type": "code",
   "execution_count": 17,
   "id": "0c07956c",
   "metadata": {},
   "outputs": [
    {
     "data": {
      "image/png": "[encoded data removed]",
      "text/plain": [
       "<Figure size 640x480 with 1 Axes>"
      ]
     },
     "metadata": {},
     "output_type": "display_data"
    }
   ],
   "source": [
    "sns.barplot(x='internet_service_type', y='churn_Yes', data=train)\n",
    "churn_rate = train.churn_Yes.mean()\n",
    "plt.axhline(churn_rate, label=\"Average Churn\")\n",
    "plt.legend()\n",
    "plt.show()"
   ]
  },
  {
   "cell_type": "markdown",
   "id": "b4cc9405",
   "metadata": {},
   "source": [
    "Null hypothesis here is that there is no relationship between internet service type and churn status\n",
    "\n",
    "Alternative hypothesis is that there *is* a relationship beteween the two\n"
   ]
  },
  {
   "cell_type": "code",
   "execution_count": 18,
   "id": "c8026456",
   "metadata": {},
   "outputs": [],
   "source": [
    "observed = pd.crosstab(train.internet_service_type, train.churn_Yes)"
   ]
  },
  {
   "cell_type": "code",
   "execution_count": 19,
   "id": "2dc08b04",
   "metadata": {},
   "outputs": [
    {
     "data": {
      "text/html": [
       "<div>\n",
       "<style scoped>\n",
       "    .dataframe tbody tr th:only-of-type {\n",
       "        vertical-align: middle;\n",
       "    }\n",
       "\n",
       "    .dataframe tbody tr th {\n",
       "        vertical-align: top;\n",
       "    }\n",
       "\n",
       "    .dataframe thead th {\n",
       "        text-align: right;\n",
       "    }\n",
       "</style>\n",
       "<table border=\"1\" class=\"dataframe\">\n",
       "  <thead>\n",
       "    <tr style=\"text-align: right;\">\n",
       "      <th>churn_Yes</th>\n",
       "      <th>0</th>\n",
       "      <th>1</th>\n",
       "    </tr>\n",
       "    <tr>\n",
       "      <th>internet_service_type</th>\n",
       "      <th></th>\n",
       "      <th></th>\n",
       "    </tr>\n",
       "  </thead>\n",
       "  <tbody>\n",
       "    <tr>\n",
       "      <th>DSL</th>\n",
       "      <td>998</td>\n",
       "      <td>242</td>\n",
       "    </tr>\n",
       "    <tr>\n",
       "      <th>Fiber optic</th>\n",
       "      <td>892</td>\n",
       "      <td>632</td>\n",
       "    </tr>\n",
       "    <tr>\n",
       "      <th>None</th>\n",
       "      <td>697</td>\n",
       "      <td>60</td>\n",
       "    </tr>\n",
       "  </tbody>\n",
       "</table>\n",
       "</div>"
      ],
      "text/plain": [
       "churn_Yes                0    1\n",
       "internet_service_type          \n",
       "DSL                    998  242\n",
       "Fiber optic            892  632\n",
       "None                   697   60"
      ]
     },
     "execution_count": 19,
     "metadata": {},
     "output_type": "execute_result"
    }
   ],
   "source": [
    "observed"
   ]
  },
  {
   "cell_type": "code",
   "execution_count": 20,
   "id": "1f94b1ea",
   "metadata": {},
   "outputs": [],
   "source": [
    "chi2, p, degf, expected = stats.chi2_contingency(observed)"
   ]
  },
  {
   "cell_type": "code",
   "execution_count": 21,
   "id": "4ef850b4",
   "metadata": {},
   "outputs": [
    {
     "data": {
      "text/plain": [
       "(340.2562919671569,\n",
       " 1.3010230258879231e-74,\n",
       " 2,\n",
       " array([[ 911.07071855,  328.92928145],\n",
       "        [1119.73530247,  404.26469753],\n",
       "        [ 556.19397898,  200.80602102]]))"
      ]
     },
     "execution_count": 21,
     "metadata": {},
     "output_type": "execute_result"
    }
   ],
   "source": [
    "chi2, p, degf, expected"
   ]
  },
  {
   "cell_type": "code",
   "execution_count": 22,
   "id": "d288a9c5",
   "metadata": {},
   "outputs": [],
   "source": [
    "alpha = .05"
   ]
  },
  {
   "cell_type": "code",
   "execution_count": 23,
   "id": "a7cc8d3a",
   "metadata": {},
   "outputs": [
    {
     "name": "stdout",
     "output_type": "stream",
     "text": [
      "Observed Values\n",
      "\n",
      "[[998 242]\n",
      " [892 632]\n",
      " [697  60]]\n",
      "---\n",
      "Expected Values\n",
      "\n",
      "[[ 911  328]\n",
      " [1119  404]\n",
      " [ 556  200]]\n",
      "---\n",
      "\n",
      "chi^2 = 340.2563\n",
      "p     = 0.0000\n",
      "Is p-value < alpha? True\n"
     ]
    }
   ],
   "source": [
    "# print 'Observed Values' followed by a new line\n",
    "print('Observed Values\\n')\n",
    "\n",
    "# print the values from the 'observed' dataframe\n",
    "print(observed.values)\n",
    "\n",
    "# print --- and then a new line, 'Expected Values', followed by another new line\n",
    "print('---\\nExpected Values\\n')\n",
    "\n",
    "# print the expected values array\n",
    "print(expected.astype(int))\n",
    "\n",
    "# print a new line\n",
    "print('---\\n')\n",
    "\n",
    "# print the chi2 value, formatted to a float with 4 digits. \n",
    "print(f'chi^2 = {chi2:.4f}') \n",
    "\n",
    "# print the p-value, formatted to a float with 4 digits. \n",
    "print(f'p     = {p:.4f}')\n",
    "\n",
    "alpha = .05\n",
    "print('Is p-value < alpha?', p < alpha)"
   ]
  },
  {
   "cell_type": "markdown",
   "id": "f6140e8c",
   "metadata": {},
   "source": [
    "Takeaways:\n",
    "\n",
    "- According to the Chi2 test, there *is* a relationship between internet service type and churn. The chi^2 value is very high, with the p-value being very low, meaning there is a large difference in the observed and expected values.\n",
    "\n",
    "- There are significantly more people who had fiber optic internet that churned than people who had DSL or who had no internet.\n",
    "\n",
    "- Customers with DSL and no internet are well below average when it comes to customers who have churned, while fiber optic is way above average"
   ]
  },
  {
   "cell_type": "markdown",
   "id": "e45a5911",
   "metadata": {},
   "source": [
    "## Are contract type and churn status related?\n"
   ]
  },
  {
   "cell_type": "code",
   "execution_count": 24,
   "id": "3a0a3860",
   "metadata": {},
   "outputs": [
    {
     "data": {
      "image/png": "[encoded data removed]",
      "text/plain": [
       "<Figure size 640x480 with 1 Axes>"
      ]
     },
     "metadata": {},
     "output_type": "display_data"
    }
   ],
   "source": [
    "sns.barplot(x='contract_type', y='churn_Yes', data=train)\n",
    "churn_rate = train.churn_Yes.mean()\n",
    "plt.axhline(churn_rate, label=\"Average Churn\")\n",
    "plt.legend()\n",
    "plt.show()"
   ]
  },
  {
   "cell_type": "markdown",
   "id": "0fbb25df",
   "metadata": {},
   "source": [
    "Null Hypothesis here is that there is *no* relationship between contract type and churn\n",
    "\n",
    "Alternative Hypothesis here is that there *is* a relationship between contract type and churn"
   ]
  },
  {
   "cell_type": "code",
   "execution_count": 25,
   "id": "88906592",
   "metadata": {},
   "outputs": [
    {
     "data": {
      "text/html": [
       "<div>\n",
       "<style scoped>\n",
       "    .dataframe tbody tr th:only-of-type {\n",
       "        vertical-align: middle;\n",
       "    }\n",
       "\n",
       "    .dataframe tbody tr th {\n",
       "        vertical-align: top;\n",
       "    }\n",
       "\n",
       "    .dataframe thead th {\n",
       "        text-align: right;\n",
       "    }\n",
       "</style>\n",
       "<table border=\"1\" class=\"dataframe\">\n",
       "  <thead>\n",
       "    <tr style=\"text-align: right;\">\n",
       "      <th>churn_Yes</th>\n",
       "      <th>0</th>\n",
       "      <th>1</th>\n",
       "    </tr>\n",
       "    <tr>\n",
       "      <th>contract_type</th>\n",
       "      <th></th>\n",
       "      <th></th>\n",
       "    </tr>\n",
       "  </thead>\n",
       "  <tbody>\n",
       "    <tr>\n",
       "      <th>Month-to-month</th>\n",
       "      <td>1116</td>\n",
       "      <td>821</td>\n",
       "    </tr>\n",
       "    <tr>\n",
       "      <th>One year</th>\n",
       "      <td>634</td>\n",
       "      <td>95</td>\n",
       "    </tr>\n",
       "    <tr>\n",
       "      <th>Two year</th>\n",
       "      <td>837</td>\n",
       "      <td>18</td>\n",
       "    </tr>\n",
       "  </tbody>\n",
       "</table>\n",
       "</div>"
      ],
      "text/plain": [
       "churn_Yes          0    1\n",
       "contract_type            \n",
       "Month-to-month  1116  821\n",
       "One year         634   95\n",
       "Two year         837   18"
      ]
     },
     "execution_count": 25,
     "metadata": {},
     "output_type": "execute_result"
    }
   ],
   "source": [
    "observed2 = pd.crosstab(train.contract_type, train.churn_Yes)\n",
    "observed2"
   ]
  },
  {
   "cell_type": "code",
   "execution_count": 27,
   "id": "42c5e373",
   "metadata": {},
   "outputs": [
    {
     "data": {
      "text/plain": [
       "(579.6971753504483,\n",
       " 1.319343206618824e-126,\n",
       " 2,\n",
       " array([[1423.1806305 ,  513.8193695 ],\n",
       "        [ 535.62141437,  193.37858563],\n",
       "        [ 628.19795513,  226.80204487]]))"
      ]
     },
     "execution_count": 27,
     "metadata": {},
     "output_type": "execute_result"
    }
   ],
   "source": [
    "chi2, p, degf, expected = stats.chi2_contingency(observed2)\n",
    "\n",
    "chi2, p, degf, expected"
   ]
  },
  {
   "cell_type": "code",
   "execution_count": 29,
   "id": "6aac7208",
   "metadata": {},
   "outputs": [
    {
     "name": "stdout",
     "output_type": "stream",
     "text": [
      "Observed Values\n",
      "\n",
      "[[998 242]\n",
      " [892 632]\n",
      " [697  60]]\n",
      "---\n",
      "Expected Values\n",
      "\n",
      "[[1423  513]\n",
      " [ 535  193]\n",
      " [ 628  226]]\n",
      "---\n",
      "\n",
      "chi^2 = 579.6972\n",
      "p     = 0.0000\n",
      "Is p-value < alpha? True\n"
     ]
    }
   ],
   "source": [
    "# print 'Observed Values' followed by a new line\n",
    "print('Observed Values\\n')\n",
    "\n",
    "# print the values from the 'observed' dataframe\n",
    "print(observed.values)\n",
    "\n",
    "# print --- and then a new line, 'Expected Values', followed by another new line\n",
    "print('---\\nExpected Values\\n')\n",
    "\n",
    "# print the expected values array\n",
    "print(expected.astype(int))\n",
    "\n",
    "# print a new line\n",
    "print('---\\n')\n",
    "\n",
    "# print the chi2 value, formatted to a float with 4 digits. \n",
    "print(f'chi^2 = {chi2:.4f}') \n",
    "\n",
    "# print the p-value, formatted to a float with 4 digits. \n",
    "print(f'p     = {p:.4f}')\n",
    "\n",
    "print('Is p-value < alpha?', p < alpha)\n"
   ]
  },
  {
   "cell_type": "markdown",
   "id": "e0b36dc1",
   "metadata": {},
   "source": [
    "Takeaways:\n",
    "\n",
    "- According to the chi^2 test, there *is a relationship between contract type and customers who have churned.\n",
    "\n",
    "- A **significantly** larger percentage of people who were month-to-month churned verus the other two categories\n",
    "\n",
    "- There *were* a lot more customers who had month-to-month contracts than those who had one or two year contracts, but even still the percentage is much higher. The number of one and two year contract customers who churn are well below the average, while those who are month to month are way above."
   ]
  },
  {
   "cell_type": "markdown",
   "id": "caa92a8d",
   "metadata": {},
   "source": [
    "## What is the relationship between phone service and churn?"
   ]
  },
  {
   "cell_type": "code",
   "execution_count": 36,
   "id": "a3261667",
   "metadata": {},
   "outputs": [
    {
     "data": {
      "text/plain": [
       "<AxesSubplot:xlabel='phone_service_Yes', ylabel='churn_Yes'>"
      ]
     },
     "execution_count": 36,
     "metadata": {},
     "output_type": "execute_result"
    },
    {
     "data": {
      "image/png": "[encoded data removed]",
      "text/plain": [
       "<Figure size 640x480 with 1 Axes>"
      ]
     },
     "metadata": {},
     "output_type": "display_data"
    }
   ],
   "source": [
    "sns.barplot(x='phone_service_Yes', y='churn_Yes', data=train)"
   ]
  },
  {
   "cell_type": "markdown",
   "id": "981c1156",
   "metadata": {},
   "source": [
    "Takeaways:\n",
    "\n",
    "- The churn rates for customers who had phone service and those who didn't is very similar, though the confidence interval for those who didn't churn is much larger"
   ]
  },
  {
   "cell_type": "markdown",
   "id": "8d9d9166",
   "metadata": {},
   "source": [
    "## Does Gender factor into churn?"
   ]
  },
  {
   "cell_type": "code",
   "execution_count": 31,
   "id": "116c71ca",
   "metadata": {},
   "outputs": [
    {
     "data": {
      "text/plain": [
       "<AxesSubplot:xlabel='gender_Male', ylabel='churn_Yes'>"
      ]
     },
     "execution_count": 31,
     "metadata": {},
     "output_type": "execute_result"
    },
    {
     "data": {
      "image/png": "[encoded data removed]",
      "text/plain": [
       "<Figure size 640x480 with 1 Axes>"
      ]
     },
     "metadata": {},
     "output_type": "display_data"
    }
   ],
   "source": [
    "sns.barplot(x='gender_Male', y='churn_Yes', data=train)"
   ]
  },
  {
   "cell_type": "markdown",
   "id": "c516788f",
   "metadata": {},
   "source": [
    "Takeaways:\n",
    "\n",
    "- The churn rate for for males and females are very similar, so it is not likely that gender plays a significant role in churn"
   ]
  },
  {
   "cell_type": "markdown",
   "id": "b8c71f89",
   "metadata": {},
   "source": [
    "## Do monthly charges differ for different contract types?"
   ]
  },
  {
   "cell_type": "code",
   "execution_count": 34,
   "id": "84c476f5",
   "metadata": {
    "scrolled": false
   },
   "outputs": [
    {
     "data": {
      "text/plain": [
       "<AxesSubplot:xlabel='contract_type', ylabel='monthly_charges'>"
      ]
     },
     "execution_count": 34,
     "metadata": {},
     "output_type": "execute_result"
    },
    {
     "data": {
      "image/png": "[encoded data removed]",
      "text/plain": [
       "<Figure size 640x480 with 1 Axes>"
      ]
     },
     "metadata": {},
     "output_type": "display_data"
    }
   ],
   "source": [
    "sns.barplot(x='contract_type', y='monthly_charges',\n",
    "            hue='churn_Yes', data=train)"
   ]
  },
  {
   "cell_type": "code",
   "execution_count": 11,
   "id": "75921130",
   "metadata": {},
   "outputs": [
    {
     "data": {
      "text/html": [
       "<div>\n",
       "<style scoped>\n",
       "    .dataframe tbody tr th:only-of-type {\n",
       "        vertical-align: middle;\n",
       "    }\n",
       "\n",
       "    .dataframe tbody tr th {\n",
       "        vertical-align: top;\n",
       "    }\n",
       "\n",
       "    .dataframe thead th {\n",
       "        text-align: right;\n",
       "    }\n",
       "</style>\n",
       "<table border=\"1\" class=\"dataframe\">\n",
       "  <thead>\n",
       "    <tr style=\"text-align: right;\">\n",
       "      <th></th>\n",
       "      <th>senior_citizen</th>\n",
       "      <th>tenure</th>\n",
       "      <th>monthly_charges</th>\n",
       "      <th>total_charges</th>\n",
       "      <th>contract_type</th>\n",
       "      <th>internet_service_type</th>\n",
       "      <th>churn_Yes</th>\n",
       "      <th>gender_Male</th>\n",
       "      <th>partner_Yes</th>\n",
       "      <th>dependents_Yes</th>\n",
       "      <th>phone_service_Yes</th>\n",
       "      <th>multiple_lines_Yes</th>\n",
       "      <th>online_security_Yes</th>\n",
       "      <th>online_backup_Yes</th>\n",
       "      <th>device_protection_Yes</th>\n",
       "      <th>tech_support_Yes</th>\n",
       "      <th>streaming_tv_Yes</th>\n",
       "      <th>streaming_movies_Yes</th>\n",
       "      <th>paperless_billing_Yes</th>\n",
       "      <th>contract_type_Month-to-month</th>\n",
       "      <th>contract_type_One year</th>\n",
       "      <th>contract_type_Two year</th>\n",
       "      <th>internet_service_type_DSL</th>\n",
       "      <th>internet_service_type_Fiber optic</th>\n",
       "      <th>internet_service_type_None</th>\n",
       "      <th>payment_type_Bank transfer (automatic)</th>\n",
       "      <th>payment_type_Credit card (automatic)</th>\n",
       "      <th>payment_type_Electronic check</th>\n",
       "      <th>payment_type_Mailed check</th>\n",
       "    </tr>\n",
       "  </thead>\n",
       "  <tbody>\n",
       "    <tr>\n",
       "      <th>5707</th>\n",
       "      <td>1</td>\n",
       "      <td>63</td>\n",
       "      <td>108.5</td>\n",
       "      <td>6991.90</td>\n",
       "      <td>Two year</td>\n",
       "      <td>Fiber optic</td>\n",
       "      <td>0</td>\n",
       "      <td>1</td>\n",
       "      <td>1</td>\n",
       "      <td>0</td>\n",
       "      <td>1</td>\n",
       "      <td>1</td>\n",
       "      <td>1</td>\n",
       "      <td>1</td>\n",
       "      <td>1</td>\n",
       "      <td>0</td>\n",
       "      <td>1</td>\n",
       "      <td>1</td>\n",
       "      <td>0</td>\n",
       "      <td>0</td>\n",
       "      <td>0</td>\n",
       "      <td>1</td>\n",
       "      <td>0</td>\n",
       "      <td>1</td>\n",
       "      <td>0</td>\n",
       "      <td>0</td>\n",
       "      <td>1</td>\n",
       "      <td>0</td>\n",
       "      <td>0</td>\n",
       "    </tr>\n",
       "    <tr>\n",
       "      <th>2889</th>\n",
       "      <td>0</td>\n",
       "      <td>4</td>\n",
       "      <td>24.1</td>\n",
       "      <td>73.10</td>\n",
       "      <td>One year</td>\n",
       "      <td>None</td>\n",
       "      <td>0</td>\n",
       "      <td>1</td>\n",
       "      <td>1</td>\n",
       "      <td>1</td>\n",
       "      <td>1</td>\n",
       "      <td>1</td>\n",
       "      <td>0</td>\n",
       "      <td>0</td>\n",
       "      <td>0</td>\n",
       "      <td>0</td>\n",
       "      <td>0</td>\n",
       "      <td>0</td>\n",
       "      <td>0</td>\n",
       "      <td>0</td>\n",
       "      <td>1</td>\n",
       "      <td>0</td>\n",
       "      <td>0</td>\n",
       "      <td>0</td>\n",
       "      <td>1</td>\n",
       "      <td>0</td>\n",
       "      <td>1</td>\n",
       "      <td>0</td>\n",
       "      <td>0</td>\n",
       "    </tr>\n",
       "    <tr>\n",
       "      <th>6573</th>\n",
       "      <td>0</td>\n",
       "      <td>4</td>\n",
       "      <td>44.8</td>\n",
       "      <td>176.20</td>\n",
       "      <td>Month-to-month</td>\n",
       "      <td>DSL</td>\n",
       "      <td>0</td>\n",
       "      <td>1</td>\n",
       "      <td>0</td>\n",
       "      <td>0</td>\n",
       "      <td>1</td>\n",
       "      <td>0</td>\n",
       "      <td>0</td>\n",
       "      <td>0</td>\n",
       "      <td>0</td>\n",
       "      <td>0</td>\n",
       "      <td>0</td>\n",
       "      <td>0</td>\n",
       "      <td>1</td>\n",
       "      <td>1</td>\n",
       "      <td>0</td>\n",
       "      <td>0</td>\n",
       "      <td>1</td>\n",
       "      <td>0</td>\n",
       "      <td>0</td>\n",
       "      <td>0</td>\n",
       "      <td>1</td>\n",
       "      <td>0</td>\n",
       "      <td>0</td>\n",
       "    </tr>\n",
       "    <tr>\n",
       "      <th>2631</th>\n",
       "      <td>0</td>\n",
       "      <td>3</td>\n",
       "      <td>20.2</td>\n",
       "      <td>65.95</td>\n",
       "      <td>Month-to-month</td>\n",
       "      <td>None</td>\n",
       "      <td>0</td>\n",
       "      <td>0</td>\n",
       "      <td>0</td>\n",
       "      <td>0</td>\n",
       "      <td>1</td>\n",
       "      <td>0</td>\n",
       "      <td>0</td>\n",
       "      <td>0</td>\n",
       "      <td>0</td>\n",
       "      <td>0</td>\n",
       "      <td>0</td>\n",
       "      <td>0</td>\n",
       "      <td>0</td>\n",
       "      <td>1</td>\n",
       "      <td>0</td>\n",
       "      <td>0</td>\n",
       "      <td>0</td>\n",
       "      <td>0</td>\n",
       "      <td>1</td>\n",
       "      <td>0</td>\n",
       "      <td>0</td>\n",
       "      <td>1</td>\n",
       "      <td>0</td>\n",
       "    </tr>\n",
       "    <tr>\n",
       "      <th>1831</th>\n",
       "      <td>0</td>\n",
       "      <td>41</td>\n",
       "      <td>81.3</td>\n",
       "      <td>3190.65</td>\n",
       "      <td>Month-to-month</td>\n",
       "      <td>Fiber optic</td>\n",
       "      <td>0</td>\n",
       "      <td>0</td>\n",
       "      <td>0</td>\n",
       "      <td>0</td>\n",
       "      <td>1</td>\n",
       "      <td>1</td>\n",
       "      <td>1</td>\n",
       "      <td>0</td>\n",
       "      <td>0</td>\n",
       "      <td>0</td>\n",
       "      <td>0</td>\n",
       "      <td>0</td>\n",
       "      <td>1</td>\n",
       "      <td>1</td>\n",
       "      <td>0</td>\n",
       "      <td>0</td>\n",
       "      <td>0</td>\n",
       "      <td>1</td>\n",
       "      <td>0</td>\n",
       "      <td>0</td>\n",
       "      <td>1</td>\n",
       "      <td>0</td>\n",
       "      <td>0</td>\n",
       "    </tr>\n",
       "  </tbody>\n",
       "</table>\n",
       "</div>"
      ],
      "text/plain": [
       "      senior_citizen  tenure  monthly_charges  total_charges   contract_type  \\\n",
       "5707               1      63            108.5        6991.90        Two year   \n",
       "2889               0       4             24.1          73.10        One year   \n",
       "6573               0       4             44.8         176.20  Month-to-month   \n",
       "2631               0       3             20.2          65.95  Month-to-month   \n",
       "1831               0      41             81.3        3190.65  Month-to-month   \n",
       "\n",
       "     internet_service_type  churn_Yes  gender_Male  partner_Yes  \\\n",
       "5707           Fiber optic          0            1            1   \n",
       "2889                  None          0            1            1   \n",
       "6573                   DSL          0            1            0   \n",
       "2631                  None          0            0            0   \n",
       "1831           Fiber optic          0            0            0   \n",
       "\n",
       "      dependents_Yes  phone_service_Yes  multiple_lines_Yes  \\\n",
       "5707               0                  1                   1   \n",
       "2889               1                  1                   1   \n",
       "6573               0                  1                   0   \n",
       "2631               0                  1                   0   \n",
       "1831               0                  1                   1   \n",
       "\n",
       "      online_security_Yes  online_backup_Yes  device_protection_Yes  \\\n",
       "5707                    1                  1                      1   \n",
       "2889                    0                  0                      0   \n",
       "6573                    0                  0                      0   \n",
       "2631                    0                  0                      0   \n",
       "1831                    1                  0                      0   \n",
       "\n",
       "      tech_support_Yes  streaming_tv_Yes  streaming_movies_Yes  \\\n",
       "5707                 0                 1                     1   \n",
       "2889                 0                 0                     0   \n",
       "6573                 0                 0                     0   \n",
       "2631                 0                 0                     0   \n",
       "1831                 0                 0                     0   \n",
       "\n",
       "      paperless_billing_Yes  contract_type_Month-to-month  \\\n",
       "5707                      0                             0   \n",
       "2889                      0                             0   \n",
       "6573                      1                             1   \n",
       "2631                      0                             1   \n",
       "1831                      1                             1   \n",
       "\n",
       "      contract_type_One year  contract_type_Two year  \\\n",
       "5707                       0                       1   \n",
       "2889                       1                       0   \n",
       "6573                       0                       0   \n",
       "2631                       0                       0   \n",
       "1831                       0                       0   \n",
       "\n",
       "      internet_service_type_DSL  internet_service_type_Fiber optic  \\\n",
       "5707                          0                                  1   \n",
       "2889                          0                                  0   \n",
       "6573                          1                                  0   \n",
       "2631                          0                                  0   \n",
       "1831                          0                                  1   \n",
       "\n",
       "      internet_service_type_None  payment_type_Bank transfer (automatic)  \\\n",
       "5707                           0                                       0   \n",
       "2889                           1                                       0   \n",
       "6573                           0                                       0   \n",
       "2631                           1                                       0   \n",
       "1831                           0                                       0   \n",
       "\n",
       "      payment_type_Credit card (automatic)  payment_type_Electronic check  \\\n",
       "5707                                     1                              0   \n",
       "2889                                     1                              0   \n",
       "6573                                     1                              0   \n",
       "2631                                     0                              1   \n",
       "1831                                     1                              0   \n",
       "\n",
       "      payment_type_Mailed check  \n",
       "5707                          0  \n",
       "2889                          0  \n",
       "6573                          0  \n",
       "2631                          0  \n",
       "1831                          0  "
      ]
     },
     "execution_count": 11,
     "metadata": {},
     "output_type": "execute_result"
    }
   ],
   "source": [
    "train.head()"
   ]
  },
  {
   "cell_type": "markdown",
   "id": "f3c2a69a",
   "metadata": {},
   "source": [
    "Takeaways:\n",
    "\n",
    "- Monthly charges do vary somewhat when compared to contract type and if they've churned, however when comparing those same variables to customers who haven't churned, monthly charges are consistent across the board.\n",
    "\n",
    "- Charges for customers who churned are all higher than those who haven't.\n"
   ]
  },
  {
   "cell_type": "markdown",
   "id": "7acbb1bf",
   "metadata": {},
   "source": [
    "# Overall takeaways:\n",
    "\n",
    "- There is a significant relationship between internet service type and churn.\n",
    "\n",
    "- The majority of people had fiber optic internet, which also includes way more people who've churned.\n",
    "\n",
    "- There's a significant relationship between contract type and churn, with an overwhelming majority of people who've churned having had a month-to-month contract\n",
    "\n",
    "- Neither phone service or gender seem to have a significant relationship here\n",
    "\n",
    "- Monthly charges seems to have something of a relationship with churn, as we can see that the people who have churned have all had their monthly charges increase, while the customers who haven't churned seem to be paying a more consistent amount. the most interesting part is that month to month has the smallest difference in their payments, yet that group has the most churn"
   ]
  },
  {
   "cell_type": "markdown",
   "id": "0f038806",
   "metadata": {},
   "source": [
    "## Plan for my models:\n",
    "\n",
    "- I plan on running two models for each algorithm we've learned, and for the first one I will include everything from my prepared data, minus the conctract and internet types, as they're object type data. \n",
    "\n",
    "- The second model for each will have the senior citizen, gender, phone service removed to check if that improves accuracy"
   ]
  },
  {
   "cell_type": "markdown",
   "id": "d832e3bb",
   "metadata": {},
   "source": [
    "# Modeling"
   ]
  },
  {
   "cell_type": "code",
   "execution_count": 12,
   "id": "ae47c04f",
   "metadata": {},
   "outputs": [
    {
     "data": {
      "text/html": [
       "<div>\n",
       "<style scoped>\n",
       "    .dataframe tbody tr th:only-of-type {\n",
       "        vertical-align: middle;\n",
       "    }\n",
       "\n",
       "    .dataframe tbody tr th {\n",
       "        vertical-align: top;\n",
       "    }\n",
       "\n",
       "    .dataframe thead th {\n",
       "        text-align: right;\n",
       "    }\n",
       "</style>\n",
       "<table border=\"1\" class=\"dataframe\">\n",
       "  <thead>\n",
       "    <tr style=\"text-align: right;\">\n",
       "      <th></th>\n",
       "      <th>senior_citizen</th>\n",
       "      <th>tenure</th>\n",
       "      <th>monthly_charges</th>\n",
       "      <th>total_charges</th>\n",
       "      <th>contract_type</th>\n",
       "      <th>internet_service_type</th>\n",
       "      <th>churn_Yes</th>\n",
       "      <th>gender_Male</th>\n",
       "      <th>partner_Yes</th>\n",
       "      <th>dependents_Yes</th>\n",
       "      <th>phone_service_Yes</th>\n",
       "      <th>multiple_lines_Yes</th>\n",
       "      <th>online_security_Yes</th>\n",
       "      <th>online_backup_Yes</th>\n",
       "      <th>device_protection_Yes</th>\n",
       "      <th>tech_support_Yes</th>\n",
       "      <th>streaming_tv_Yes</th>\n",
       "      <th>streaming_movies_Yes</th>\n",
       "      <th>paperless_billing_Yes</th>\n",
       "      <th>contract_type_Month-to-month</th>\n",
       "      <th>contract_type_One year</th>\n",
       "      <th>contract_type_Two year</th>\n",
       "      <th>internet_service_type_DSL</th>\n",
       "      <th>internet_service_type_Fiber optic</th>\n",
       "      <th>internet_service_type_None</th>\n",
       "      <th>payment_type_Bank transfer (automatic)</th>\n",
       "      <th>payment_type_Credit card (automatic)</th>\n",
       "      <th>payment_type_Electronic check</th>\n",
       "      <th>payment_type_Mailed check</th>\n",
       "    </tr>\n",
       "  </thead>\n",
       "  <tbody>\n",
       "    <tr>\n",
       "      <th>5707</th>\n",
       "      <td>1</td>\n",
       "      <td>63</td>\n",
       "      <td>108.5</td>\n",
       "      <td>6991.90</td>\n",
       "      <td>Two year</td>\n",
       "      <td>Fiber optic</td>\n",
       "      <td>0</td>\n",
       "      <td>1</td>\n",
       "      <td>1</td>\n",
       "      <td>0</td>\n",
       "      <td>1</td>\n",
       "      <td>1</td>\n",
       "      <td>1</td>\n",
       "      <td>1</td>\n",
       "      <td>1</td>\n",
       "      <td>0</td>\n",
       "      <td>1</td>\n",
       "      <td>1</td>\n",
       "      <td>0</td>\n",
       "      <td>0</td>\n",
       "      <td>0</td>\n",
       "      <td>1</td>\n",
       "      <td>0</td>\n",
       "      <td>1</td>\n",
       "      <td>0</td>\n",
       "      <td>0</td>\n",
       "      <td>1</td>\n",
       "      <td>0</td>\n",
       "      <td>0</td>\n",
       "    </tr>\n",
       "    <tr>\n",
       "      <th>2889</th>\n",
       "      <td>0</td>\n",
       "      <td>4</td>\n",
       "      <td>24.1</td>\n",
       "      <td>73.10</td>\n",
       "      <td>One year</td>\n",
       "      <td>None</td>\n",
       "      <td>0</td>\n",
       "      <td>1</td>\n",
       "      <td>1</td>\n",
       "      <td>1</td>\n",
       "      <td>1</td>\n",
       "      <td>1</td>\n",
       "      <td>0</td>\n",
       "      <td>0</td>\n",
       "      <td>0</td>\n",
       "      <td>0</td>\n",
       "      <td>0</td>\n",
       "      <td>0</td>\n",
       "      <td>0</td>\n",
       "      <td>0</td>\n",
       "      <td>1</td>\n",
       "      <td>0</td>\n",
       "      <td>0</td>\n",
       "      <td>0</td>\n",
       "      <td>1</td>\n",
       "      <td>0</td>\n",
       "      <td>1</td>\n",
       "      <td>0</td>\n",
       "      <td>0</td>\n",
       "    </tr>\n",
       "    <tr>\n",
       "      <th>6573</th>\n",
       "      <td>0</td>\n",
       "      <td>4</td>\n",
       "      <td>44.8</td>\n",
       "      <td>176.20</td>\n",
       "      <td>Month-to-month</td>\n",
       "      <td>DSL</td>\n",
       "      <td>0</td>\n",
       "      <td>1</td>\n",
       "      <td>0</td>\n",
       "      <td>0</td>\n",
       "      <td>1</td>\n",
       "      <td>0</td>\n",
       "      <td>0</td>\n",
       "      <td>0</td>\n",
       "      <td>0</td>\n",
       "      <td>0</td>\n",
       "      <td>0</td>\n",
       "      <td>0</td>\n",
       "      <td>1</td>\n",
       "      <td>1</td>\n",
       "      <td>0</td>\n",
       "      <td>0</td>\n",
       "      <td>1</td>\n",
       "      <td>0</td>\n",
       "      <td>0</td>\n",
       "      <td>0</td>\n",
       "      <td>1</td>\n",
       "      <td>0</td>\n",
       "      <td>0</td>\n",
       "    </tr>\n",
       "    <tr>\n",
       "      <th>2631</th>\n",
       "      <td>0</td>\n",
       "      <td>3</td>\n",
       "      <td>20.2</td>\n",
       "      <td>65.95</td>\n",
       "      <td>Month-to-month</td>\n",
       "      <td>None</td>\n",
       "      <td>0</td>\n",
       "      <td>0</td>\n",
       "      <td>0</td>\n",
       "      <td>0</td>\n",
       "      <td>1</td>\n",
       "      <td>0</td>\n",
       "      <td>0</td>\n",
       "      <td>0</td>\n",
       "      <td>0</td>\n",
       "      <td>0</td>\n",
       "      <td>0</td>\n",
       "      <td>0</td>\n",
       "      <td>0</td>\n",
       "      <td>1</td>\n",
       "      <td>0</td>\n",
       "      <td>0</td>\n",
       "      <td>0</td>\n",
       "      <td>0</td>\n",
       "      <td>1</td>\n",
       "      <td>0</td>\n",
       "      <td>0</td>\n",
       "      <td>1</td>\n",
       "      <td>0</td>\n",
       "    </tr>\n",
       "    <tr>\n",
       "      <th>1831</th>\n",
       "      <td>0</td>\n",
       "      <td>41</td>\n",
       "      <td>81.3</td>\n",
       "      <td>3190.65</td>\n",
       "      <td>Month-to-month</td>\n",
       "      <td>Fiber optic</td>\n",
       "      <td>0</td>\n",
       "      <td>0</td>\n",
       "      <td>0</td>\n",
       "      <td>0</td>\n",
       "      <td>1</td>\n",
       "      <td>1</td>\n",
       "      <td>1</td>\n",
       "      <td>0</td>\n",
       "      <td>0</td>\n",
       "      <td>0</td>\n",
       "      <td>0</td>\n",
       "      <td>0</td>\n",
       "      <td>1</td>\n",
       "      <td>1</td>\n",
       "      <td>0</td>\n",
       "      <td>0</td>\n",
       "      <td>0</td>\n",
       "      <td>1</td>\n",
       "      <td>0</td>\n",
       "      <td>0</td>\n",
       "      <td>1</td>\n",
       "      <td>0</td>\n",
       "      <td>0</td>\n",
       "    </tr>\n",
       "  </tbody>\n",
       "</table>\n",
       "</div>"
      ],
      "text/plain": [
       "      senior_citizen  tenure  monthly_charges  total_charges   contract_type  \\\n",
       "5707               1      63            108.5        6991.90        Two year   \n",
       "2889               0       4             24.1          73.10        One year   \n",
       "6573               0       4             44.8         176.20  Month-to-month   \n",
       "2631               0       3             20.2          65.95  Month-to-month   \n",
       "1831               0      41             81.3        3190.65  Month-to-month   \n",
       "\n",
       "     internet_service_type  churn_Yes  gender_Male  partner_Yes  \\\n",
       "5707           Fiber optic          0            1            1   \n",
       "2889                  None          0            1            1   \n",
       "6573                   DSL          0            1            0   \n",
       "2631                  None          0            0            0   \n",
       "1831           Fiber optic          0            0            0   \n",
       "\n",
       "      dependents_Yes  phone_service_Yes  multiple_lines_Yes  \\\n",
       "5707               0                  1                   1   \n",
       "2889               1                  1                   1   \n",
       "6573               0                  1                   0   \n",
       "2631               0                  1                   0   \n",
       "1831               0                  1                   1   \n",
       "\n",
       "      online_security_Yes  online_backup_Yes  device_protection_Yes  \\\n",
       "5707                    1                  1                      1   \n",
       "2889                    0                  0                      0   \n",
       "6573                    0                  0                      0   \n",
       "2631                    0                  0                      0   \n",
       "1831                    1                  0                      0   \n",
       "\n",
       "      tech_support_Yes  streaming_tv_Yes  streaming_movies_Yes  \\\n",
       "5707                 0                 1                     1   \n",
       "2889                 0                 0                     0   \n",
       "6573                 0                 0                     0   \n",
       "2631                 0                 0                     0   \n",
       "1831                 0                 0                     0   \n",
       "\n",
       "      paperless_billing_Yes  contract_type_Month-to-month  \\\n",
       "5707                      0                             0   \n",
       "2889                      0                             0   \n",
       "6573                      1                             1   \n",
       "2631                      0                             1   \n",
       "1831                      1                             1   \n",
       "\n",
       "      contract_type_One year  contract_type_Two year  \\\n",
       "5707                       0                       1   \n",
       "2889                       1                       0   \n",
       "6573                       0                       0   \n",
       "2631                       0                       0   \n",
       "1831                       0                       0   \n",
       "\n",
       "      internet_service_type_DSL  internet_service_type_Fiber optic  \\\n",
       "5707                          0                                  1   \n",
       "2889                          0                                  0   \n",
       "6573                          1                                  0   \n",
       "2631                          0                                  0   \n",
       "1831                          0                                  1   \n",
       "\n",
       "      internet_service_type_None  payment_type_Bank transfer (automatic)  \\\n",
       "5707                           0                                       0   \n",
       "2889                           1                                       0   \n",
       "6573                           0                                       0   \n",
       "2631                           1                                       0   \n",
       "1831                           0                                       0   \n",
       "\n",
       "      payment_type_Credit card (automatic)  payment_type_Electronic check  \\\n",
       "5707                                     1                              0   \n",
       "2889                                     1                              0   \n",
       "6573                                     1                              0   \n",
       "2631                                     0                              1   \n",
       "1831                                     1                              0   \n",
       "\n",
       "      payment_type_Mailed check  \n",
       "5707                          0  \n",
       "2889                          0  \n",
       "6573                          0  \n",
       "2631                          0  \n",
       "1831                          0  "
      ]
     },
     "execution_count": 12,
     "metadata": {},
     "output_type": "execute_result"
    }
   ],
   "source": [
    "train.head()"
   ]
  },
  {
   "cell_type": "code",
   "execution_count": 31,
   "id": "adce1631",
   "metadata": {},
   "outputs": [],
   "source": [
    "#creating X and y dataframes for my first run through of models\n",
    "X_train = train.drop(columns=['contract_type', \n",
    "                              'internet_service_type', \n",
    "                              'churn_Yes',\n",
    "                              'customer_id'])\n",
    "y_train = train.churn_Yes\n",
    "\n",
    "X_validate = val.drop(columns=['contract_type', \n",
    "                               'internet_service_type', \n",
    "                               'churn_Yes',\n",
    "                               'customer_id'])\n",
    "y_validate = val.churn_Yes\n",
    "\n",
    "X_test = test.drop(columns=['contract_type', \n",
    "                            'internet_service_type', \n",
    "                            'churn_Yes',\n",
    "                            'customer_id'])\n",
    "y_test = test.churn_Yes"
   ]
  },
  {
   "cell_type": "markdown",
   "id": "bd1beffc",
   "metadata": {},
   "source": [
    "## Decision Tree #1\n",
    "\n",
    "- Everything included in this\n",
    "\n",
    "- Will create a model with max depth 3, and then try 5"
   ]
  },
  {
   "cell_type": "code",
   "execution_count": 89,
   "id": "f87c666c",
   "metadata": {},
   "outputs": [],
   "source": [
    "X_train = X_train.astype(int)"
   ]
  },
  {
   "cell_type": "code",
   "execution_count": 90,
   "id": "fdab9952",
   "metadata": {},
   "outputs": [],
   "source": [
    "y_train = y_train.astype(int)"
   ]
  },
  {
   "cell_type": "code",
   "execution_count": 91,
   "id": "40158a5f",
   "metadata": {},
   "outputs": [
    {
     "data": {
      "text/html": [
       "<div>\n",
       "<style scoped>\n",
       "    .dataframe tbody tr th:only-of-type {\n",
       "        vertical-align: middle;\n",
       "    }\n",
       "\n",
       "    .dataframe tbody tr th {\n",
       "        vertical-align: top;\n",
       "    }\n",
       "\n",
       "    .dataframe thead th {\n",
       "        text-align: right;\n",
       "    }\n",
       "</style>\n",
       "<table border=\"1\" class=\"dataframe\">\n",
       "  <thead>\n",
       "    <tr style=\"text-align: right;\">\n",
       "      <th></th>\n",
       "      <th>senior_citizen</th>\n",
       "      <th>tenure</th>\n",
       "      <th>monthly_charges</th>\n",
       "      <th>total_charges</th>\n",
       "      <th>contract_type</th>\n",
       "      <th>internet_service_type</th>\n",
       "      <th>churn_Yes</th>\n",
       "      <th>gender_Male</th>\n",
       "      <th>partner_Yes</th>\n",
       "      <th>dependents_Yes</th>\n",
       "      <th>phone_service_Yes</th>\n",
       "      <th>multiple_lines_Yes</th>\n",
       "      <th>online_security_Yes</th>\n",
       "      <th>online_backup_Yes</th>\n",
       "      <th>device_protection_Yes</th>\n",
       "      <th>tech_support_Yes</th>\n",
       "      <th>streaming_tv_Yes</th>\n",
       "      <th>streaming_movies_Yes</th>\n",
       "      <th>paperless_billing_Yes</th>\n",
       "      <th>contract_type_Month-to-month</th>\n",
       "      <th>contract_type_One year</th>\n",
       "      <th>contract_type_Two year</th>\n",
       "      <th>internet_service_type_DSL</th>\n",
       "      <th>internet_service_type_Fiber optic</th>\n",
       "      <th>internet_service_type_None</th>\n",
       "      <th>payment_type_Bank transfer (automatic)</th>\n",
       "      <th>payment_type_Credit card (automatic)</th>\n",
       "      <th>payment_type_Electronic check</th>\n",
       "      <th>payment_type_Mailed check</th>\n",
       "      <th>baseline</th>\n",
       "    </tr>\n",
       "  </thead>\n",
       "  <tbody>\n",
       "    <tr>\n",
       "      <th>0</th>\n",
       "      <td>0</td>\n",
       "      <td>9</td>\n",
       "      <td>65.6</td>\n",
       "      <td>593.3</td>\n",
       "      <td>One year</td>\n",
       "      <td>DSL</td>\n",
       "      <td>0</td>\n",
       "      <td>0</td>\n",
       "      <td>1</td>\n",
       "      <td>1</td>\n",
       "      <td>1</td>\n",
       "      <td>0</td>\n",
       "      <td>0</td>\n",
       "      <td>1</td>\n",
       "      <td>0</td>\n",
       "      <td>1</td>\n",
       "      <td>1</td>\n",
       "      <td>0</td>\n",
       "      <td>1</td>\n",
       "      <td>0</td>\n",
       "      <td>1</td>\n",
       "      <td>0</td>\n",
       "      <td>1</td>\n",
       "      <td>0</td>\n",
       "      <td>0</td>\n",
       "      <td>0</td>\n",
       "      <td>0</td>\n",
       "      <td>0</td>\n",
       "      <td>1</td>\n",
       "      <td>0</td>\n",
       "    </tr>\n",
       "  </tbody>\n",
       "</table>\n",
       "</div>"
      ],
      "text/plain": [
       "   senior_citizen  tenure  monthly_charges  total_charges contract_type  \\\n",
       "0               0       9             65.6          593.3      One year   \n",
       "\n",
       "  internet_service_type  churn_Yes  gender_Male  partner_Yes  dependents_Yes  \\\n",
       "0                   DSL          0            0            1               1   \n",
       "\n",
       "   phone_service_Yes  multiple_lines_Yes  online_security_Yes  \\\n",
       "0                  1                   0                    0   \n",
       "\n",
       "   online_backup_Yes  device_protection_Yes  tech_support_Yes  \\\n",
       "0                  1                      0                 1   \n",
       "\n",
       "   streaming_tv_Yes  streaming_movies_Yes  paperless_billing_Yes  \\\n",
       "0                 1                     0                      1   \n",
       "\n",
       "   contract_type_Month-to-month  contract_type_One year  \\\n",
       "0                             0                       1   \n",
       "\n",
       "   contract_type_Two year  internet_service_type_DSL  \\\n",
       "0                       0                          1   \n",
       "\n",
       "   internet_service_type_Fiber optic  internet_service_type_None  \\\n",
       "0                                  0                           0   \n",
       "\n",
       "   payment_type_Bank transfer (automatic)  \\\n",
       "0                                       0   \n",
       "\n",
       "   payment_type_Credit card (automatic)  payment_type_Electronic check  \\\n",
       "0                                     0                              0   \n",
       "\n",
       "   payment_type_Mailed check  baseline  \n",
       "0                          1         0  "
      ]
     },
     "execution_count": 91,
     "metadata": {},
     "output_type": "execute_result"
    }
   ],
   "source": [
    "data.head(1)"
   ]
  },
  {
   "cell_type": "code",
   "execution_count": 93,
   "id": "a44420b5",
   "metadata": {},
   "outputs": [],
   "source": [
    "#creating my baseline accuracy\n",
    "\n",
    "data['baseline'] = data['churn_Yes'].value_counts().idxmax()"
   ]
  },
  {
   "cell_type": "code",
   "execution_count": 94,
   "id": "d2712212",
   "metadata": {},
   "outputs": [
    {
     "data": {
      "text/plain": [
       "0.7346301292063041"
      ]
     },
     "execution_count": 94,
     "metadata": {},
     "output_type": "execute_result"
    }
   ],
   "source": [
    "(data['churn_Yes'] == data['baseline']).mean()"
   ]
  },
  {
   "cell_type": "markdown",
   "id": "2b38a54d",
   "metadata": {},
   "source": [
    "Baseline accuracy is 73.5%"
   ]
  },
  {
   "cell_type": "code",
   "execution_count": 115,
   "id": "7d4d2edb",
   "metadata": {},
   "outputs": [],
   "source": [
    "#creating the model object\n",
    "\n",
    "clf = DecisionTreeClassifier(max_depth=3, random_state=42)\n",
    "\n",
    "#fitting the model\n",
    "\n",
    "clf = clf.fit(X_train, y_train)\n",
    "\n",
    "#making train predictions\n",
    "\n",
    "y_pred = clf.predict(X_train)"
   ]
  },
  {
   "cell_type": "code",
   "execution_count": 116,
   "id": "1657d0e6",
   "metadata": {
    "scrolled": false
   },
   "outputs": [
    {
     "data": {
      "image/png": "[encoded data removed]",
      "text/plain": [
       "<Figure size 1000x500 with 1 Axes>"
      ]
     },
     "metadata": {},
     "output_type": "display_data"
    }
   ],
   "source": [
    "plt.figure(figsize=(10, 5))\n",
    "plot_tree(clf, feature_names=X_train.columns, \n",
    "          class_names=['0','1'], rounded=True)\n",
    "plt.show()"
   ]
  },
  {
   "cell_type": "code",
   "execution_count": 117,
   "id": "48fe8835",
   "metadata": {},
   "outputs": [
    {
     "data": {
      "text/plain": [
       "0.7895484237432547"
      ]
     },
     "execution_count": 117,
     "metadata": {},
     "output_type": "execute_result"
    }
   ],
   "source": [
    "clf.score(X_train, y_train)"
   ]
  },
  {
   "cell_type": "code",
   "execution_count": 118,
   "id": "99cb4d83",
   "metadata": {},
   "outputs": [
    {
     "name": "stdout",
     "output_type": "stream",
     "text": [
      "              precision    recall  f1-score   support\n",
      "\n",
      "           0       0.81      0.94      0.87      2587\n",
      "           1       0.69      0.38      0.49       934\n",
      "\n",
      "    accuracy                           0.79      3521\n",
      "   macro avg       0.75      0.66      0.68      3521\n",
      "weighted avg       0.78      0.79      0.77      3521\n",
      "\n"
     ]
    }
   ],
   "source": [
    "print(classification_report(y_train, y_pred))"
   ]
  },
  {
   "cell_type": "markdown",
   "id": "c377fffd",
   "metadata": {},
   "source": [
    "Model 1 accuracy is 79%"
   ]
  },
  {
   "cell_type": "markdown",
   "id": "20e3f8a6",
   "metadata": {},
   "source": [
    "## Decision Tree #2 \n",
    "\n",
    "(Higher Depth)"
   ]
  },
  {
   "cell_type": "code",
   "execution_count": 122,
   "id": "3001c4e7",
   "metadata": {},
   "outputs": [],
   "source": [
    "#creating the model object\n",
    "\n",
    "clf2 = DecisionTreeClassifier(max_depth=5, random_state=42)\n",
    "\n",
    "#fitting the model\n",
    "\n",
    "clf2 = clf2.fit(X_train, y_train)\n",
    "\n",
    "# making train predictions\n",
    "\n",
    "y_pred2 = clf2.predict(X_train)"
   ]
  },
  {
   "cell_type": "code",
   "execution_count": 123,
   "id": "ba738cad",
   "metadata": {},
   "outputs": [
    {
     "data": {
      "image/png": "[encoded data removed]",
      "text/plain": [
       "<Figure size 1000x500 with 1 Axes>"
      ]
     },
     "metadata": {},
     "output_type": "display_data"
    }
   ],
   "source": [
    "plt.figure(figsize=(10, 5))\n",
    "plot_tree(clf2, feature_names=X_train.columns, \n",
    "          class_names=['0','1'], rounded=True)\n",
    "plt.show()"
   ]
  },
  {
   "cell_type": "code",
   "execution_count": 124,
   "id": "3ebdc680",
   "metadata": {},
   "outputs": [
    {
     "data": {
      "text/plain": [
       "0.8011928429423459"
      ]
     },
     "execution_count": 124,
     "metadata": {},
     "output_type": "execute_result"
    }
   ],
   "source": [
    "clf2.score(X_train, y_train)"
   ]
  },
  {
   "cell_type": "code",
   "execution_count": 125,
   "id": "cdbf9677",
   "metadata": {},
   "outputs": [
    {
     "name": "stdout",
     "output_type": "stream",
     "text": [
      "              precision    recall  f1-score   support\n",
      "\n",
      "           0       0.82      0.94      0.87      2587\n",
      "           1       0.71      0.42      0.53       934\n",
      "\n",
      "    accuracy                           0.80      3521\n",
      "   macro avg       0.77      0.68      0.70      3521\n",
      "weighted avg       0.79      0.80      0.78      3521\n",
      "\n"
     ]
    }
   ],
   "source": [
    "print(classification_report(y_train, y_pred2))"
   ]
  },
  {
   "cell_type": "markdown",
   "id": "bdb7b5ef",
   "metadata": {},
   "source": [
    "Accuracy with depth of 5 is 80%, so it is very slightly better"
   ]
  },
  {
   "cell_type": "markdown",
   "id": "ff10177b",
   "metadata": {},
   "source": [
    "## Decision Tree #3 \n",
    "\n",
    "(Even more Depth!)"
   ]
  },
  {
   "cell_type": "code",
   "execution_count": 126,
   "id": "606c9b7a",
   "metadata": {},
   "outputs": [],
   "source": [
    "#creating the model object\n",
    "\n",
    "clf3 = DecisionTreeClassifier(max_depth=8, \n",
    "                              random_state=42)\n",
    "\n",
    "#fitting the model\n",
    "\n",
    "clf3 = clf3.fit(X_train, y_train)\n",
    "\n",
    "# making train predictions\n",
    "\n",
    "y_pred3 = clf3.predict(X_train)"
   ]
  },
  {
   "cell_type": "code",
   "execution_count": 127,
   "id": "8fd43c82",
   "metadata": {},
   "outputs": [
    {
     "data": {
      "image/png": "[encoded data removed]",
      "text/plain": [
       "<Figure size 1000x500 with 1 Axes>"
      ]
     },
     "metadata": {},
     "output_type": "display_data"
    }
   ],
   "source": [
    "plt.figure(figsize=(10, 5))\n",
    "plot_tree(clf3, feature_names=X_train.columns, \n",
    "          class_names=['0','1'], rounded=True)\n",
    "plt.show()"
   ]
  },
  {
   "cell_type": "code",
   "execution_count": 128,
   "id": "3dfe1e99",
   "metadata": {},
   "outputs": [
    {
     "data": {
      "text/plain": [
       "0.849474581084919"
      ]
     },
     "execution_count": 128,
     "metadata": {},
     "output_type": "execute_result"
    }
   ],
   "source": [
    "clf3.score(X_train, y_train)"
   ]
  },
  {
   "cell_type": "code",
   "execution_count": 129,
   "id": "b26a97ca",
   "metadata": {},
   "outputs": [
    {
     "name": "stdout",
     "output_type": "stream",
     "text": [
      "              precision    recall  f1-score   support\n",
      "\n",
      "           0       0.87      0.94      0.90      2587\n",
      "           1       0.78      0.61      0.68       934\n",
      "\n",
      "    accuracy                           0.85      3521\n",
      "   macro avg       0.82      0.77      0.79      3521\n",
      "weighted avg       0.84      0.85      0.84      3521\n",
      "\n"
     ]
    }
   ],
   "source": [
    "print(classification_report(y_train, y_pred3))"
   ]
  },
  {
   "cell_type": "markdown",
   "id": "3b4bfa98",
   "metadata": {},
   "source": [
    "This is the best result yet, at 85%"
   ]
  },
  {
   "cell_type": "markdown",
   "id": "ba473531",
   "metadata": {},
   "source": [
    "- clf, y_pred for model #1\n",
    "- clf2, y_pred2 for model #2\n",
    "- clf3, y_pred3 for model #3"
   ]
  },
  {
   "cell_type": "markdown",
   "id": "37131bb9",
   "metadata": {},
   "source": [
    "## Random Forest #1 "
   ]
  },
  {
   "cell_type": "code",
   "execution_count": 132,
   "id": "50628aeb",
   "metadata": {},
   "outputs": [
    {
     "name": "stdout",
     "output_type": "stream",
     "text": [
      "[0.0027836  0.2002454  0.05917914 0.07631809 0.00025352 0.00475067\n",
      " 0.00732771 0.00103629 0.00147836 0.01324791 0.0026461  0.00053502\n",
      " 0.01480655 0.00190844 0.00298882 0.03535372 0.22138392 0.01466927\n",
      " 0.10836457 0.00639665 0.13230029 0.03779653 0.00060308 0.00149116\n",
      " 0.05175646 0.00037874]\n"
     ]
    }
   ],
   "source": [
    "#creating the object\n",
    "rf = RandomForestClassifier(max_depth=3, \n",
    "                            min_samples_leaf=3,\n",
    "                            n_estimators=100, \n",
    "                            random_state=42, )\n",
    "\n",
    "#fitting the model\n",
    "rf.fit(X_train, y_train)\n",
    "\n",
    "#evaluate feature importance\n",
    "print(rf.feature_importances_)"
   ]
  },
  {
   "cell_type": "code",
   "execution_count": 133,
   "id": "3c440f8f",
   "metadata": {},
   "outputs": [],
   "source": [
    "#make the predictions\n",
    "y_preds = rf.predict(X_train)"
   ]
  },
  {
   "cell_type": "code",
   "execution_count": 135,
   "id": "27e5c225",
   "metadata": {},
   "outputs": [],
   "source": [
    "#estimate the probabilities\n",
    "y_preds_proba = rf.predict_proba(X_train)"
   ]
  },
  {
   "cell_type": "code",
   "execution_count": 136,
   "id": "f405b078",
   "metadata": {},
   "outputs": [
    {
     "data": {
      "text/plain": [
       "0.786424311275206"
      ]
     },
     "execution_count": 136,
     "metadata": {},
     "output_type": "execute_result"
    }
   ],
   "source": [
    "#obtaining the score\n",
    "rf.score(X_train, y_train)"
   ]
  },
  {
   "cell_type": "code",
   "execution_count": 137,
   "id": "28d133aa",
   "metadata": {},
   "outputs": [
    {
     "name": "stdout",
     "output_type": "stream",
     "text": [
      "              precision    recall  f1-score   support\n",
      "\n",
      "           0       0.80      0.95      0.87      2587\n",
      "           1       0.72      0.32      0.44       934\n",
      "\n",
      "    accuracy                           0.79      3521\n",
      "   macro avg       0.76      0.64      0.66      3521\n",
      "weighted avg       0.77      0.79      0.76      3521\n",
      "\n"
     ]
    }
   ],
   "source": [
    "print(classification_report(y_train, y_preds))"
   ]
  },
  {
   "cell_type": "markdown",
   "id": "ff8c4ffb",
   "metadata": {},
   "source": [
    "model accuracy 79%"
   ]
  },
  {
   "cell_type": "markdown",
   "id": "1f6fe204",
   "metadata": {},
   "source": [
    "## Random Forest #2 \n",
    "\n",
    "(Higher Depth)"
   ]
  },
  {
   "cell_type": "code",
   "execution_count": 138,
   "id": "4cf33827",
   "metadata": {},
   "outputs": [
    {
     "name": "stdout",
     "output_type": "stream",
     "text": [
      "[0.00925171 0.20085799 0.07909633 0.11043694 0.00423813 0.00690734\n",
      " 0.00829915 0.0097163  0.00718582 0.02169567 0.00582974 0.00327229\n",
      " 0.01518854 0.00762979 0.00873381 0.03200323 0.16616456 0.01460298\n",
      " 0.07837762 0.02256432 0.10253304 0.03385452 0.00275241 0.00447816\n",
      " 0.03982477 0.00450483]\n"
     ]
    }
   ],
   "source": [
    "#creating the object\n",
    "rf2 = RandomForestClassifier(max_depth=6, \n",
    "                            min_samples_leaf=3,\n",
    "                            n_estimators=100, \n",
    "                            random_state=42, )\n",
    "\n",
    "#fitting the model\n",
    "rf2.fit(X_train, y_train)\n",
    "\n",
    "#evaluate feature importance\n",
    "print(rf2.feature_importances_)"
   ]
  },
  {
   "cell_type": "code",
   "execution_count": 139,
   "id": "f98e3eef",
   "metadata": {},
   "outputs": [],
   "source": [
    "#make the predictions\n",
    "y_preds2 = rf2.predict(X_train)"
   ]
  },
  {
   "cell_type": "code",
   "execution_count": 140,
   "id": "2995e39a",
   "metadata": {},
   "outputs": [
    {
     "data": {
      "text/plain": [
       "0.8153933541607498"
      ]
     },
     "execution_count": 140,
     "metadata": {},
     "output_type": "execute_result"
    }
   ],
   "source": [
    "#obtaining the score\n",
    "rf2.score(X_train, y_train)"
   ]
  },
  {
   "cell_type": "code",
   "execution_count": 141,
   "id": "10385844",
   "metadata": {},
   "outputs": [
    {
     "name": "stdout",
     "output_type": "stream",
     "text": [
      "              precision    recall  f1-score   support\n",
      "\n",
      "           0       0.84      0.93      0.88      2587\n",
      "           1       0.72      0.50      0.59       934\n",
      "\n",
      "    accuracy                           0.82      3521\n",
      "   macro avg       0.78      0.71      0.73      3521\n",
      "weighted avg       0.81      0.82      0.80      3521\n",
      "\n"
     ]
    }
   ],
   "source": [
    "print(classification_report(y_train, y_preds2))"
   ]
  },
  {
   "cell_type": "markdown",
   "id": "b7676ab4",
   "metadata": {},
   "source": [
    "model accuracy is 82%"
   ]
  },
  {
   "cell_type": "markdown",
   "id": "1066be19",
   "metadata": {},
   "source": [
    "## Random Forest #3\n",
    "\n",
    "(MOAR Depth)"
   ]
  },
  {
   "cell_type": "code",
   "execution_count": 152,
   "id": "8295ebdf",
   "metadata": {},
   "outputs": [],
   "source": [
    "rf3 = RandomForestClassifier(max_depth=10,\n",
    "                            min_samples_leaf=3,\n",
    "                            n_estimators=100,\n",
    "                            random_state=42)\n",
    "\n",
    "rf3.fit(X_train, y_train)\n",
    "\n",
    "y_preds3 = rf3.predict(X_train)"
   ]
  },
  {
   "cell_type": "code",
   "execution_count": 153,
   "id": "e642b40a",
   "metadata": {},
   "outputs": [
    {
     "data": {
      "text/plain": [
       "0.8670832149957398"
      ]
     },
     "execution_count": 153,
     "metadata": {},
     "output_type": "execute_result"
    }
   ],
   "source": [
    "rf3.score(X_train, y_train)"
   ]
  },
  {
   "cell_type": "code",
   "execution_count": 154,
   "id": "c8d555c3",
   "metadata": {},
   "outputs": [
    {
     "name": "stdout",
     "output_type": "stream",
     "text": [
      "              precision    recall  f1-score   support\n",
      "\n",
      "           0       0.88      0.94      0.91      2587\n",
      "           1       0.81      0.66      0.72       934\n",
      "\n",
      "    accuracy                           0.87      3521\n",
      "   macro avg       0.84      0.80      0.82      3521\n",
      "weighted avg       0.86      0.87      0.86      3521\n",
      "\n"
     ]
    }
   ],
   "source": [
    "print(classification_report(y_train, y_preds3))"
   ]
  },
  {
   "cell_type": "markdown",
   "id": "05d6652b",
   "metadata": {},
   "source": [
    "Model accuracy is 87%"
   ]
  },
  {
   "cell_type": "markdown",
   "id": "0e4bd213",
   "metadata": {},
   "source": [
    "## KNN #1"
   ]
  },
  {
   "cell_type": "code",
   "execution_count": 156,
   "id": "acd51bb5",
   "metadata": {},
   "outputs": [],
   "source": [
    "# weights = ['uniform', 'density']\n",
    "knn = KNeighborsClassifier(n_neighbors=5, weights='uniform')\n",
    "\n",
    "#fit the model\n",
    "knn.fit(X_train, y_train)\n",
    "\n",
    "#make predictions\n",
    "knn_pred = knn.predict(X_train)"
   ]
  },
  {
   "cell_type": "code",
   "execution_count": 157,
   "id": "c3ebf228",
   "metadata": {},
   "outputs": [],
   "source": [
    "#estimate probability\n",
    "knn_pred_proba = knn.predict_proba(X_train)"
   ]
  },
  {
   "cell_type": "code",
   "execution_count": 158,
   "id": "2fc14cc6",
   "metadata": {},
   "outputs": [
    {
     "data": {
      "text/plain": [
       "0.8341380289690429"
      ]
     },
     "execution_count": 158,
     "metadata": {},
     "output_type": "execute_result"
    }
   ],
   "source": [
    "knn.score(X_train, y_train)"
   ]
  },
  {
   "cell_type": "code",
   "execution_count": 159,
   "id": "0c35f685",
   "metadata": {},
   "outputs": [
    {
     "name": "stdout",
     "output_type": "stream",
     "text": [
      "              precision    recall  f1-score   support\n",
      "\n",
      "           0       0.86      0.93      0.89      2587\n",
      "           1       0.75      0.57      0.64       934\n",
      "\n",
      "    accuracy                           0.83      3521\n",
      "   macro avg       0.80      0.75      0.77      3521\n",
      "weighted avg       0.83      0.83      0.83      3521\n",
      "\n"
     ]
    }
   ],
   "source": [
    "print(classification_report(y_train, knn_pred))"
   ]
  },
  {
   "cell_type": "markdown",
   "id": "15ab465b",
   "metadata": {},
   "source": [
    "Model accuracy is 83%"
   ]
  },
  {
   "cell_type": "markdown",
   "id": "2049bd1d",
   "metadata": {},
   "source": [
    "## KNN #2\n",
    "\n",
    "(More Neighbors)"
   ]
  },
  {
   "cell_type": "code",
   "execution_count": 161,
   "id": "54d0fbc0",
   "metadata": {},
   "outputs": [],
   "source": [
    "# weights = ['uniform', 'density']\n",
    "knn2 = KNeighborsClassifier(n_neighbors=8, weights='uniform')\n",
    "\n",
    "#fit the model\n",
    "knn2.fit(X_train, y_train)\n",
    "\n",
    "#make predictions\n",
    "knn_pred2 = knn2.predict(X_train)"
   ]
  },
  {
   "cell_type": "code",
   "execution_count": 162,
   "id": "3af1c5f3",
   "metadata": {},
   "outputs": [
    {
     "data": {
      "text/plain": [
       "0.8094291394490202"
      ]
     },
     "execution_count": 162,
     "metadata": {},
     "output_type": "execute_result"
    }
   ],
   "source": [
    "knn2.score(X_train, y_train)"
   ]
  },
  {
   "cell_type": "code",
   "execution_count": 163,
   "id": "1ed3ec9d",
   "metadata": {},
   "outputs": [
    {
     "name": "stdout",
     "output_type": "stream",
     "text": [
      "              precision    recall  f1-score   support\n",
      "\n",
      "           0       0.82      0.95      0.88      2587\n",
      "           1       0.76      0.41      0.53       934\n",
      "\n",
      "    accuracy                           0.81      3521\n",
      "   macro avg       0.79      0.68      0.71      3521\n",
      "weighted avg       0.80      0.81      0.79      3521\n",
      "\n"
     ]
    }
   ],
   "source": [
    "print(classification_report(y_train, knn_pred2))"
   ]
  },
  {
   "cell_type": "markdown",
   "id": "a715391d",
   "metadata": {},
   "source": [
    "Model accuracy is 81%"
   ]
  },
  {
   "cell_type": "markdown",
   "id": "bcd2f915",
   "metadata": {},
   "source": [
    "## KNN #3 \n",
    "\n",
    "(Less Neighbors than first model)"
   ]
  },
  {
   "cell_type": "code",
   "execution_count": 164,
   "id": "66ba364e",
   "metadata": {},
   "outputs": [],
   "source": [
    "knn3 = KNeighborsClassifier(n_neighbors=3, weights='uniform')\n",
    "\n",
    "knn3.fit(X_train, y_train)\n",
    "\n",
    "knn_pred3 = knn3.predict(X_train)"
   ]
  },
  {
   "cell_type": "code",
   "execution_count": 165,
   "id": "c5576314",
   "metadata": {},
   "outputs": [
    {
     "data": {
      "text/plain": [
       "0.860266969610906"
      ]
     },
     "execution_count": 165,
     "metadata": {},
     "output_type": "execute_result"
    }
   ],
   "source": [
    "knn3.score(X_train, y_train)"
   ]
  },
  {
   "cell_type": "code",
   "execution_count": 166,
   "id": "6fc30220",
   "metadata": {},
   "outputs": [
    {
     "name": "stdout",
     "output_type": "stream",
     "text": [
      "              precision    recall  f1-score   support\n",
      "\n",
      "           0       0.88      0.94      0.91      2587\n",
      "           1       0.78      0.65      0.71       934\n",
      "\n",
      "    accuracy                           0.86      3521\n",
      "   macro avg       0.83      0.79      0.81      3521\n",
      "weighted avg       0.86      0.86      0.86      3521\n",
      "\n"
     ]
    }
   ],
   "source": [
    "print(classification_report(y_train, knn_pred3))"
   ]
  },
  {
   "cell_type": "markdown",
   "id": "6968cc5b",
   "metadata": {},
   "source": [
    "Model accuracy is 86%"
   ]
  },
  {
   "cell_type": "markdown",
   "id": "f538451b",
   "metadata": {},
   "source": [
    "## Logistic Regression #1"
   ]
  },
  {
   "cell_type": "code",
   "execution_count": 46,
   "id": "0adcb9dd",
   "metadata": {},
   "outputs": [],
   "source": [
    "#creating the object\n",
    "logit = LogisticRegression(C=.1, class_weight={0:1, 1:99}, \n",
    "                           random_state=42, intercept_scaling=1,\n",
    "                          solver='lbfgs')\n",
    "\n",
    "#fit the model\n",
    "logit.fit(X_train, y_train)\n",
    "\n",
    "#make predictions\n",
    "logit_pred = logit.predict(X_train)"
   ]
  },
  {
   "cell_type": "code",
   "execution_count": 47,
   "id": "e110574c",
   "metadata": {},
   "outputs": [
    {
     "name": "stdout",
     "output_type": "stream",
     "text": [
      "Coefficient: \n",
      " [[ 2.10038533e-01 -3.86422171e-02  3.21436952e-02  1.31993940e-04\n",
      "   9.83030033e-02 -4.26477333e-02 -4.08452090e-01 -4.12866670e-01\n",
      "  -5.60156068e-02 -7.50097636e-01 -2.45626374e-01 -3.40140516e-01\n",
      "  -3.32207855e-01  9.68901640e-02  2.97003271e-01  4.87164492e-01\n",
      "   1.45607727e+00  6.76572191e-01 -1.14267798e+00  3.32202790e-01\n",
      "   1.27211558e-01  5.30557142e-01  3.12803376e-01  2.53011058e-01\n",
      "   4.22648473e-01  1.50858458e-03]]\n",
      "Intercept: \n",
      " [1.02291772]\n"
     ]
    }
   ],
   "source": [
    "#evaluate the importance (weight) of each feature\n",
    "print('Coefficient: \\n', logit.coef_)\n",
    "print('Intercept: \\n', logit.intercept_)"
   ]
  },
  {
   "cell_type": "code",
   "execution_count": 48,
   "id": "2b9112d7",
   "metadata": {},
   "outputs": [],
   "source": [
    "#estimate probability\n",
    "logit_pred_proba = logit.predict_proba(X_train)"
   ]
  },
  {
   "cell_type": "code",
   "execution_count": null,
   "id": "68e43332",
   "metadata": {},
   "outputs": [],
   "source": [
    "logit.predict_proba()"
   ]
  },
  {
   "cell_type": "code",
   "execution_count": 50,
   "id": "402817ba",
   "metadata": {},
   "outputs": [
    {
     "data": {
      "text/plain": [
       "array([1, 1, 1, ..., 1, 1, 1], dtype=uint8)"
      ]
     },
     "execution_count": 50,
     "metadata": {},
     "output_type": "execute_result"
    }
   ],
   "source": [
    "logit_pred"
   ]
  },
  {
   "cell_type": "code",
   "execution_count": 49,
   "id": "cb634f82",
   "metadata": {},
   "outputs": [
    {
     "data": {
      "text/plain": [
       "array([[0.25136933, 0.74863067],\n",
       "       [0.09186091, 0.90813909],\n",
       "       [0.010503  , 0.989497  ],\n",
       "       ...,\n",
       "       [0.42999364, 0.57000636],\n",
       "       [0.00986848, 0.99013152],\n",
       "       [0.08288753, 0.91711247]])"
      ]
     },
     "execution_count": 49,
     "metadata": {},
     "output_type": "execute_result"
    }
   ],
   "source": [
    "logit_pred_proba"
   ]
  },
  {
   "cell_type": "code",
   "execution_count": 189,
   "id": "c8022edb",
   "metadata": {},
   "outputs": [
    {
     "data": {
      "text/plain": [
       "0.38114172110195965"
      ]
     },
     "execution_count": 189,
     "metadata": {},
     "output_type": "execute_result"
    }
   ],
   "source": [
    "logit.score(X_train, y_train)"
   ]
  },
  {
   "cell_type": "code",
   "execution_count": 190,
   "id": "0c3075f1",
   "metadata": {},
   "outputs": [
    {
     "name": "stdout",
     "output_type": "stream",
     "text": [
      "              precision    recall  f1-score   support\n",
      "\n",
      "           0       1.00      0.16      0.27      2587\n",
      "           1       0.30      1.00      0.46       934\n",
      "\n",
      "    accuracy                           0.38      3521\n",
      "   macro avg       0.65      0.58      0.37      3521\n",
      "weighted avg       0.81      0.38      0.32      3521\n",
      "\n"
     ]
    }
   ],
   "source": [
    "print(classification_report(y_train, logit_pred))"
   ]
  },
  {
   "cell_type": "markdown",
   "id": "1502cb86",
   "metadata": {},
   "source": [
    "By far the worst so far, accuracy is 38%"
   ]
  },
  {
   "cell_type": "markdown",
   "id": "440029fe",
   "metadata": {},
   "source": [
    "## Logistic Regression #2 \n",
    "\n",
    "(Removing the class_weight to default)"
   ]
  },
  {
   "cell_type": "code",
   "execution_count": 22,
   "id": "11f781e4",
   "metadata": {},
   "outputs": [],
   "source": [
    "#creating the object\n",
    "logit2 = LogisticRegression(C=.1, random_state=42, \n",
    "                           intercept_scaling=1, solver='lbfgs')\n",
    "\n",
    "#fit the model\n",
    "logit2.fit(X_train, y_train)\n",
    "\n",
    "#make predictions\n",
    "logit_pred2 = logit2.predict(X_train)"
   ]
  },
  {
   "cell_type": "code",
   "execution_count": 24,
   "id": "9a8d6c1d",
   "metadata": {},
   "outputs": [
    {
     "data": {
      "text/plain": [
       "0.8046009656347628"
      ]
     },
     "execution_count": 24,
     "metadata": {},
     "output_type": "execute_result"
    }
   ],
   "source": [
    "logit2.score(X_train, y_train)"
   ]
  },
  {
   "cell_type": "code",
   "execution_count": 25,
   "id": "d4ce4b8b",
   "metadata": {},
   "outputs": [],
   "source": [
    "#estimate probability\n",
    "logit_pred_proba2 = logit2.predict_proba(X_train)"
   ]
  },
  {
   "cell_type": "code",
   "execution_count": 26,
   "id": "919b45d8",
   "metadata": {},
   "outputs": [
    {
     "name": "stdout",
     "output_type": "stream",
     "text": [
      "              precision    recall  f1-score   support\n",
      "\n",
      "           0       0.85      0.90      0.87      2587\n",
      "           1       0.66      0.55      0.60       934\n",
      "\n",
      "    accuracy                           0.80      3521\n",
      "   macro avg       0.75      0.72      0.73      3521\n",
      "weighted avg       0.80      0.80      0.80      3521\n",
      "\n"
     ]
    }
   ],
   "source": [
    "print(classification_report(y_train, logit_pred2))"
   ]
  },
  {
   "cell_type": "markdown",
   "id": "8df16b12",
   "metadata": {},
   "source": [
    "Performing *much* better at 81% accuracy"
   ]
  },
  {
   "cell_type": "markdown",
   "id": "ad792d22",
   "metadata": {},
   "source": [
    "## Logistic Regression #3 \n",
    "\n",
    "(Keeping the change in the second model, but also setting C to default)"
   ]
  },
  {
   "cell_type": "code",
   "execution_count": 27,
   "id": "9da257e2",
   "metadata": {},
   "outputs": [],
   "source": [
    "#creating the object\n",
    "logit3 = LogisticRegression(random_state=42, intercept_scaling=1, \n",
    "                            solver='lbfgs')\n",
    "\n",
    "#fit the model\n",
    "logit3.fit(X_train, y_train)\n",
    "\n",
    "#make predictions\n",
    "logit_pred3 = logit3.predict(X_train)"
   ]
  },
  {
   "cell_type": "code",
   "execution_count": 28,
   "id": "08cbc32c",
   "metadata": {},
   "outputs": [
    {
     "data": {
      "text/plain": [
       "0.8048849758591309"
      ]
     },
     "execution_count": 28,
     "metadata": {},
     "output_type": "execute_result"
    }
   ],
   "source": [
    "logit3.score(X_train, y_train)"
   ]
  },
  {
   "cell_type": "code",
   "execution_count": 29,
   "id": "ba0c8fc5",
   "metadata": {},
   "outputs": [
    {
     "name": "stdout",
     "output_type": "stream",
     "text": [
      "              precision    recall  f1-score   support\n",
      "\n",
      "           0       0.85      0.90      0.87      2587\n",
      "           1       0.66      0.54      0.60       934\n",
      "\n",
      "    accuracy                           0.80      3521\n",
      "   macro avg       0.75      0.72      0.73      3521\n",
      "weighted avg       0.80      0.80      0.80      3521\n",
      "\n"
     ]
    }
   ],
   "source": [
    "print(classification_report(y_train, logit_pred3))"
   ]
  },
  {
   "cell_type": "markdown",
   "id": "e78040b2",
   "metadata": {},
   "source": [
    "Model performed very slightly better than the previous, still 81% accuracy"
   ]
  },
  {
   "cell_type": "markdown",
   "id": "94130667",
   "metadata": {},
   "source": [
    "# Model Performances on Validate sets"
   ]
  },
  {
   "cell_type": "markdown",
   "id": "c6b8802c",
   "metadata": {},
   "source": [
    "## Decision Tree #1"
   ]
  },
  {
   "cell_type": "code",
   "execution_count": 208,
   "id": "c98c063f",
   "metadata": {},
   "outputs": [
    {
     "data": {
      "text/plain": [
       "0.7908187411263606"
      ]
     },
     "execution_count": 208,
     "metadata": {},
     "output_type": "execute_result"
    }
   ],
   "source": [
    "clf.score(X_validate, y_validate)"
   ]
  },
  {
   "cell_type": "markdown",
   "id": "fcd9cb63",
   "metadata": {},
   "source": [
    "## Decision Tree #2"
   ]
  },
  {
   "cell_type": "code",
   "execution_count": 209,
   "id": "e1f960b2",
   "metadata": {},
   "outputs": [
    {
     "data": {
      "text/plain": [
       "0.7879791765262659"
      ]
     },
     "execution_count": 209,
     "metadata": {},
     "output_type": "execute_result"
    }
   ],
   "source": [
    "clf2.score(X_validate, y_validate)"
   ]
  },
  {
   "cell_type": "markdown",
   "id": "a471dace",
   "metadata": {},
   "source": [
    "## Decision Tree #3"
   ]
  },
  {
   "cell_type": "code",
   "execution_count": 206,
   "id": "ae7e2209",
   "metadata": {},
   "outputs": [
    {
     "data": {
      "text/plain": [
       "0.7709417889256981"
      ]
     },
     "execution_count": 206,
     "metadata": {},
     "output_type": "execute_result"
    }
   ],
   "source": [
    "clf3.score(X_validate, y_validate)"
   ]
  },
  {
   "cell_type": "markdown",
   "id": "5457cca1",
   "metadata": {},
   "source": [
    "## Random Forest #1"
   ]
  },
  {
   "cell_type": "code",
   "execution_count": 211,
   "id": "cb322a4f",
   "metadata": {},
   "outputs": [
    {
     "data": {
      "text/plain": [
       "0.792238523426408"
      ]
     },
     "execution_count": 211,
     "metadata": {},
     "output_type": "execute_result"
    }
   ],
   "source": [
    "rf.score(X_validate, y_validate)"
   ]
  },
  {
   "cell_type": "markdown",
   "id": "aa1ca20b",
   "metadata": {},
   "source": [
    "## Random Forest #2"
   ]
  },
  {
   "cell_type": "code",
   "execution_count": 210,
   "id": "ae949a7c",
   "metadata": {
    "scrolled": true
   },
   "outputs": [
    {
     "data": {
      "text/plain": [
       "0.7993374349266446"
      ]
     },
     "execution_count": 210,
     "metadata": {},
     "output_type": "execute_result"
    }
   ],
   "source": [
    "rf2.score(X_validate, y_validate)"
   ]
  },
  {
   "cell_type": "markdown",
   "id": "11cb6b54",
   "metadata": {},
   "source": [
    "## Random forest #3"
   ]
  },
  {
   "cell_type": "code",
   "execution_count": 199,
   "id": "51abd126",
   "metadata": {},
   "outputs": [
    {
     "data": {
      "text/plain": [
       "0.8012304779933743"
      ]
     },
     "execution_count": 199,
     "metadata": {},
     "output_type": "execute_result"
    }
   ],
   "source": [
    "rf3.score(X_validate, y_validate)"
   ]
  },
  {
   "cell_type": "markdown",
   "id": "c24686fb",
   "metadata": {},
   "source": [
    "## KNN #1"
   ]
  },
  {
   "cell_type": "code",
   "execution_count": 212,
   "id": "1635783d",
   "metadata": {},
   "outputs": [
    {
     "data": {
      "text/plain": [
       "0.7662091812588736"
      ]
     },
     "execution_count": 212,
     "metadata": {},
     "output_type": "execute_result"
    }
   ],
   "source": [
    "knn.score(X_validate, y_validate)"
   ]
  },
  {
   "cell_type": "markdown",
   "id": "26343c1e",
   "metadata": {},
   "source": [
    "## KNN #2"
   ]
  },
  {
   "cell_type": "code",
   "execution_count": 213,
   "id": "4fb14b91",
   "metadata": {},
   "outputs": [
    {
     "data": {
      "text/plain": [
       "0.779460482725982"
      ]
     },
     "execution_count": 213,
     "metadata": {},
     "output_type": "execute_result"
    }
   ],
   "source": [
    "knn2.score(X_validate, y_validate)"
   ]
  },
  {
   "cell_type": "markdown",
   "id": "23a2986d",
   "metadata": {},
   "source": [
    "## KNN #3 model"
   ]
  },
  {
   "cell_type": "code",
   "execution_count": 200,
   "id": "6df05352",
   "metadata": {},
   "outputs": [
    {
     "data": {
      "text/plain": [
       "0.7439659252247989"
      ]
     },
     "execution_count": 200,
     "metadata": {},
     "output_type": "execute_result"
    }
   ],
   "source": [
    "knn3.score(X_validate, y_validate)"
   ]
  },
  {
   "cell_type": "markdown",
   "id": "cc19e852",
   "metadata": {},
   "source": [
    "## Logistic Regression #1"
   ]
  },
  {
   "cell_type": "code",
   "execution_count": 214,
   "id": "a072b042",
   "metadata": {},
   "outputs": [
    {
     "data": {
      "text/plain": [
       "0.3729294841457643"
      ]
     },
     "execution_count": 214,
     "metadata": {},
     "output_type": "execute_result"
    }
   ],
   "source": [
    "logit.score(X_validate, y_validate)"
   ]
  },
  {
   "cell_type": "markdown",
   "id": "dc3dc92c",
   "metadata": {},
   "source": [
    "## Logistic Regression #2"
   ]
  },
  {
   "cell_type": "code",
   "execution_count": 216,
   "id": "c82a5eae",
   "metadata": {},
   "outputs": [
    {
     "data": {
      "text/plain": [
       "0.808329389493611"
      ]
     },
     "execution_count": 216,
     "metadata": {},
     "output_type": "execute_result"
    }
   ],
   "source": [
    "logit2.score(X_validate, y_validate)"
   ]
  },
  {
   "cell_type": "markdown",
   "id": "53f754d0",
   "metadata": {},
   "source": [
    "## Logistic Regression #3"
   ]
  },
  {
   "cell_type": "code",
   "execution_count": 217,
   "id": "8e04fd68",
   "metadata": {},
   "outputs": [
    {
     "data": {
      "text/plain": [
       "0.8069096071935636"
      ]
     },
     "execution_count": 217,
     "metadata": {},
     "output_type": "execute_result"
    }
   ],
   "source": [
    "logit3.score(X_validate, y_validate)"
   ]
  },
  {
   "cell_type": "markdown",
   "id": "d8fb78ce",
   "metadata": {},
   "source": [
    "# Best models"
   ]
  },
  {
   "cell_type": "markdown",
   "id": "e98648c5",
   "metadata": {},
   "source": [
    "My best models on the validates sets are:\n",
    "\n",
    "1. Logistic Regression #2\n",
    "2. Logistic Regression #3\n",
    "3. Random Forest #2\n",
    "4. Decision Tree #1"
   ]
  },
  {
   "cell_type": "markdown",
   "id": "ecb8a4b5",
   "metadata": {},
   "source": [
    "## Best model on test data"
   ]
  },
  {
   "cell_type": "code",
   "execution_count": 72,
   "id": "6000db3d",
   "metadata": {},
   "outputs": [
    {
     "data": {
      "text/plain": [
       "0.8062455642299503"
      ]
     },
     "execution_count": 72,
     "metadata": {},
     "output_type": "execute_result"
    }
   ],
   "source": [
    "logit2.score(X_test, y_test)"
   ]
  },
  {
   "cell_type": "code",
   "execution_count": 33,
   "id": "ea9659cb",
   "metadata": {},
   "outputs": [],
   "source": [
    "logit_test_proba = logit2.predict_proba(X_test)"
   ]
  },
  {
   "cell_type": "code",
   "execution_count": 39,
   "id": "0ff840d7",
   "metadata": {},
   "outputs": [],
   "source": [
    "logit_test_proba = pd.DataFrame(logit_test_proba)"
   ]
  },
  {
   "cell_type": "code",
   "execution_count": 34,
   "id": "c0314ada",
   "metadata": {},
   "outputs": [],
   "source": [
    "logit_test_pred = logit2.predict(X_test)"
   ]
  },
  {
   "cell_type": "code",
   "execution_count": 40,
   "id": "52328053",
   "metadata": {},
   "outputs": [],
   "source": [
    "logit_test_pred = pd.DataFrame(logit_test_pred)"
   ]
  },
  {
   "cell_type": "code",
   "execution_count": 52,
   "id": "45cba1f2",
   "metadata": {},
   "outputs": [],
   "source": [
    "test_cust_id = test['customer_id']"
   ]
  },
  {
   "cell_type": "code",
   "execution_count": 53,
   "id": "5e7b5465",
   "metadata": {
    "scrolled": true
   },
   "outputs": [
    {
     "data": {
      "text/plain": [
       "254     0379-DJQHR\n",
       "1141    1680-VDCWW\n",
       "1532    2239-CGBUZ\n",
       "474     0691-IFBQW\n",
       "623     0916-KNFAJ\n",
       "           ...    \n",
       "998     1448-PWKYE\n",
       "4034    5688-KZTSN\n",
       "3149    4521-YEEHE\n",
       "4448    6266-QHOJZ\n",
       "4723    6651-RLGGM\n",
       "Name: customer_id, Length: 1409, dtype: object"
      ]
     },
     "execution_count": 53,
     "metadata": {},
     "output_type": "execute_result"
    }
   ],
   "source": [
    "#customer ids from test data\n",
    "test_cust_id"
   ]
  },
  {
   "cell_type": "code",
   "execution_count": 56,
   "id": "8b70db26",
   "metadata": {},
   "outputs": [],
   "source": [
    "logit_test_proba = logit_test_proba.drop(columns=0)"
   ]
  },
  {
   "cell_type": "code",
   "execution_count": 57,
   "id": "8c2211a0",
   "metadata": {},
   "outputs": [
    {
     "data": {
      "text/html": [
       "<div>\n",
       "<style scoped>\n",
       "    .dataframe tbody tr th:only-of-type {\n",
       "        vertical-align: middle;\n",
       "    }\n",
       "\n",
       "    .dataframe tbody tr th {\n",
       "        vertical-align: top;\n",
       "    }\n",
       "\n",
       "    .dataframe thead th {\n",
       "        text-align: right;\n",
       "    }\n",
       "</style>\n",
       "<table border=\"1\" class=\"dataframe\">\n",
       "  <thead>\n",
       "    <tr style=\"text-align: right;\">\n",
       "      <th></th>\n",
       "      <th>1</th>\n",
       "    </tr>\n",
       "  </thead>\n",
       "  <tbody>\n",
       "    <tr>\n",
       "      <th>0</th>\n",
       "      <td>0.011464</td>\n",
       "    </tr>\n",
       "    <tr>\n",
       "      <th>1</th>\n",
       "      <td>0.102684</td>\n",
       "    </tr>\n",
       "    <tr>\n",
       "      <th>2</th>\n",
       "      <td>0.030554</td>\n",
       "    </tr>\n",
       "    <tr>\n",
       "      <th>3</th>\n",
       "      <td>0.348520</td>\n",
       "    </tr>\n",
       "    <tr>\n",
       "      <th>4</th>\n",
       "      <td>0.019507</td>\n",
       "    </tr>\n",
       "    <tr>\n",
       "      <th>...</th>\n",
       "      <td>...</td>\n",
       "    </tr>\n",
       "    <tr>\n",
       "      <th>1404</th>\n",
       "      <td>0.598517</td>\n",
       "    </tr>\n",
       "    <tr>\n",
       "      <th>1405</th>\n",
       "      <td>0.187708</td>\n",
       "    </tr>\n",
       "    <tr>\n",
       "      <th>1406</th>\n",
       "      <td>0.602915</td>\n",
       "    </tr>\n",
       "    <tr>\n",
       "      <th>1407</th>\n",
       "      <td>0.074710</td>\n",
       "    </tr>\n",
       "    <tr>\n",
       "      <th>1408</th>\n",
       "      <td>0.002219</td>\n",
       "    </tr>\n",
       "  </tbody>\n",
       "</table>\n",
       "<p>1409 rows × 1 columns</p>\n",
       "</div>"
      ],
      "text/plain": [
       "             1\n",
       "0     0.011464\n",
       "1     0.102684\n",
       "2     0.030554\n",
       "3     0.348520\n",
       "4     0.019507\n",
       "...        ...\n",
       "1404  0.598517\n",
       "1405  0.187708\n",
       "1406  0.602915\n",
       "1407  0.074710\n",
       "1408  0.002219\n",
       "\n",
       "[1409 rows x 1 columns]"
      ]
     },
     "execution_count": 57,
     "metadata": {},
     "output_type": "execute_result"
    }
   ],
   "source": [
    "logit_test_proba"
   ]
  },
  {
   "cell_type": "code",
   "execution_count": 54,
   "id": "6e07c6c2",
   "metadata": {},
   "outputs": [
    {
     "data": {
      "text/html": [
       "<div>\n",
       "<style scoped>\n",
       "    .dataframe tbody tr th:only-of-type {\n",
       "        vertical-align: middle;\n",
       "    }\n",
       "\n",
       "    .dataframe tbody tr th {\n",
       "        vertical-align: top;\n",
       "    }\n",
       "\n",
       "    .dataframe thead th {\n",
       "        text-align: right;\n",
       "    }\n",
       "</style>\n",
       "<table border=\"1\" class=\"dataframe\">\n",
       "  <thead>\n",
       "    <tr style=\"text-align: right;\">\n",
       "      <th></th>\n",
       "      <th>0</th>\n",
       "    </tr>\n",
       "  </thead>\n",
       "  <tbody>\n",
       "    <tr>\n",
       "      <th>0</th>\n",
       "      <td>0</td>\n",
       "    </tr>\n",
       "    <tr>\n",
       "      <th>1</th>\n",
       "      <td>0</td>\n",
       "    </tr>\n",
       "    <tr>\n",
       "      <th>2</th>\n",
       "      <td>0</td>\n",
       "    </tr>\n",
       "    <tr>\n",
       "      <th>3</th>\n",
       "      <td>0</td>\n",
       "    </tr>\n",
       "    <tr>\n",
       "      <th>4</th>\n",
       "      <td>0</td>\n",
       "    </tr>\n",
       "    <tr>\n",
       "      <th>...</th>\n",
       "      <td>...</td>\n",
       "    </tr>\n",
       "    <tr>\n",
       "      <th>1404</th>\n",
       "      <td>1</td>\n",
       "    </tr>\n",
       "    <tr>\n",
       "      <th>1405</th>\n",
       "      <td>0</td>\n",
       "    </tr>\n",
       "    <tr>\n",
       "      <th>1406</th>\n",
       "      <td>1</td>\n",
       "    </tr>\n",
       "    <tr>\n",
       "      <th>1407</th>\n",
       "      <td>0</td>\n",
       "    </tr>\n",
       "    <tr>\n",
       "      <th>1408</th>\n",
       "      <td>0</td>\n",
       "    </tr>\n",
       "  </tbody>\n",
       "</table>\n",
       "<p>1409 rows × 1 columns</p>\n",
       "</div>"
      ],
      "text/plain": [
       "      0\n",
       "0     0\n",
       "1     0\n",
       "2     0\n",
       "3     0\n",
       "4     0\n",
       "...  ..\n",
       "1404  1\n",
       "1405  0\n",
       "1406  1\n",
       "1407  0\n",
       "1408  0\n",
       "\n",
       "[1409 rows x 1 columns]"
      ]
     },
     "execution_count": 54,
     "metadata": {},
     "output_type": "execute_result"
    }
   ],
   "source": [
    "logit_test_pred"
   ]
  },
  {
   "cell_type": "code",
   "execution_count": 59,
   "id": "b4f6b060",
   "metadata": {},
   "outputs": [],
   "source": [
    "predictions = pd.DataFrame(test_cust_id)"
   ]
  },
  {
   "cell_type": "code",
   "execution_count": 61,
   "id": "6801deec",
   "metadata": {},
   "outputs": [],
   "source": [
    "predictions.reset_index(inplace=True)"
   ]
  },
  {
   "cell_type": "code",
   "execution_count": 63,
   "id": "88e47bb8",
   "metadata": {},
   "outputs": [],
   "source": [
    "predictions = pd.concat([predictions, \n",
    "                         logit_test_proba, \n",
    "                         logit_test_pred], axis=1)"
   ]
  },
  {
   "cell_type": "code",
   "execution_count": 65,
   "id": "d94e6a52",
   "metadata": {},
   "outputs": [],
   "source": [
    "predictions = predictions.drop(columns='index')"
   ]
  },
  {
   "cell_type": "code",
   "execution_count": 66,
   "id": "e96e0048",
   "metadata": {},
   "outputs": [
    {
     "data": {
      "text/html": [
       "<div>\n",
       "<style scoped>\n",
       "    .dataframe tbody tr th:only-of-type {\n",
       "        vertical-align: middle;\n",
       "    }\n",
       "\n",
       "    .dataframe tbody tr th {\n",
       "        vertical-align: top;\n",
       "    }\n",
       "\n",
       "    .dataframe thead th {\n",
       "        text-align: right;\n",
       "    }\n",
       "</style>\n",
       "<table border=\"1\" class=\"dataframe\">\n",
       "  <thead>\n",
       "    <tr style=\"text-align: right;\">\n",
       "      <th></th>\n",
       "      <th>customer_id</th>\n",
       "      <th>1</th>\n",
       "      <th>0</th>\n",
       "    </tr>\n",
       "  </thead>\n",
       "  <tbody>\n",
       "    <tr>\n",
       "      <th>0</th>\n",
       "      <td>0379-DJQHR</td>\n",
       "      <td>0.011464</td>\n",
       "      <td>0</td>\n",
       "    </tr>\n",
       "    <tr>\n",
       "      <th>1</th>\n",
       "      <td>1680-VDCWW</td>\n",
       "      <td>0.102684</td>\n",
       "      <td>0</td>\n",
       "    </tr>\n",
       "    <tr>\n",
       "      <th>2</th>\n",
       "      <td>2239-CGBUZ</td>\n",
       "      <td>0.030554</td>\n",
       "      <td>0</td>\n",
       "    </tr>\n",
       "    <tr>\n",
       "      <th>3</th>\n",
       "      <td>0691-IFBQW</td>\n",
       "      <td>0.348520</td>\n",
       "      <td>0</td>\n",
       "    </tr>\n",
       "    <tr>\n",
       "      <th>4</th>\n",
       "      <td>0916-KNFAJ</td>\n",
       "      <td>0.019507</td>\n",
       "      <td>0</td>\n",
       "    </tr>\n",
       "    <tr>\n",
       "      <th>...</th>\n",
       "      <td>...</td>\n",
       "      <td>...</td>\n",
       "      <td>...</td>\n",
       "    </tr>\n",
       "    <tr>\n",
       "      <th>1404</th>\n",
       "      <td>1448-PWKYE</td>\n",
       "      <td>0.598517</td>\n",
       "      <td>1</td>\n",
       "    </tr>\n",
       "    <tr>\n",
       "      <th>1405</th>\n",
       "      <td>5688-KZTSN</td>\n",
       "      <td>0.187708</td>\n",
       "      <td>0</td>\n",
       "    </tr>\n",
       "    <tr>\n",
       "      <th>1406</th>\n",
       "      <td>4521-YEEHE</td>\n",
       "      <td>0.602915</td>\n",
       "      <td>1</td>\n",
       "    </tr>\n",
       "    <tr>\n",
       "      <th>1407</th>\n",
       "      <td>6266-QHOJZ</td>\n",
       "      <td>0.074710</td>\n",
       "      <td>0</td>\n",
       "    </tr>\n",
       "    <tr>\n",
       "      <th>1408</th>\n",
       "      <td>6651-RLGGM</td>\n",
       "      <td>0.002219</td>\n",
       "      <td>0</td>\n",
       "    </tr>\n",
       "  </tbody>\n",
       "</table>\n",
       "<p>1409 rows × 3 columns</p>\n",
       "</div>"
      ],
      "text/plain": [
       "     customer_id         1  0\n",
       "0     0379-DJQHR  0.011464  0\n",
       "1     1680-VDCWW  0.102684  0\n",
       "2     2239-CGBUZ  0.030554  0\n",
       "3     0691-IFBQW  0.348520  0\n",
       "4     0916-KNFAJ  0.019507  0\n",
       "...          ...       ... ..\n",
       "1404  1448-PWKYE  0.598517  1\n",
       "1405  5688-KZTSN  0.187708  0\n",
       "1406  4521-YEEHE  0.602915  1\n",
       "1407  6266-QHOJZ  0.074710  0\n",
       "1408  6651-RLGGM  0.002219  0\n",
       "\n",
       "[1409 rows x 3 columns]"
      ]
     },
     "execution_count": 66,
     "metadata": {},
     "output_type": "execute_result"
    }
   ],
   "source": [
    "predictions"
   ]
  },
  {
   "cell_type": "code",
   "execution_count": 69,
   "id": "9cd23a14",
   "metadata": {},
   "outputs": [],
   "source": [
    "predictions = predictions.rename(columns= {1: 'probability_of_churn', \n",
    "                                           0: 'prediction_of_churn'})"
   ]
  },
  {
   "cell_type": "code",
   "execution_count": 70,
   "id": "359e929c",
   "metadata": {},
   "outputs": [
    {
     "data": {
      "text/html": [
       "<div>\n",
       "<style scoped>\n",
       "    .dataframe tbody tr th:only-of-type {\n",
       "        vertical-align: middle;\n",
       "    }\n",
       "\n",
       "    .dataframe tbody tr th {\n",
       "        vertical-align: top;\n",
       "    }\n",
       "\n",
       "    .dataframe thead th {\n",
       "        text-align: right;\n",
       "    }\n",
       "</style>\n",
       "<table border=\"1\" class=\"dataframe\">\n",
       "  <thead>\n",
       "    <tr style=\"text-align: right;\">\n",
       "      <th></th>\n",
       "      <th>customer_id</th>\n",
       "      <th>probability_of_churn</th>\n",
       "      <th>prediction_of_churn</th>\n",
       "    </tr>\n",
       "  </thead>\n",
       "  <tbody>\n",
       "    <tr>\n",
       "      <th>0</th>\n",
       "      <td>0379-DJQHR</td>\n",
       "      <td>0.011464</td>\n",
       "      <td>0</td>\n",
       "    </tr>\n",
       "    <tr>\n",
       "      <th>1</th>\n",
       "      <td>1680-VDCWW</td>\n",
       "      <td>0.102684</td>\n",
       "      <td>0</td>\n",
       "    </tr>\n",
       "    <tr>\n",
       "      <th>2</th>\n",
       "      <td>2239-CGBUZ</td>\n",
       "      <td>0.030554</td>\n",
       "      <td>0</td>\n",
       "    </tr>\n",
       "    <tr>\n",
       "      <th>3</th>\n",
       "      <td>0691-IFBQW</td>\n",
       "      <td>0.348520</td>\n",
       "      <td>0</td>\n",
       "    </tr>\n",
       "    <tr>\n",
       "      <th>4</th>\n",
       "      <td>0916-KNFAJ</td>\n",
       "      <td>0.019507</td>\n",
       "      <td>0</td>\n",
       "    </tr>\n",
       "    <tr>\n",
       "      <th>...</th>\n",
       "      <td>...</td>\n",
       "      <td>...</td>\n",
       "      <td>...</td>\n",
       "    </tr>\n",
       "    <tr>\n",
       "      <th>1404</th>\n",
       "      <td>1448-PWKYE</td>\n",
       "      <td>0.598517</td>\n",
       "      <td>1</td>\n",
       "    </tr>\n",
       "    <tr>\n",
       "      <th>1405</th>\n",
       "      <td>5688-KZTSN</td>\n",
       "      <td>0.187708</td>\n",
       "      <td>0</td>\n",
       "    </tr>\n",
       "    <tr>\n",
       "      <th>1406</th>\n",
       "      <td>4521-YEEHE</td>\n",
       "      <td>0.602915</td>\n",
       "      <td>1</td>\n",
       "    </tr>\n",
       "    <tr>\n",
       "      <th>1407</th>\n",
       "      <td>6266-QHOJZ</td>\n",
       "      <td>0.074710</td>\n",
       "      <td>0</td>\n",
       "    </tr>\n",
       "    <tr>\n",
       "      <th>1408</th>\n",
       "      <td>6651-RLGGM</td>\n",
       "      <td>0.002219</td>\n",
       "      <td>0</td>\n",
       "    </tr>\n",
       "  </tbody>\n",
       "</table>\n",
       "<p>1409 rows × 3 columns</p>\n",
       "</div>"
      ],
      "text/plain": [
       "     customer_id  probability_of_churn  prediction_of_churn\n",
       "0     0379-DJQHR              0.011464                    0\n",
       "1     1680-VDCWW              0.102684                    0\n",
       "2     2239-CGBUZ              0.030554                    0\n",
       "3     0691-IFBQW              0.348520                    0\n",
       "4     0916-KNFAJ              0.019507                    0\n",
       "...          ...                   ...                  ...\n",
       "1404  1448-PWKYE              0.598517                    1\n",
       "1405  5688-KZTSN              0.187708                    0\n",
       "1406  4521-YEEHE              0.602915                    1\n",
       "1407  6266-QHOJZ              0.074710                    0\n",
       "1408  6651-RLGGM              0.002219                    0\n",
       "\n",
       "[1409 rows x 3 columns]"
      ]
     },
     "execution_count": 70,
     "metadata": {},
     "output_type": "execute_result"
    }
   ],
   "source": [
    "predictions"
   ]
  },
  {
   "cell_type": "code",
   "execution_count": 86,
   "id": "5c655ca1",
   "metadata": {},
   "outputs": [
    {
     "data": {
      "text/plain": [
       "0.23066004258339248"
      ]
     },
     "execution_count": 86,
     "metadata": {},
     "output_type": "execute_result"
    }
   ],
   "source": [
    "(predictions['prediction_of_churn'] == 1).mean()"
   ]
  },
  {
   "cell_type": "code",
   "execution_count": 71,
   "id": "b854f5fd",
   "metadata": {},
   "outputs": [],
   "source": [
    "predictions.to_csv('predictions.csv')"
   ]
  },
  {
   "cell_type": "markdown",
   "id": "eb260ae6",
   "metadata": {},
   "source": [
    "Accuracy stayed very close to the validate result, at 80%"
   ]
  },
  {
   "cell_type": "markdown",
   "id": "b83d7c9a",
   "metadata": {},
   "source": [
    "# Visualizations"
   ]
  },
  {
   "cell_type": "markdown",
   "id": "9cdbc22c",
   "metadata": {},
   "source": [
    "## Provide the context of the target variable through a visualization (distribution of the values, e.g.)\n",
    "\n"
   ]
  },
  {
   "cell_type": "code",
   "execution_count": 88,
   "id": "d7374815",
   "metadata": {},
   "outputs": [
    {
     "data": {
      "text/html": [
       "<div>\n",
       "<style scoped>\n",
       "    .dataframe tbody tr th:only-of-type {\n",
       "        vertical-align: middle;\n",
       "    }\n",
       "\n",
       "    .dataframe tbody tr th {\n",
       "        vertical-align: top;\n",
       "    }\n",
       "\n",
       "    .dataframe thead th {\n",
       "        text-align: right;\n",
       "    }\n",
       "</style>\n",
       "<table border=\"1\" class=\"dataframe\">\n",
       "  <thead>\n",
       "    <tr style=\"text-align: right;\">\n",
       "      <th></th>\n",
       "      <th>customer_id</th>\n",
       "      <th>senior_citizen</th>\n",
       "      <th>tenure</th>\n",
       "      <th>monthly_charges</th>\n",
       "      <th>total_charges</th>\n",
       "      <th>contract_type</th>\n",
       "      <th>internet_service_type</th>\n",
       "      <th>churn_Yes</th>\n",
       "      <th>gender_Male</th>\n",
       "      <th>partner_Yes</th>\n",
       "      <th>dependents_Yes</th>\n",
       "      <th>phone_service_Yes</th>\n",
       "      <th>multiple_lines_Yes</th>\n",
       "      <th>online_security_Yes</th>\n",
       "      <th>online_backup_Yes</th>\n",
       "      <th>device_protection_Yes</th>\n",
       "      <th>tech_support_Yes</th>\n",
       "      <th>streaming_tv_Yes</th>\n",
       "      <th>streaming_movies_Yes</th>\n",
       "      <th>paperless_billing_Yes</th>\n",
       "      <th>contract_type_Month-to-month</th>\n",
       "      <th>contract_type_One year</th>\n",
       "      <th>contract_type_Two year</th>\n",
       "      <th>internet_service_type_DSL</th>\n",
       "      <th>internet_service_type_Fiber optic</th>\n",
       "      <th>internet_service_type_None</th>\n",
       "      <th>payment_type_Bank transfer (automatic)</th>\n",
       "      <th>payment_type_Credit card (automatic)</th>\n",
       "      <th>payment_type_Electronic check</th>\n",
       "      <th>payment_type_Mailed check</th>\n",
       "      <th>baseline</th>\n",
       "    </tr>\n",
       "  </thead>\n",
       "  <tbody>\n",
       "    <tr>\n",
       "      <th>0</th>\n",
       "      <td>0002-ORFBO</td>\n",
       "      <td>0</td>\n",
       "      <td>9</td>\n",
       "      <td>65.6</td>\n",
       "      <td>593.3</td>\n",
       "      <td>One year</td>\n",
       "      <td>DSL</td>\n",
       "      <td>0</td>\n",
       "      <td>0</td>\n",
       "      <td>1</td>\n",
       "      <td>1</td>\n",
       "      <td>1</td>\n",
       "      <td>0</td>\n",
       "      <td>0</td>\n",
       "      <td>1</td>\n",
       "      <td>0</td>\n",
       "      <td>1</td>\n",
       "      <td>1</td>\n",
       "      <td>0</td>\n",
       "      <td>1</td>\n",
       "      <td>0</td>\n",
       "      <td>1</td>\n",
       "      <td>0</td>\n",
       "      <td>1</td>\n",
       "      <td>0</td>\n",
       "      <td>0</td>\n",
       "      <td>0</td>\n",
       "      <td>0</td>\n",
       "      <td>0</td>\n",
       "      <td>1</td>\n",
       "      <td>0</td>\n",
       "    </tr>\n",
       "  </tbody>\n",
       "</table>\n",
       "</div>"
      ],
      "text/plain": [
       "  customer_id  senior_citizen  tenure  monthly_charges  total_charges  \\\n",
       "0  0002-ORFBO               0       9             65.6          593.3   \n",
       "\n",
       "  contract_type internet_service_type  churn_Yes  gender_Male  partner_Yes  \\\n",
       "0      One year                   DSL          0            0            1   \n",
       "\n",
       "   dependents_Yes  phone_service_Yes  multiple_lines_Yes  online_security_Yes  \\\n",
       "0               1                  1                   0                    0   \n",
       "\n",
       "   online_backup_Yes  device_protection_Yes  tech_support_Yes  \\\n",
       "0                  1                      0                 1   \n",
       "\n",
       "   streaming_tv_Yes  streaming_movies_Yes  paperless_billing_Yes  \\\n",
       "0                 1                     0                      1   \n",
       "\n",
       "   contract_type_Month-to-month  contract_type_One year  \\\n",
       "0                             0                       1   \n",
       "\n",
       "   contract_type_Two year  internet_service_type_DSL  \\\n",
       "0                       0                          1   \n",
       "\n",
       "   internet_service_type_Fiber optic  internet_service_type_None  \\\n",
       "0                                  0                           0   \n",
       "\n",
       "   payment_type_Bank transfer (automatic)  \\\n",
       "0                                       0   \n",
       "\n",
       "   payment_type_Credit card (automatic)  payment_type_Electronic check  \\\n",
       "0                                     0                              0   \n",
       "\n",
       "   payment_type_Mailed check  baseline  \n",
       "0                          1         0  "
      ]
     },
     "execution_count": 88,
     "metadata": {},
     "output_type": "execute_result"
    }
   ],
   "source": [
    "data.head(1)"
   ]
  },
  {
   "cell_type": "code",
   "execution_count": 99,
   "id": "1d02ef03",
   "metadata": {},
   "outputs": [
    {
     "data": {
      "image/png": "[encoded data removed]",
      "text/plain": [
       "<Figure size 640x480 with 1 Axes>"
      ]
     },
     "metadata": {},
     "output_type": "display_data"
    }
   ],
   "source": [
    "sns.barplot(x='contract_type',\n",
    "            y='churn_Yes',\n",
    "            hue='internet_service_type',\n",
    "            data=data)\n",
    "\n",
    "plt.title(\"How Internet and Contract Types Affect Churn\")\n",
    "plt.ylabel(\"Has Churned\")\n",
    "plt.xlabel(\"Contract Type\")\n",
    "plt.show()"
   ]
  },
  {
   "cell_type": "markdown",
   "id": "8ec8e2b5",
   "metadata": {},
   "source": [
    "## On your best model, a chart visualizing how it performed on test would be valuable.\n",
    "\n"
   ]
  },
  {
   "cell_type": "code",
   "execution_count": 105,
   "id": "dfbd7bc2",
   "metadata": {},
   "outputs": [
    {
     "data": {
      "text/html": [
       "<div>\n",
       "<style scoped>\n",
       "    .dataframe tbody tr th:only-of-type {\n",
       "        vertical-align: middle;\n",
       "    }\n",
       "\n",
       "    .dataframe tbody tr th {\n",
       "        vertical-align: top;\n",
       "    }\n",
       "\n",
       "    .dataframe thead th {\n",
       "        text-align: right;\n",
       "    }\n",
       "</style>\n",
       "<table border=\"1\" class=\"dataframe\">\n",
       "  <thead>\n",
       "    <tr style=\"text-align: right;\">\n",
       "      <th></th>\n",
       "      <th>customer_id</th>\n",
       "      <th>senior_citizen</th>\n",
       "      <th>tenure</th>\n",
       "      <th>monthly_charges</th>\n",
       "      <th>total_charges</th>\n",
       "      <th>contract_type</th>\n",
       "      <th>internet_service_type</th>\n",
       "      <th>churn_Yes</th>\n",
       "      <th>gender_Male</th>\n",
       "      <th>partner_Yes</th>\n",
       "      <th>dependents_Yes</th>\n",
       "      <th>phone_service_Yes</th>\n",
       "      <th>multiple_lines_Yes</th>\n",
       "      <th>online_security_Yes</th>\n",
       "      <th>online_backup_Yes</th>\n",
       "      <th>device_protection_Yes</th>\n",
       "      <th>tech_support_Yes</th>\n",
       "      <th>streaming_tv_Yes</th>\n",
       "      <th>streaming_movies_Yes</th>\n",
       "      <th>paperless_billing_Yes</th>\n",
       "      <th>contract_type_Month-to-month</th>\n",
       "      <th>contract_type_One year</th>\n",
       "      <th>contract_type_Two year</th>\n",
       "      <th>internet_service_type_DSL</th>\n",
       "      <th>internet_service_type_Fiber optic</th>\n",
       "      <th>internet_service_type_None</th>\n",
       "      <th>payment_type_Bank transfer (automatic)</th>\n",
       "      <th>payment_type_Credit card (automatic)</th>\n",
       "      <th>payment_type_Electronic check</th>\n",
       "      <th>payment_type_Mailed check</th>\n",
       "    </tr>\n",
       "  </thead>\n",
       "  <tbody>\n",
       "    <tr>\n",
       "      <th>254</th>\n",
       "      <td>0379-DJQHR</td>\n",
       "      <td>0</td>\n",
       "      <td>67</td>\n",
       "      <td>81.35</td>\n",
       "      <td>5398.6</td>\n",
       "      <td>Two year</td>\n",
       "      <td>DSL</td>\n",
       "      <td>0</td>\n",
       "      <td>1</td>\n",
       "      <td>1</td>\n",
       "      <td>1</td>\n",
       "      <td>1</td>\n",
       "      <td>0</td>\n",
       "      <td>1</td>\n",
       "      <td>1</td>\n",
       "      <td>1</td>\n",
       "      <td>0</td>\n",
       "      <td>1</td>\n",
       "      <td>1</td>\n",
       "      <td>0</td>\n",
       "      <td>0</td>\n",
       "      <td>0</td>\n",
       "      <td>1</td>\n",
       "      <td>1</td>\n",
       "      <td>0</td>\n",
       "      <td>0</td>\n",
       "      <td>0</td>\n",
       "      <td>1</td>\n",
       "      <td>0</td>\n",
       "      <td>0</td>\n",
       "    </tr>\n",
       "  </tbody>\n",
       "</table>\n",
       "</div>"
      ],
      "text/plain": [
       "    customer_id  senior_citizen  tenure  monthly_charges  total_charges  \\\n",
       "254  0379-DJQHR               0      67            81.35         5398.6   \n",
       "\n",
       "    contract_type internet_service_type  churn_Yes  gender_Male  partner_Yes  \\\n",
       "254      Two year                   DSL          0            1            1   \n",
       "\n",
       "     dependents_Yes  phone_service_Yes  multiple_lines_Yes  \\\n",
       "254               1                  1                   0   \n",
       "\n",
       "     online_security_Yes  online_backup_Yes  device_protection_Yes  \\\n",
       "254                    1                  1                      1   \n",
       "\n",
       "     tech_support_Yes  streaming_tv_Yes  streaming_movies_Yes  \\\n",
       "254                 0                 1                     1   \n",
       "\n",
       "     paperless_billing_Yes  contract_type_Month-to-month  \\\n",
       "254                      0                             0   \n",
       "\n",
       "     contract_type_One year  contract_type_Two year  \\\n",
       "254                       0                       1   \n",
       "\n",
       "     internet_service_type_DSL  internet_service_type_Fiber optic  \\\n",
       "254                          1                                  0   \n",
       "\n",
       "     internet_service_type_None  payment_type_Bank transfer (automatic)  \\\n",
       "254                           0                                       0   \n",
       "\n",
       "     payment_type_Credit card (automatic)  payment_type_Electronic check  \\\n",
       "254                                     1                              0   \n",
       "\n",
       "     payment_type_Mailed check  \n",
       "254                          0  "
      ]
     },
     "execution_count": 105,
     "metadata": {},
     "output_type": "execute_result"
    }
   ],
   "source": [
    "test.head(1)"
   ]
  },
  {
   "cell_type": "code",
   "execution_count": 109,
   "id": "92ed8064",
   "metadata": {},
   "outputs": [],
   "source": [
    "test_pred = predictions['prediction_of_churn']"
   ]
  },
  {
   "cell_type": "code",
   "execution_count": 128,
   "id": "e4795c19",
   "metadata": {},
   "outputs": [],
   "source": [
    "test['baseline'] = test['churn_Yes'].value_counts().idxmax()"
   ]
  },
  {
   "cell_type": "code",
   "execution_count": 111,
   "id": "12380519",
   "metadata": {},
   "outputs": [
    {
     "data": {
      "text/plain": [
       "0.7345635202271115"
      ]
     },
     "execution_count": 111,
     "metadata": {},
     "output_type": "execute_result"
    }
   ],
   "source": [
    "(test['churn_Yes'] == test['baseline']).mean()"
   ]
  },
  {
   "cell_type": "code",
   "execution_count": 133,
   "id": "a7162621",
   "metadata": {},
   "outputs": [],
   "source": [
    "test = pd.concat([test, test_pred], axis=1)"
   ]
  },
  {
   "cell_type": "code",
   "execution_count": 131,
   "id": "adde172f",
   "metadata": {},
   "outputs": [],
   "source": [
    "test = test.reset_index()"
   ]
  },
  {
   "cell_type": "code",
   "execution_count": 160,
   "id": "e2c6e3bf",
   "metadata": {},
   "outputs": [
    {
     "data": {
      "image/png": "[encoded data removed]",
      "text/plain": [
       "<Figure size 640x480 with 1 Axes>"
      ]
     },
     "metadata": {},
     "output_type": "display_data"
    },
    {
     "data": {
      "image/png": "[encoded data removed]",
      "text/plain": [
       "<Figure size 640x480 with 1 Axes>"
      ]
     },
     "metadata": {},
     "output_type": "display_data"
    }
   ],
   "source": [
    "data = [73, 27]\n",
    "labels = ['Baseline Correct', 'Baseline Incorrect']\n",
    "\n",
    "colors = sns.color_palette('pastel')[0:2]\n",
    "\n",
    "plt.pie(data, labels=labels, colors=colors, autopct='%.0f%%')\n",
    "plt.title(\"Baseline Accuracy\")\n",
    "plt.show()\n",
    "\n",
    "data1 = [81, 19]\n",
    "labels1 = ['Model Correct', 'Model Incorrect']\n",
    "\n",
    "colors = sns.color_palette('pastel')[2:4]\n",
    "\n",
    "plt.pie(data1, labels=labels1, colors=colors, autopct='%.0f%%')\n",
    "plt.title(\"Best Performing Model\")\n",
    "plt.show()"
   ]
  },
  {
   "cell_type": "markdown",
   "id": "60b4e9d3",
   "metadata": {},
   "source": [
    "# Final takeaways and Recommedations"
   ]
  },
  {
   "cell_type": "markdown",
   "id": "c61de1a2",
   "metadata": {},
   "source": [
    "Takeaways:\n",
    "\n",
    "- Gender and Age aren't huge facotrs when it comes to churn\n",
    "- The **biggest** factor seems to be Contract type with internet type also playing a significant role\n",
    "- Customers that had fiber optic internet rather than DSL or no internet churned much more \n",
    "\n",
    "Recommendations\n",
    "\n",
    "- Provide better support for customers with fiber optic internet\n",
    "- Make improvements to month to month contract plans to make it more appealing to customers\n",
    "- alternatively, or in addition to the above, make the one and two year contract types more appealing as customers with those churned significantly less\n"
   ]
  },
  {
   "cell_type": "markdown",
   "id": "7f37ef4c",
   "metadata": {},
   "source": [
    "# functions made post project"
   ]
  },
  {
   "cell_type": "code",
   "execution_count": 11,
   "id": "b0292c23",
   "metadata": {},
   "outputs": [],
   "source": [
    "def make_baseline(df, baseline, col):\n",
    "    \n",
    "    df[baseline] = df[col].value_counts().idxmax()    \n",
    "\n",
    "    base = (df[col] == df[baseline]).mean()\n",
    "    \n",
    "    print(f'Baseline Accuracy is: {base:.3}')\n",
    "    "
   ]
  },
  {
   "cell_type": "code",
   "execution_count": 13,
   "id": "3e58ba66",
   "metadata": {},
   "outputs": [],
   "source": [
    "def chi2_report(df, col, target):\n",
    "    '''\n",
    "    This function is to be used to generate a crosstab for my observed data, and use that the run a chi2 test, and generate the report values from the test\n",
    "    '''\n",
    "    \n",
    "    observed = pd.crosstab(df[col], df[target])\n",
    "    \n",
    "    chi2, p, degf, expected = stats.chi2_contingency(observed)\n",
    "\n",
    "    alpha = .05\n",
    "    \n",
    "    print('Observed Values\\n')\n",
    "    print(observed.values)\n",
    "    \n",
    "    print('---\\nExpected Values\\n')\n",
    "    print(expected.astype(int))\n",
    "    print('---\\n')\n",
    "\n",
    "    print(f'chi^2 = {chi2:.4f}') \n",
    "    print(f'p     = {p:.4f}')\n",
    "\n",
    "    print('Is p-value < alpha?', p < alpha)"
   ]
  },
  {
   "cell_type": "code",
   "execution_count": 14,
   "id": "c218c0a5",
   "metadata": {},
   "outputs": [],
   "source": [
    "def xy_train(train):\n",
    "    \n",
    "    X_train = train.drop(columns=['contract_type', \n",
    "                                  'internet_service_type', \n",
    "                                  'churn_Yes',\n",
    "                                  'customer_id'])\n",
    "    y_train = train.churn_Yes\n",
    "\n",
    "    X_validate = val.drop(columns=['contract_type', \n",
    "                                   'internet_service_type', \n",
    "                                   'churn_Yes',\n",
    "                                   'customer_id'])\n",
    "    y_validate = val.churn_Yes\n",
    "\n",
    "    X_test = test.drop(columns=['contract_type', \n",
    "                                'internet_service_type', \n",
    "                                'churn_Yes',\n",
    "                                'customer_id'])\n",
    "    y_test = test.churn_Yes"
   ]
  },
  {
   "cell_type": "code",
   "execution_count": null,
   "id": "ce4c72e0",
   "metadata": {},
   "outputs": [],
   "source": []
  }
 ],
 "metadata": {
  "kernelspec": {
   "display_name": "Python 3 (ipykernel)",
   "language": "python",
   "name": "python3"
  },
  "language_info": {
   "codemirror_mode": {
    "name": "ipython",
    "version": 3
   },
   "file_extension": ".py",
   "mimetype": "text/x-python",
   "name": "python",
   "nbconvert_exporter": "python",
   "pygments_lexer": "ipython3",
   "version": "3.9.15"
  },
  "toc": {
   "base_numbering": 1,
   "nav_menu": {},
   "number_sections": true,
   "sideBar": true,
   "skip_h1_title": false,
   "title_cell": "Table of Contents",
   "title_sidebar": "Contents",
   "toc_cell": false,
   "toc_position": {
    "height": "calc(100% - 180px)",
    "left": "10px",
    "top": "150px",
    "width": "165px"
   },
   "toc_section_display": true,
   "toc_window_display": true
  }
 },
 "nbformat": 4,
 "nbformat_minor": 5
}
